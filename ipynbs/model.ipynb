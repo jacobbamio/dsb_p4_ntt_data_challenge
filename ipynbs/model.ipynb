{
 "cells": [
  {
   "cell_type": "code",
   "execution_count": 25,
   "id": "a98c4a57",
   "metadata": {},
   "outputs": [
    {
     "name": "stdout",
     "output_type": "stream",
     "text": [
      "/Users/jacob/Documents/git-repositories/coisigna/dsb_p4_ntt_data_challenge\n"
     ]
    }
   ],
   "source": [
    "import numpy as np\n",
    "import pandas as pd\n",
    "import matplotlib.pyplot as plt\n",
    "import seaborn as sns\n",
    "import pickle\n",
    "import joblib\n",
    "%cd dsb_p4_ntt_data_challenge\n",
    "from pys import functions\n",
    "\n",
    "from sklearn.preprocessing import MinMaxScaler\n",
    "from sklearn.model_selection import train_test_split\n",
    "from sklearn.neighbors import KNeighborsClassifier\n",
    "from sklearn.neighbors import RadiusNeighborsClassifier\n",
    "from sklearn.neighbors import NearestCentroid\n",
    "from sklearn.naive_bayes import GaussianNB\n",
    "from sklearn.linear_model import LogisticRegression\n",
    "from sklearn.tree import DecisionTreeClassifier\n",
    "from sklearn.ensemble import RandomForestClassifier\n",
    "from sklearn.svm import SVC\n",
    "from sklearn.ensemble import AdaBoostClassifier\n",
    "from sklearn.ensemble import GradientBoostingClassifier\n",
    "\n",
    "from sklearn.metrics import jaccard_score\n",
    "from sklearn.metrics import accuracy_score\n",
    "from sklearn.metrics import precision_score\n",
    "from sklearn.metrics import recall_score\n",
    "from sklearn.metrics import f1_score\n",
    "from sklearn.metrics import roc_auc_score\n",
    "\n",
    "from sklearn.metrics import confusion_matrix\n",
    "from sklearn.metrics import classification_report\n",
    "\n",
    "from sklearn.model_selection import GridSearchCV"
   ]
  },
  {
   "cell_type": "code",
   "execution_count": 26,
   "id": "0192479c",
   "metadata": {},
   "outputs": [],
   "source": [
    "df = pd.read_csv(\"resources/train_cleaned.csv\")"
   ]
  },
  {
   "cell_type": "code",
   "execution_count": 20,
   "id": "a16b9574",
   "metadata": {},
   "outputs": [
    {
     "data": {
      "text/plain": [
       "Index(['Unnamed: 0', 'edad', 'trabajo', 'deuda', 'saldo', 'vivienda',\n",
       "       'prestamo', 'duracion', 'fecha_contacto', 'campaign',\n",
       "       'tiempo_transcurrido', 'contactos_anteriores', 'target', 'contactado',\n",
       "       'desconocido', 'fijo', 'movil', 'casado', 'divorciado', 'soltero',\n",
       "       'exito', 'nuevo_cliente', 'otro', 'sin_exito', 'primaria',\n",
       "       'secundaria/superiores', 'universitarios'],\n",
       "      dtype='object')"
      ]
     },
     "execution_count": 20,
     "metadata": {},
     "output_type": "execute_result"
    }
   ],
   "source": [
    "df.columns"
   ]
  },
  {
   "cell_type": "code",
   "execution_count": 27,
   "id": "beed2d20",
   "metadata": {},
   "outputs": [
    {
     "data": {
      "text/html": [
       "<div>\n",
       "<style scoped>\n",
       "    .dataframe tbody tr th:only-of-type {\n",
       "        vertical-align: middle;\n",
       "    }\n",
       "\n",
       "    .dataframe tbody tr th {\n",
       "        vertical-align: top;\n",
       "    }\n",
       "\n",
       "    .dataframe thead th {\n",
       "        text-align: right;\n",
       "    }\n",
       "</style>\n",
       "<table border=\"1\" class=\"dataframe\">\n",
       "  <thead>\n",
       "    <tr style=\"text-align: right;\">\n",
       "      <th></th>\n",
       "      <th>Unnamed: 0</th>\n",
       "      <th>edad</th>\n",
       "      <th>trabajo</th>\n",
       "      <th>deuda</th>\n",
       "      <th>saldo</th>\n",
       "      <th>vivienda</th>\n",
       "      <th>prestamo</th>\n",
       "      <th>duracion</th>\n",
       "      <th>fecha_contacto</th>\n",
       "      <th>campaign</th>\n",
       "      <th>...</th>\n",
       "      <th>casado</th>\n",
       "      <th>divorciado</th>\n",
       "      <th>soltero</th>\n",
       "      <th>exito</th>\n",
       "      <th>nuevo_cliente</th>\n",
       "      <th>otro</th>\n",
       "      <th>sin_exito</th>\n",
       "      <th>primaria</th>\n",
       "      <th>secundaria/superiores</th>\n",
       "      <th>universitarios</th>\n",
       "    </tr>\n",
       "  </thead>\n",
       "  <tbody>\n",
       "    <tr>\n",
       "      <th>0</th>\n",
       "      <td>0</td>\n",
       "      <td>40.0</td>\n",
       "      <td>1.0</td>\n",
       "      <td>0.0</td>\n",
       "      <td>580.0</td>\n",
       "      <td>1.0</td>\n",
       "      <td>0.0</td>\n",
       "      <td>192.0</td>\n",
       "      <td>1.621116e+09</td>\n",
       "      <td>1.0</td>\n",
       "      <td>...</td>\n",
       "      <td>1.0</td>\n",
       "      <td>0.0</td>\n",
       "      <td>0.0</td>\n",
       "      <td>0.0</td>\n",
       "      <td>1.0</td>\n",
       "      <td>0.0</td>\n",
       "      <td>0.0</td>\n",
       "      <td>0</td>\n",
       "      <td>1</td>\n",
       "      <td>0</td>\n",
       "    </tr>\n",
       "    <tr>\n",
       "      <th>1</th>\n",
       "      <td>1</td>\n",
       "      <td>47.0</td>\n",
       "      <td>7.0</td>\n",
       "      <td>0.0</td>\n",
       "      <td>3644.0</td>\n",
       "      <td>0.0</td>\n",
       "      <td>0.0</td>\n",
       "      <td>83.0</td>\n",
       "      <td>1.623190e+09</td>\n",
       "      <td>2.0</td>\n",
       "      <td>...</td>\n",
       "      <td>0.0</td>\n",
       "      <td>0.0</td>\n",
       "      <td>1.0</td>\n",
       "      <td>0.0</td>\n",
       "      <td>1.0</td>\n",
       "      <td>0.0</td>\n",
       "      <td>0.0</td>\n",
       "      <td>0</td>\n",
       "      <td>1</td>\n",
       "      <td>0</td>\n",
       "    </tr>\n",
       "    <tr>\n",
       "      <th>2</th>\n",
       "      <td>2</td>\n",
       "      <td>25.0</td>\n",
       "      <td>8.0</td>\n",
       "      <td>0.0</td>\n",
       "      <td>538.0</td>\n",
       "      <td>1.0</td>\n",
       "      <td>0.0</td>\n",
       "      <td>226.0</td>\n",
       "      <td>1.618870e+09</td>\n",
       "      <td>1.0</td>\n",
       "      <td>...</td>\n",
       "      <td>0.0</td>\n",
       "      <td>0.0</td>\n",
       "      <td>1.0</td>\n",
       "      <td>0.0</td>\n",
       "      <td>1.0</td>\n",
       "      <td>0.0</td>\n",
       "      <td>0.0</td>\n",
       "      <td>0</td>\n",
       "      <td>0</td>\n",
       "      <td>1</td>\n",
       "    </tr>\n",
       "    <tr>\n",
       "      <th>3</th>\n",
       "      <td>3</td>\n",
       "      <td>42.0</td>\n",
       "      <td>4.0</td>\n",
       "      <td>0.0</td>\n",
       "      <td>1773.0</td>\n",
       "      <td>0.0</td>\n",
       "      <td>0.0</td>\n",
       "      <td>311.0</td>\n",
       "      <td>1.617919e+09</td>\n",
       "      <td>1.0</td>\n",
       "      <td>...</td>\n",
       "      <td>1.0</td>\n",
       "      <td>0.0</td>\n",
       "      <td>0.0</td>\n",
       "      <td>0.0</td>\n",
       "      <td>0.0</td>\n",
       "      <td>0.0</td>\n",
       "      <td>1.0</td>\n",
       "      <td>0</td>\n",
       "      <td>0</td>\n",
       "      <td>1</td>\n",
       "    </tr>\n",
       "    <tr>\n",
       "      <th>4</th>\n",
       "      <td>4</td>\n",
       "      <td>56.0</td>\n",
       "      <td>4.0</td>\n",
       "      <td>0.0</td>\n",
       "      <td>217.0</td>\n",
       "      <td>0.0</td>\n",
       "      <td>1.0</td>\n",
       "      <td>121.0</td>\n",
       "      <td>1.626818e+09</td>\n",
       "      <td>2.0</td>\n",
       "      <td>...</td>\n",
       "      <td>1.0</td>\n",
       "      <td>0.0</td>\n",
       "      <td>0.0</td>\n",
       "      <td>0.0</td>\n",
       "      <td>1.0</td>\n",
       "      <td>0.0</td>\n",
       "      <td>0.0</td>\n",
       "      <td>0</td>\n",
       "      <td>0</td>\n",
       "      <td>1</td>\n",
       "    </tr>\n",
       "    <tr>\n",
       "      <th>...</th>\n",
       "      <td>...</td>\n",
       "      <td>...</td>\n",
       "      <td>...</td>\n",
       "      <td>...</td>\n",
       "      <td>...</td>\n",
       "      <td>...</td>\n",
       "      <td>...</td>\n",
       "      <td>...</td>\n",
       "      <td>...</td>\n",
       "      <td>...</td>\n",
       "      <td>...</td>\n",
       "      <td>...</td>\n",
       "      <td>...</td>\n",
       "      <td>...</td>\n",
       "      <td>...</td>\n",
       "      <td>...</td>\n",
       "      <td>...</td>\n",
       "      <td>...</td>\n",
       "      <td>...</td>\n",
       "      <td>...</td>\n",
       "      <td>...</td>\n",
       "    </tr>\n",
       "    <tr>\n",
       "      <th>44251</th>\n",
       "      <td>44251</td>\n",
       "      <td>38.0</td>\n",
       "      <td>4.0</td>\n",
       "      <td>0.0</td>\n",
       "      <td>-323.0</td>\n",
       "      <td>1.0</td>\n",
       "      <td>0.0</td>\n",
       "      <td>250.0</td>\n",
       "      <td>1.623190e+09</td>\n",
       "      <td>1.0</td>\n",
       "      <td>...</td>\n",
       "      <td>1.0</td>\n",
       "      <td>0.0</td>\n",
       "      <td>0.0</td>\n",
       "      <td>0.0</td>\n",
       "      <td>1.0</td>\n",
       "      <td>0.0</td>\n",
       "      <td>0.0</td>\n",
       "      <td>0</td>\n",
       "      <td>1</td>\n",
       "      <td>0</td>\n",
       "    </tr>\n",
       "    <tr>\n",
       "      <th>44252</th>\n",
       "      <td>44252</td>\n",
       "      <td>49.0</td>\n",
       "      <td>9.0</td>\n",
       "      <td>0.0</td>\n",
       "      <td>1982.0</td>\n",
       "      <td>1.0</td>\n",
       "      <td>1.0</td>\n",
       "      <td>73.0</td>\n",
       "      <td>1.629583e+09</td>\n",
       "      <td>15.0</td>\n",
       "      <td>...</td>\n",
       "      <td>1.0</td>\n",
       "      <td>0.0</td>\n",
       "      <td>0.0</td>\n",
       "      <td>0.0</td>\n",
       "      <td>1.0</td>\n",
       "      <td>0.0</td>\n",
       "      <td>0.0</td>\n",
       "      <td>0</td>\n",
       "      <td>1</td>\n",
       "      <td>0</td>\n",
       "    </tr>\n",
       "    <tr>\n",
       "      <th>44253</th>\n",
       "      <td>44253</td>\n",
       "      <td>51.0</td>\n",
       "      <td>1.0</td>\n",
       "      <td>0.0</td>\n",
       "      <td>794.0</td>\n",
       "      <td>1.0</td>\n",
       "      <td>0.0</td>\n",
       "      <td>747.0</td>\n",
       "      <td>1.627078e+09</td>\n",
       "      <td>1.0</td>\n",
       "      <td>...</td>\n",
       "      <td>1.0</td>\n",
       "      <td>0.0</td>\n",
       "      <td>0.0</td>\n",
       "      <td>0.0</td>\n",
       "      <td>1.0</td>\n",
       "      <td>0.0</td>\n",
       "      <td>0.0</td>\n",
       "      <td>0</td>\n",
       "      <td>1</td>\n",
       "      <td>0</td>\n",
       "    </tr>\n",
       "    <tr>\n",
       "      <th>44254</th>\n",
       "      <td>44254</td>\n",
       "      <td>29.0</td>\n",
       "      <td>1.0</td>\n",
       "      <td>0.0</td>\n",
       "      <td>98.0</td>\n",
       "      <td>0.0</td>\n",
       "      <td>0.0</td>\n",
       "      <td>170.0</td>\n",
       "      <td>1.628546e+09</td>\n",
       "      <td>2.0</td>\n",
       "      <td>...</td>\n",
       "      <td>0.0</td>\n",
       "      <td>0.0</td>\n",
       "      <td>1.0</td>\n",
       "      <td>0.0</td>\n",
       "      <td>1.0</td>\n",
       "      <td>0.0</td>\n",
       "      <td>0.0</td>\n",
       "      <td>0</td>\n",
       "      <td>0</td>\n",
       "      <td>1</td>\n",
       "    </tr>\n",
       "    <tr>\n",
       "      <th>44255</th>\n",
       "      <td>44255</td>\n",
       "      <td>32.0</td>\n",
       "      <td>9.0</td>\n",
       "      <td>0.0</td>\n",
       "      <td>321.0</td>\n",
       "      <td>1.0</td>\n",
       "      <td>0.0</td>\n",
       "      <td>156.0</td>\n",
       "      <td>1.628633e+09</td>\n",
       "      <td>2.0</td>\n",
       "      <td>...</td>\n",
       "      <td>0.0</td>\n",
       "      <td>0.0</td>\n",
       "      <td>1.0</td>\n",
       "      <td>0.0</td>\n",
       "      <td>1.0</td>\n",
       "      <td>0.0</td>\n",
       "      <td>0.0</td>\n",
       "      <td>0</td>\n",
       "      <td>1</td>\n",
       "      <td>0</td>\n",
       "    </tr>\n",
       "  </tbody>\n",
       "</table>\n",
       "<p>44256 rows × 27 columns</p>\n",
       "</div>"
      ],
      "text/plain": [
       "       Unnamed: 0  edad  trabajo  deuda   saldo  vivienda  prestamo  duracion  \\\n",
       "0               0  40.0      1.0    0.0   580.0       1.0       0.0     192.0   \n",
       "1               1  47.0      7.0    0.0  3644.0       0.0       0.0      83.0   \n",
       "2               2  25.0      8.0    0.0   538.0       1.0       0.0     226.0   \n",
       "3               3  42.0      4.0    0.0  1773.0       0.0       0.0     311.0   \n",
       "4               4  56.0      4.0    0.0   217.0       0.0       1.0     121.0   \n",
       "...           ...   ...      ...    ...     ...       ...       ...       ...   \n",
       "44251       44251  38.0      4.0    0.0  -323.0       1.0       0.0     250.0   \n",
       "44252       44252  49.0      9.0    0.0  1982.0       1.0       1.0      73.0   \n",
       "44253       44253  51.0      1.0    0.0   794.0       1.0       0.0     747.0   \n",
       "44254       44254  29.0      1.0    0.0    98.0       0.0       0.0     170.0   \n",
       "44255       44255  32.0      9.0    0.0   321.0       1.0       0.0     156.0   \n",
       "\n",
       "       fecha_contacto  campaign  ...  casado  divorciado  soltero  exito  \\\n",
       "0        1.621116e+09       1.0  ...     1.0         0.0      0.0    0.0   \n",
       "1        1.623190e+09       2.0  ...     0.0         0.0      1.0    0.0   \n",
       "2        1.618870e+09       1.0  ...     0.0         0.0      1.0    0.0   \n",
       "3        1.617919e+09       1.0  ...     1.0         0.0      0.0    0.0   \n",
       "4        1.626818e+09       2.0  ...     1.0         0.0      0.0    0.0   \n",
       "...               ...       ...  ...     ...         ...      ...    ...   \n",
       "44251    1.623190e+09       1.0  ...     1.0         0.0      0.0    0.0   \n",
       "44252    1.629583e+09      15.0  ...     1.0         0.0      0.0    0.0   \n",
       "44253    1.627078e+09       1.0  ...     1.0         0.0      0.0    0.0   \n",
       "44254    1.628546e+09       2.0  ...     0.0         0.0      1.0    0.0   \n",
       "44255    1.628633e+09       2.0  ...     0.0         0.0      1.0    0.0   \n",
       "\n",
       "       nuevo_cliente  otro  sin_exito  primaria  secundaria/superiores  \\\n",
       "0                1.0   0.0        0.0         0                      1   \n",
       "1                1.0   0.0        0.0         0                      1   \n",
       "2                1.0   0.0        0.0         0                      0   \n",
       "3                0.0   0.0        1.0         0                      0   \n",
       "4                1.0   0.0        0.0         0                      0   \n",
       "...              ...   ...        ...       ...                    ...   \n",
       "44251            1.0   0.0        0.0         0                      1   \n",
       "44252            1.0   0.0        0.0         0                      1   \n",
       "44253            1.0   0.0        0.0         0                      1   \n",
       "44254            1.0   0.0        0.0         0                      0   \n",
       "44255            1.0   0.0        0.0         0                      1   \n",
       "\n",
       "       universitarios  \n",
       "0                   0  \n",
       "1                   0  \n",
       "2                   1  \n",
       "3                   1  \n",
       "4                   1  \n",
       "...               ...  \n",
       "44251               0  \n",
       "44252               0  \n",
       "44253               0  \n",
       "44254               1  \n",
       "44255               0  \n",
       "\n",
       "[44256 rows x 27 columns]"
      ]
     },
     "execution_count": 27,
     "metadata": {},
     "output_type": "execute_result"
    }
   ],
   "source": [
    "df"
   ]
  },
  {
   "cell_type": "code",
   "execution_count": 29,
   "id": "3e85bced",
   "metadata": {},
   "outputs": [],
   "source": [
    "X = np.array(df.drop([\"target\",\"Unnamed: 0\"], axis = 1))"
   ]
  },
  {
   "cell_type": "code",
   "execution_count": 30,
   "id": "99b89aa7",
   "metadata": {},
   "outputs": [
    {
     "data": {
      "text/plain": [
       "25"
      ]
     },
     "execution_count": 30,
     "metadata": {},
     "output_type": "execute_result"
    }
   ],
   "source": [
    "len(X[0])"
   ]
  },
  {
   "cell_type": "code",
   "execution_count": 31,
   "id": "d325bec4",
   "metadata": {},
   "outputs": [],
   "source": [
    "y = np.array(df[\"target\"])"
   ]
  },
  {
   "cell_type": "code",
   "execution_count": 32,
   "id": "889fa233",
   "metadata": {},
   "outputs": [
    {
     "data": {
      "text/plain": [
       "((44256, 25), (44256,))"
      ]
     },
     "execution_count": 32,
     "metadata": {},
     "output_type": "execute_result"
    }
   ],
   "source": [
    "X.shape, y.shape"
   ]
  },
  {
   "cell_type": "code",
   "execution_count": 33,
   "id": "18b7cac7",
   "metadata": {},
   "outputs": [
    {
     "data": {
      "text/plain": [
       "array([[0.28571429, 0.09090909, 0.        , ..., 0.        , 1.        ,\n",
       "        0.        ],\n",
       "       [0.37662338, 0.63636364, 0.        , ..., 0.        , 1.        ,\n",
       "        0.        ],\n",
       "       [0.09090909, 0.72727273, 0.        , ..., 0.        , 0.        ,\n",
       "        1.        ],\n",
       "       ...,\n",
       "       [0.42857143, 0.09090909, 0.        , ..., 0.        , 1.        ,\n",
       "        0.        ],\n",
       "       [0.14285714, 0.09090909, 0.        , ..., 0.        , 0.        ,\n",
       "        1.        ],\n",
       "       [0.18181818, 0.81818182, 0.        , ..., 0.        , 1.        ,\n",
       "        0.        ]])"
      ]
     },
     "execution_count": 33,
     "metadata": {},
     "output_type": "execute_result"
    }
   ],
   "source": [
    "x_scaler = MinMaxScaler()\n",
    "X = x_scaler.fit_transform(X)\n",
    "\n",
    "joblib.dump(x_scaler, \"resources/x_scaler.pkl\")\n",
    "X"
   ]
  },
  {
   "cell_type": "code",
   "execution_count": 11,
   "id": "9ddfbe1f",
   "metadata": {},
   "outputs": [
    {
     "data": {
      "text/plain": [
       "array([[0.        , 0.28571429, 0.09090909, 0.        , 0.07806911,\n",
       "        1.        , 0.        , 0.03904026, 0.36200093, 0.        ,\n",
       "        0.        , 0.        , 0.        , 1.        , 0.        ,\n",
       "        0.        , 1.        , 0.        , 0.        , 0.        ,\n",
       "        1.        , 0.        , 0.        , 0.        , 1.        ,\n",
       "        0.        ]])"
      ]
     },
     "execution_count": 11,
     "metadata": {},
     "output_type": "execute_result"
    }
   ],
   "source": [
    "x_scaler.transform(np.array([X[0]]))"
   ]
  },
  {
   "cell_type": "code",
   "execution_count": null,
   "id": "78cdb745",
   "metadata": {},
   "outputs": [],
   "source": []
  },
  {
   "cell_type": "code",
   "execution_count": 34,
   "id": "b8eb4214",
   "metadata": {},
   "outputs": [
    {
     "name": "stdout",
     "output_type": "stream",
     "text": [
      "X_train: (30979, 25), y_train: (30979,)\n",
      "X_test: (13277, 25),  y_test: (13277,)\n"
     ]
    }
   ],
   "source": [
    "X_train, X_test, y_train, y_test = train_test_split(X, y, test_size = 0.3, random_state = 42)\n",
    "\n",
    "print(f\"X_train: {X_train.shape}, y_train: {y_train.shape}\")\n",
    "print(f\"X_test: {X_test.shape},  y_test: {y_test.shape}\")"
   ]
  },
  {
   "cell_type": "code",
   "execution_count": 13,
   "id": "2eda05a8",
   "metadata": {},
   "outputs": [],
   "source": [
    "# df_metrics = functions.train_classification_models(X_train, y_train, X_test, y_test)"
   ]
  },
  {
   "cell_type": "code",
   "execution_count": 14,
   "id": "6a7cd727",
   "metadata": {},
   "outputs": [
    {
     "name": "stderr",
     "output_type": "stream",
     "text": [
      "c:\\Users\\ignci\\anaconda3\\lib\\site-packages\\sklearn\\neighbors\\_classification.py:228: FutureWarning: Unlike other reduction functions (e.g. `skew`, `kurtosis`), the default behavior of `mode` typically preserves the axis it acts along. In SciPy 1.11.0, this behavior will change: the default value of `keepdims` will become False, the `axis` over which the statistic is taken will be eliminated, and the value None will no longer be accepted. Set `keepdims` to True or False to avoid this warning.\n",
      "  mode, _ = stats.mode(_y[neigh_ind, k], axis=1)\n",
      "c:\\Users\\ignci\\anaconda3\\lib\\site-packages\\sklearn\\linear_model\\_logistic.py:814: ConvergenceWarning: lbfgs failed to converge (status=1):\n",
      "STOP: TOTAL NO. of ITERATIONS REACHED LIMIT.\n",
      "\n",
      "Increase the number of iterations (max_iter) or scale the data as shown in:\n",
      "    https://scikit-learn.org/stable/modules/preprocessing.html\n",
      "Please also refer to the documentation for alternative solver options:\n",
      "    https://scikit-learn.org/stable/modules/linear_model.html#logistic-regression\n",
      "  n_iter_i = _check_optimize_result(\n"
     ]
    }
   ],
   "source": [
    "models = [KNeighborsClassifier(n_neighbors = 3), GaussianNB(), LogisticRegression(),DecisionTreeClassifier(), RandomForestClassifier(), SVC(), AdaBoostClassifier(), GradientBoostingClassifier()]\n",
    "    \n",
    "metrics = list()\n",
    "\n",
    "for model in models:\n",
    "    model.fit(X_train, y_train)\n",
    "    yhat = model.predict(X_test)\n",
    "\n",
    "    js = jaccard_score(y_test, yhat, average = \"macro\")\n",
    "    acc = accuracy_score(y_test, yhat)\n",
    "    precision = precision_score(y_test, yhat, average = \"macro\")\n",
    "    recall = recall_score(y_test, yhat, average = \"macro\")\n",
    "    f1 = f1_score(y_test, yhat, average = \"macro\")\n",
    "\n",
    "   \n",
    "    metrics.append([str(model), js, acc, precision, recall, f1, model])\n",
    "\n",
    "df_metrics = pd.DataFrame(data = metrics, columns = [\"model_name\", \"jaccard_score\", \"accuracy_score\", \"precision_score\", \"recall_score\", \"f1_score\", \"model\"])\n",
    "df_metrics.sort_values(by = \"accuracy_score\", ascending = False, inplace= True)"
   ]
  },
  {
   "cell_type": "code",
   "execution_count": 15,
   "id": "64ec4ef0",
   "metadata": {},
   "outputs": [
    {
     "data": {
      "text/html": [
       "<div>\n",
       "<style scoped>\n",
       "    .dataframe tbody tr th:only-of-type {\n",
       "        vertical-align: middle;\n",
       "    }\n",
       "\n",
       "    .dataframe tbody tr th {\n",
       "        vertical-align: top;\n",
       "    }\n",
       "\n",
       "    .dataframe thead th {\n",
       "        text-align: right;\n",
       "    }\n",
       "</style>\n",
       "<table border=\"1\" class=\"dataframe\">\n",
       "  <thead>\n",
       "    <tr style=\"text-align: right;\">\n",
       "      <th></th>\n",
       "      <th>model_name</th>\n",
       "      <th>jaccard_score</th>\n",
       "      <th>accuracy_score</th>\n",
       "      <th>precision_score</th>\n",
       "      <th>recall_score</th>\n",
       "      <th>f1_score</th>\n",
       "      <th>model</th>\n",
       "    </tr>\n",
       "  </thead>\n",
       "  <tbody>\n",
       "    <tr>\n",
       "      <th>7</th>\n",
       "      <td>GradientBoostingClassifier()</td>\n",
       "      <td>0.632719</td>\n",
       "      <td>0.912706</td>\n",
       "      <td>0.807251</td>\n",
       "      <td>0.701196</td>\n",
       "      <td>0.739141</td>\n",
       "      <td>([DecisionTreeRegressor(criterion='friedman_ms...</td>\n",
       "    </tr>\n",
       "    <tr>\n",
       "      <th>4</th>\n",
       "      <td>RandomForestClassifier()</td>\n",
       "      <td>0.614546</td>\n",
       "      <td>0.907057</td>\n",
       "      <td>0.786841</td>\n",
       "      <td>0.684692</td>\n",
       "      <td>0.720514</td>\n",
       "      <td>(DecisionTreeClassifier(max_features='auto', r...</td>\n",
       "    </tr>\n",
       "    <tr>\n",
       "      <th>6</th>\n",
       "      <td>AdaBoostClassifier()</td>\n",
       "      <td>0.611297</td>\n",
       "      <td>0.906530</td>\n",
       "      <td>0.785983</td>\n",
       "      <td>0.680630</td>\n",
       "      <td>0.716937</td>\n",
       "      <td>(DecisionTreeClassifier(max_depth=1, random_st...</td>\n",
       "    </tr>\n",
       "    <tr>\n",
       "      <th>2</th>\n",
       "      <td>LogisticRegression()</td>\n",
       "      <td>0.579855</td>\n",
       "      <td>0.902011</td>\n",
       "      <td>0.780045</td>\n",
       "      <td>0.641891</td>\n",
       "      <td>0.680381</td>\n",
       "      <td>LogisticRegression()</td>\n",
       "    </tr>\n",
       "    <tr>\n",
       "      <th>5</th>\n",
       "      <td>SVC()</td>\n",
       "      <td>0.533939</td>\n",
       "      <td>0.896061</td>\n",
       "      <td>0.771696</td>\n",
       "      <td>0.589605</td>\n",
       "      <td>0.620260</td>\n",
       "      <td>SVC()</td>\n",
       "    </tr>\n",
       "    <tr>\n",
       "      <th>0</th>\n",
       "      <td>KNeighborsClassifier(n_neighbors=3)</td>\n",
       "      <td>0.548954</td>\n",
       "      <td>0.885215</td>\n",
       "      <td>0.701077</td>\n",
       "      <td>0.621127</td>\n",
       "      <td>0.646434</td>\n",
       "      <td>KNeighborsClassifier(n_neighbors=3)</td>\n",
       "    </tr>\n",
       "    <tr>\n",
       "      <th>3</th>\n",
       "      <td>DecisionTreeClassifier()</td>\n",
       "      <td>0.591113</td>\n",
       "      <td>0.878738</td>\n",
       "      <td>0.699958</td>\n",
       "      <td>0.705490</td>\n",
       "      <td>0.702664</td>\n",
       "      <td>DecisionTreeClassifier()</td>\n",
       "    </tr>\n",
       "    <tr>\n",
       "      <th>1</th>\n",
       "      <td>GaussianNB()</td>\n",
       "      <td>0.505657</td>\n",
       "      <td>0.802139</td>\n",
       "      <td>0.606992</td>\n",
       "      <td>0.668081</td>\n",
       "      <td>0.622415</td>\n",
       "      <td>GaussianNB()</td>\n",
       "    </tr>\n",
       "  </tbody>\n",
       "</table>\n",
       "</div>"
      ],
      "text/plain": [
       "                            model_name  jaccard_score  accuracy_score  \\\n",
       "7         GradientBoostingClassifier()       0.632719        0.912706   \n",
       "4             RandomForestClassifier()       0.614546        0.907057   \n",
       "6                 AdaBoostClassifier()       0.611297        0.906530   \n",
       "2                 LogisticRegression()       0.579855        0.902011   \n",
       "5                                SVC()       0.533939        0.896061   \n",
       "0  KNeighborsClassifier(n_neighbors=3)       0.548954        0.885215   \n",
       "3             DecisionTreeClassifier()       0.591113        0.878738   \n",
       "1                         GaussianNB()       0.505657        0.802139   \n",
       "\n",
       "   precision_score  recall_score  f1_score  \\\n",
       "7         0.807251      0.701196  0.739141   \n",
       "4         0.786841      0.684692  0.720514   \n",
       "6         0.785983      0.680630  0.716937   \n",
       "2         0.780045      0.641891  0.680381   \n",
       "5         0.771696      0.589605  0.620260   \n",
       "0         0.701077      0.621127  0.646434   \n",
       "3         0.699958      0.705490  0.702664   \n",
       "1         0.606992      0.668081  0.622415   \n",
       "\n",
       "                                               model  \n",
       "7  ([DecisionTreeRegressor(criterion='friedman_ms...  \n",
       "4  (DecisionTreeClassifier(max_features='auto', r...  \n",
       "6  (DecisionTreeClassifier(max_depth=1, random_st...  \n",
       "2                               LogisticRegression()  \n",
       "5                                              SVC()  \n",
       "0                KNeighborsClassifier(n_neighbors=3)  \n",
       "3                           DecisionTreeClassifier()  \n",
       "1                                       GaussianNB()  "
      ]
     },
     "execution_count": 15,
     "metadata": {},
     "output_type": "execute_result"
    }
   ],
   "source": [
    "df_metrics"
   ]
  },
  {
   "cell_type": "code",
   "execution_count": null,
   "id": "169f2db9",
   "metadata": {},
   "outputs": [],
   "source": [
    "df_metrics.to_csv(\"metricas.csv\", index=False)"
   ]
  },
  {
   "cell_type": "markdown",
   "id": "72f714e9",
   "metadata": {},
   "source": [
    "### Validation & best parameters"
   ]
  },
  {
   "cell_type": "code",
   "execution_count": 71,
   "id": "d7d88bc4",
   "metadata": {},
   "outputs": [
    {
     "name": "stdout",
     "output_type": "stream",
     "text": [
      "0.7193622815284645\n",
      "0.7415173777384718\n",
      "0.9020585692505931\n",
      "0.6129536992752654\n",
      "****************************************************************************************************\n",
      "0.9043544977597564\n",
      "{'max_depth': 4, 'n_estimators': 400, 'subsample': 1}\n",
      "Wall time: 4min 44s\n"
     ]
    }
   ],
   "source": [
    "%%time\n",
    "\n",
    "model = df_metrics[\"model\"].values[0]\n",
    "\n",
    "params = {\"n_estimators\"           : [400, 500],\n",
    "          \"max_depth\"          : [4, 8],\n",
    "          \"subsample\"         : [0.5, 1]}\n",
    "           #\"n_iter_no_change\"  : [20, None]} \n",
    "#           \"criterion\"              : [\"mae\", \"friedman_mse\"], \n",
    "#           \"learning_rate\"          : [0.1, 0.05],\n",
    "#           \"max_depth\"              : [None], \n",
    "#           #\"max_features\"           : [2, 3], \n",
    "#           \"max_leaf_nodes\"         : [8, 10], \n",
    "#           \"min_impurity_decrease\"  : [0.02], \n",
    "#           \"min_samples_split\"      : [5, 7], \n",
    "#           \"validation_fraction\"    : [0.2]}\n",
    "\n",
    "\n",
    "scorers = {\"f1_macro\", \"accuracy\", \"recall_macro\", \"precision\"}\n",
    "\n",
    "grid_solver = GridSearchCV(estimator  = model    , \n",
    "                           param_grid = params   , \n",
    "                           scoring    = scorers  ,\n",
    "                           cv         = 5        ,\n",
    "                           refit      = \"accuracy\",\n",
    "                           n_jobs     = -1        )\n",
    "\n",
    "model_result = grid_solver.fit(X_train, y_train)\n",
    "\n",
    "print(model_result.cv_results_[\"mean_test_recall_macro\"].mean())\n",
    "print(model_result.cv_results_[\"mean_test_f1_macro\"].mean())\n",
    "print(model_result.cv_results_[\"mean_test_accuracy\"].mean())\n",
    "print(model_result.cv_results_[\"mean_test_precision\"].mean())\n",
    "\n",
    "print(\"*\"*100)\n",
    "\n",
    "print(model_result.best_score_)\n",
    "print(model_result.best_params_)"
   ]
  },
  {
   "cell_type": "code",
   "execution_count": null,
   "id": "0af95168",
   "metadata": {},
   "outputs": [],
   "source": [
    "model_result.best_estimator_"
   ]
  },
  {
   "cell_type": "code",
   "execution_count": null,
   "id": "0b489347",
   "metadata": {},
   "outputs": [],
   "source": [
    "yhat = model_result.best_estimator_.predict(X_test)\n",
    "\n",
    "print(\"Jaccard Index:\", jaccard_score(y_test, yhat, average = \"macro\"))\n",
    "print(\"Accuracy:\"     , accuracy_score(y_test, yhat))\n",
    "print(\"Precisión:\"    , precision_score(y_test, yhat, average = \"macro\"))\n",
    "print(\"Sensibilidad:\" , recall_score(y_test, yhat, average = \"macro\"))\n",
    "print(\"F1-score:\"     , f1_score(y_test, yhat, average = \"macro\"))\n",
    "print(\"ROC AUC:\"      , roc_auc_score(y_test, yhat))"
   ]
  },
  {
   "cell_type": "code",
   "execution_count": null,
   "id": "942a0652",
   "metadata": {},
   "outputs": [],
   "source": [
    "model_result.cv_results_"
   ]
  },
  {
   "cell_type": "code",
   "execution_count": null,
   "id": "b4e6a915",
   "metadata": {},
   "outputs": [],
   "source": []
  },
  {
   "cell_type": "markdown",
   "id": "99b6e3cc",
   "metadata": {},
   "source": [
    "### Model to train"
   ]
  },
  {
   "cell_type": "code",
   "execution_count": 31,
   "id": "4733d1c4",
   "metadata": {},
   "outputs": [
    {
     "name": "stdout",
     "output_type": "stream",
     "text": [
      "      Iter       Train Loss   Remaining Time \n",
      "         1           0.6852           10.14s\n",
      "         2           0.6661            7.69s\n",
      "         3           0.6499            6.70s\n",
      "         4           0.6264            6.19s\n",
      "         5           0.6160            5.64s\n",
      "         6           0.5980            5.52s\n",
      "         7           0.5865            5.21s\n",
      "         8           0.5753            5.02s\n",
      "         9           0.5678            4.82s\n",
      "        10           0.5620            4.70s\n",
      "        20           0.5199            4.28s\n",
      "        30           0.4876            3.97s\n",
      "        40           0.4663            3.84s\n",
      "        50           0.4542            3.69s\n",
      "        60           0.4396            3.58s\n",
      "        70           0.4289            3.40s\n",
      "        80           0.4205            3.32s\n",
      "        90           0.4149            3.19s\n",
      "       100           0.4091            3.08s\n",
      "       200           0.3727            2.03s\n"
     ]
    },
    {
     "data": {
      "text/plain": [
       "GradientBoostingClassifier(max_depth=4, max_features='log2', n_estimators=400,\n",
       "                           n_iter_no_change=20, subsample=1, verbose=1)"
      ]
     },
     "execution_count": 31,
     "metadata": {},
     "output_type": "execute_result"
    }
   ],
   "source": [
    "model = GradientBoostingClassifier(n_estimators = 400,\n",
    "                                   learning_rate = 0.1,\n",
    "                                   max_depth = 4,\n",
    "                                   subsample = 1,\n",
    "                                   validation_fraction = 0.1,\n",
    "                                   n_iter_no_change = 20,\n",
    "                                   max_features = \"log2\",\n",
    "                                   verbose = 1)\n",
    "model.fit(X_train, y_train)"
   ]
  },
  {
   "cell_type": "code",
   "execution_count": 34,
   "id": "0f6e4187",
   "metadata": {},
   "outputs": [
    {
     "name": "stdout",
     "output_type": "stream",
     "text": [
      "Jaccard Index: 0.6882898123774036\n",
      "Accuracy: 0.9267906906680726\n",
      "Precisión: 0.844382528366411\n",
      "Sensibilidad: 0.7572005749832207\n",
      "F1-score: 0.7922178866538686\n",
      "AUC Test: 0.7572005749832206\n"
     ]
    }
   ],
   "source": [
    "yhat = model.predict(X_test)\n",
    "\n",
    "yhat\n",
    "\n",
    "print(\"Jaccard Index:\", jaccard_score(y_test, yhat, average = \"macro\"))\n",
    "print(\"Accuracy:\"     , accuracy_score(y_test, yhat))\n",
    "print(\"Precisión:\"    , precision_score(y_test, yhat, average = \"macro\"))\n",
    "print(\"Sensibilidad:\" , recall_score(y_test, yhat, average = \"macro\"))\n",
    "print(\"F1-score:\"     , f1_score(y_test, yhat, average = \"macro\"))\n",
    "print(\"AUC Test:\"     , roc_auc_score(y_test, yhat))"
   ]
  },
  {
   "cell_type": "markdown",
   "id": "8bd46e8c",
   "metadata": {},
   "source": [
    "### Final training"
   ]
  },
  {
   "cell_type": "code",
   "execution_count": 35,
   "id": "adb33477",
   "metadata": {
    "scrolled": true
   },
   "outputs": [
    {
     "name": "stdout",
     "output_type": "stream",
     "text": [
      "      Iter       Train Loss      OOB Improve   Remaining Time \n",
      "         1           0.6729           0.0396           12.39s\n",
      "         2           0.6724           0.0140            9.06s\n",
      "         3           0.6384           0.0296            8.01s\n",
      "         4           0.6309           0.0111            7.51s\n",
      "         5           0.6096           0.0183            7.14s\n",
      "         6           0.5920           0.0126            6.97s\n",
      "         7           0.5947           0.0036            6.83s\n",
      "         8           0.5770           0.0109            6.80s\n",
      "         9           0.5722           0.0048            6.63s\n",
      "        10           0.5596           0.0044            6.44s\n",
      "        20           0.5049           0.0017            5.94s\n",
      "        30           0.4701           0.0015            5.77s\n",
      "        40           0.4501           0.0012            5.56s\n",
      "        50           0.4369           0.0009            5.34s\n",
      "        60           0.4366           0.0006            5.22s\n",
      "        70           0.4153           0.0005            5.10s\n",
      "        80           0.4066           0.0002            4.94s\n",
      "        90           0.4040           0.0001            4.80s\n",
      "       100           0.4090          -0.0001            4.68s\n",
      "       200           0.3790          -0.0001            3.43s\n",
      "       300           0.3636          -0.0001            2.28s\n"
     ]
    },
    {
     "data": {
      "text/plain": [
       "GradientBoostingClassifier(max_depth=4, max_features='log2', n_estimators=500,\n",
       "                           n_iter_no_change=20, subsample=0.5, verbose=1)"
      ]
     },
     "execution_count": 35,
     "metadata": {},
     "output_type": "execute_result"
    }
   ],
   "source": [
    "model = GradientBoostingClassifier(n_estimators = 500,\n",
    "                                   learning_rate = 0.1,\n",
    "                                   max_depth = 4,\n",
    "                                   subsample = 0.5,\n",
    "                                   validation_fraction = 0.1,\n",
    "                                   n_iter_no_change = 20,\n",
    "                                   max_features = \"log2\",\n",
    "                                   verbose = 1)\n",
    "model.fit(X, y)"
   ]
  },
  {
   "cell_type": "markdown",
   "id": "e9841909",
   "metadata": {},
   "source": [
    "### Download model"
   ]
  },
  {
   "cell_type": "code",
   "execution_count": 37,
   "id": "7ad5860f",
   "metadata": {},
   "outputs": [
    {
     "data": {
      "text/plain": [
       "['resources/model.pkl']"
      ]
     },
     "execution_count": 37,
     "metadata": {},
     "output_type": "execute_result"
    }
   ],
   "source": [
    "joblib.dump(model, \"resources/model.pkl\")"
   ]
  },
  {
   "cell_type": "code",
   "execution_count": 62,
   "id": "564c1c51",
   "metadata": {},
   "outputs": [
    {
     "data": {
      "text/plain": [
       "['joblib_model.gz']"
      ]
     },
     "execution_count": 62,
     "metadata": {},
     "output_type": "execute_result"
    }
   ],
   "source": [
    "joblib.dump(model, 'joblib_model.gz', compress= ('gzip', 3))"
   ]
  },
  {
   "cell_type": "code",
   "execution_count": null,
   "id": "06e1320a",
   "metadata": {},
   "outputs": [],
   "source": [
    "################################################################################################################################"
   ]
  },
  {
   "cell_type": "markdown",
   "id": "355afb6e",
   "metadata": {},
   "source": [
    "### Perceptron"
   ]
  },
  {
   "cell_type": "code",
   "execution_count": 52,
   "id": "4a2566d5",
   "metadata": {},
   "outputs": [],
   "source": [
    "from sklearn.linear_model import Perceptron"
   ]
  },
  {
   "cell_type": "code",
   "execution_count": 53,
   "id": "6643a223",
   "metadata": {},
   "outputs": [
    {
     "data": {
      "text/plain": [
       "Perceptron()"
      ]
     },
     "execution_count": 53,
     "metadata": {},
     "output_type": "execute_result"
    }
   ],
   "source": [
    "model = Perceptron()\n",
    "\n",
    "model.fit(X_train, y_train)"
   ]
  },
  {
   "cell_type": "code",
   "execution_count": 54,
   "id": "8fae37ad",
   "metadata": {},
   "outputs": [
    {
     "name": "stdout",
     "output_type": "stream",
     "text": [
      "Accuracy: 0.8188596821571138\n",
      "[[10014  1757]\n",
      " [  648   858]]\n"
     ]
    }
   ],
   "source": [
    "y_hat = model.predict(X_test)\n",
    "\n",
    "print(f\"Accuracy: {accuracy_score(y_test, y_hat)}\")\n",
    "\n",
    "print(confusion_matrix(y_test, y_hat))"
   ]
  },
  {
   "cell_type": "markdown",
   "id": "0c797703",
   "metadata": {},
   "source": [
    "## KNN"
   ]
  },
  {
   "cell_type": "code",
   "execution_count": null,
   "id": "15ceaeb6",
   "metadata": {},
   "outputs": [],
   "source": [
    "model = KNeighborsClassifier(n_neighbors = 3)"
   ]
  },
  {
   "cell_type": "code",
   "execution_count": null,
   "id": "f466416a",
   "metadata": {},
   "outputs": [],
   "source": [
    "model.fit(X_train, y_train)"
   ]
  },
  {
   "cell_type": "code",
   "execution_count": null,
   "id": "81051d75",
   "metadata": {},
   "outputs": [],
   "source": [
    "yhat = model.predict(X_test)\n",
    "\n",
    "yhat"
   ]
  },
  {
   "cell_type": "code",
   "execution_count": null,
   "id": "c50cc67d",
   "metadata": {},
   "outputs": [],
   "source": [
    "print(jaccard_score(y_test, yhat, average = \"macro\"))"
   ]
  },
  {
   "cell_type": "code",
   "execution_count": null,
   "id": "1f7bf959",
   "metadata": {},
   "outputs": [],
   "source": [
    "from sklearn.metrics import accuracy_score\n",
    "print(\"Jaccard Index:\", jaccard_score(y_test, yhat, average = \"macro\"))\n",
    "print(\"Accuracy:\"     , accuracy_score(y_test, yhat))\n",
    "print(\"Precisión:\"    , precision_score(y_test, yhat, average = \"macro\"))\n",
    "print(\"Sensibilidad:\" , recall_score(y_test, yhat, average = \"macro\"))\n",
    "print(\"F1-score:\"     , f1_score(y_test, yhat, average = \"macro\"))"
   ]
  },
  {
   "cell_type": "code",
   "execution_count": null,
   "id": "dc04e231",
   "metadata": {
    "scrolled": true
   },
   "outputs": [],
   "source": [
    "list_accuracy = list()\n",
    "\n",
    "for k in range(1, 100):\n",
    "    \n",
    "    # Modelo\n",
    "    model = KNeighborsClassifier(n_neighbors = k)\n",
    "    model.fit(X_train, y_train)\n",
    "    \n",
    "    # Predicciones\n",
    "    yhat = model.predict(X_test)\n",
    "    \n",
    "    # Metricas\n",
    "    accuracy = accuracy_score(y_test, yhat)\n",
    "    list_accuracy.append([k, accuracy])\n",
    "    \n",
    "    print(f\"k: {k}, Acurracy. {accuracy}\")"
   ]
  },
  {
   "cell_type": "code",
   "execution_count": null,
   "id": "160b481a",
   "metadata": {},
   "outputs": [],
   "source": [
    "list_accuracy = np.array(list_accuracy)"
   ]
  },
  {
   "cell_type": "code",
   "execution_count": null,
   "id": "7814e82c",
   "metadata": {},
   "outputs": [],
   "source": [
    "plt.figure(figsize = (10, 7))\n",
    "\n",
    "plt.plot(list_accuracy[:, 1])\n",
    "\n",
    "plt.ylabel(\"Accuracy\")\n",
    "plt.xlabel(\"Number of Neighbors (K)\")\n",
    "\n",
    "plt.show()"
   ]
  },
  {
   "cell_type": "code",
   "execution_count": null,
   "id": "12a5f03c",
   "metadata": {},
   "outputs": [],
   "source": [
    "mejor_indice = np.argmax(list_accuracy[:, 1])\n",
    "\n",
    "mejor_indice"
   ]
  },
  {
   "cell_type": "code",
   "execution_count": null,
   "id": "511dc113",
   "metadata": {},
   "outputs": [],
   "source": [
    "list_accuracy[mejor_indice, :]"
   ]
  },
  {
   "cell_type": "markdown",
   "id": "0cfc2559",
   "metadata": {},
   "source": [
    "## Radius neighbours"
   ]
  },
  {
   "cell_type": "code",
   "execution_count": null,
   "id": "67faf425",
   "metadata": {},
   "outputs": [],
   "source": [
    "model = RadiusNeighborsClassifier(radius = 0.9)\n",
    "model.fit(X_train, y_train)"
   ]
  },
  {
   "cell_type": "code",
   "execution_count": null,
   "id": "591af9a7",
   "metadata": {},
   "outputs": [],
   "source": [
    "yhat = model.predict(X_test)\n",
    "\n",
    "yhat"
   ]
  },
  {
   "cell_type": "code",
   "execution_count": null,
   "id": "1c3e5fdb",
   "metadata": {},
   "outputs": [],
   "source": [
    "print(f\"Accuracy: {accuracy_score(y_test, yhat)}\")"
   ]
  },
  {
   "cell_type": "code",
   "execution_count": null,
   "id": "46291a22",
   "metadata": {},
   "outputs": [],
   "source": [
    "%%time\n",
    "\n",
    "list_accuracy = list()\n",
    "# for radio in np.arange(0.2, 1, 0.001):\n",
    "for radio in [1/i for i in range(6, 0, -1)]:\n",
    "    \n",
    "    # Modelo\n",
    "    model = RadiusNeighborsClassifier(radius = radio)\n",
    "    model.fit(X_train, y_train)\n",
    "    \n",
    "    # Predicciones\n",
    "    yhat = model.predict(X_test)\n",
    "    \n",
    "    # Metricas\n",
    "    accuracy = accuracy_score(y_test, yhat)\n",
    "    list_accuracy.append([radio, accuracy])\n",
    "    \n",
    "pd.DataFrame(data = list_accuracy, columns = [\"Radio\", \"Accuracy\"])"
   ]
  },
  {
   "cell_type": "code",
   "execution_count": null,
   "id": "8c172b91",
   "metadata": {},
   "outputs": [],
   "source": [
    "list_accuracy = np.array(list_accuracy)"
   ]
  },
  {
   "cell_type": "code",
   "execution_count": null,
   "id": "75547e15",
   "metadata": {},
   "outputs": [],
   "source": [
    "plt.figure(figsize = (10, 7))\n",
    "\n",
    "plt.plot(list_accuracy[:, 1])\n",
    "\n",
    "plt.ylabel(\"Accuracy\")\n",
    "plt.xlabel(\"Number of Radius\")\n",
    "\n",
    "plt.xticks(ticks = range(len(list_accuracy[:, 0])), labels = np.round(list_accuracy[:, 0], 2))\n",
    "\n",
    "plt.show()"
   ]
  },
  {
   "cell_type": "markdown",
   "id": "1399580f",
   "metadata": {},
   "source": [
    "## Nearest centroid"
   ]
  },
  {
   "cell_type": "code",
   "execution_count": null,
   "id": "1be515c1",
   "metadata": {},
   "outputs": [],
   "source": [
    "model = NearestCentroid(metric = \"euclidean\")\n",
    "\n",
    "model.fit(X_train, y_train)"
   ]
  },
  {
   "cell_type": "code",
   "execution_count": null,
   "id": "26b4a1f1",
   "metadata": {},
   "outputs": [],
   "source": [
    "yhat = model.predict(X_test)\n",
    "\n",
    "yhat"
   ]
  },
  {
   "cell_type": "code",
   "execution_count": null,
   "id": "feabbba0",
   "metadata": {},
   "outputs": [],
   "source": [
    "print(\"Jaccard Index:\", jaccard_score(y_test, yhat, average = \"macro\"))\n",
    "print(\"Accuracy:\"     , accuracy_score(y_test, yhat))\n",
    "print(\"Precisión:\"    , precision_score(y_test, yhat, average = \"macro\"))\n",
    "print(\"Sensibilidad:\" , recall_score(y_test, yhat, average = \"macro\"))\n",
    "print(\"F1-score:\"     , f1_score(y_test, yhat, average = \"macro\"))"
   ]
  },
  {
   "cell_type": "code",
   "execution_count": null,
   "id": "d4d9c3a5",
   "metadata": {},
   "outputs": [],
   "source": [
    "confusion_matrix(y_test, yhat, labels = [0, 1])"
   ]
  },
  {
   "cell_type": "code",
   "execution_count": null,
   "id": "9ca4101d",
   "metadata": {},
   "outputs": [],
   "source": [
    "print(classification_report(y_test, yhat, digits = 3))"
   ]
  },
  {
   "cell_type": "code",
   "execution_count": null,
   "id": "77121ba2",
   "metadata": {},
   "outputs": [],
   "source": [
    "model.centroids_"
   ]
  },
  {
   "cell_type": "code",
   "execution_count": null,
   "id": "11a49257",
   "metadata": {},
   "outputs": [],
   "source": [
    "model.centroids_"
   ]
  },
  {
   "cell_type": "code",
   "execution_count": null,
   "id": "34bf6eb0",
   "metadata": {},
   "outputs": [],
   "source": [
    "model.n_features_in_"
   ]
  },
  {
   "cell_type": "code",
   "execution_count": null,
   "id": "afcc4cf0",
   "metadata": {},
   "outputs": [],
   "source": [
    "a, b = 0, 1\n",
    "\n",
    "plt.figure(figsize = (12, 8))\n",
    "\n",
    "sns.scatterplot(x = X[:, a], y = X[:, b], hue = y, palette = \"viridis\")\n",
    "\n",
    "plt.plot(model.centroids_[0][a], model.centroids_[0][b], marker = \"*\", markersize = 12, color = \"red\")\n",
    "plt.plot(model.centroids_[1][a], model.centroids_[1][b], marker = \"*\", markersize = 12, color = \"red\")\n",
    "plt.plot(model.centroids_[2][a], model.centroids_[2][b], marker = \"*\", markersize = 12, color = \"red\")\n",
    "\n",
    "plt.show()"
   ]
  },
  {
   "cell_type": "code",
   "execution_count": null,
   "id": "cea1d575",
   "metadata": {},
   "outputs": [],
   "source": [
    "for i in range(4):\n",
    "    for j in range(4):\n",
    "        if i != j:\n",
    "\n",
    "            plt.figure(figsize = (8, 5))\n",
    "\n",
    "            sns.scatterplot(x = X[:, i], y = X[:, j], hue = y, palette = \"viridis\")\n",
    "\n",
    "            plt.plot(model.centroids_[0][i], model.centroids_[0][j], marker = \"*\", markersize = 12, color = \"red\")\n",
    "            plt.plot(model.centroids_[1][i], model.centroids_[1][j], marker = \"*\", markersize = 12, color = \"red\")\n",
    "            plt.plot(model.centroids_[2][i], model.centroids_[2][j], marker = \"*\", markersize = 12, color = \"red\")\n",
    "\n",
    "            plt.show()"
   ]
  },
  {
   "cell_type": "markdown",
   "id": "e2a099ee",
   "metadata": {},
   "source": [
    "## Naive bayes"
   ]
  },
  {
   "cell_type": "code",
   "execution_count": null,
   "id": "7c2a29c8",
   "metadata": {},
   "outputs": [],
   "source": [
    "model = GaussianNB()\n",
    "\n",
    "model.fit(X_train, y_train)"
   ]
  },
  {
   "cell_type": "code",
   "execution_count": null,
   "id": "1fa46b6e",
   "metadata": {},
   "outputs": [],
   "source": [
    "yhat = model.predict(X_test)\n",
    "\n",
    "yhat"
   ]
  },
  {
   "cell_type": "code",
   "execution_count": null,
   "id": "03dc8300",
   "metadata": {},
   "outputs": [],
   "source": [
    "print(\"Jaccard Index:\", jaccard_score(y_test, yhat, average = \"macro\"))\n",
    "print(\"Accuracy:\"     , accuracy_score(y_test, yhat))\n",
    "print(\"Precisión:\"    , precision_score(y_test, yhat, average = \"macro\"))\n",
    "print(\"Sensibilidad:\" , recall_score(y_test, yhat, average = \"macro\"))\n",
    "print(\"F1-score:\"     , f1_score(y_test, yhat, average = \"macro\"))"
   ]
  },
  {
   "cell_type": "code",
   "execution_count": null,
   "id": "4bbc62ff",
   "metadata": {},
   "outputs": [],
   "source": [
    "confusion_matrix(y_test, yhat, labels = [0, 1])"
   ]
  },
  {
   "cell_type": "code",
   "execution_count": null,
   "id": "bf4fb237",
   "metadata": {},
   "outputs": [],
   "source": [
    "print(classification_report(y_test, yhat, digits = 2))"
   ]
  },
  {
   "cell_type": "code",
   "execution_count": null,
   "id": "8b02021a",
   "metadata": {},
   "outputs": [],
   "source": [
    "model.class_prior_"
   ]
  },
  {
   "cell_type": "code",
   "execution_count": null,
   "id": "e811383c",
   "metadata": {},
   "outputs": [],
   "source": [
    "np.round(model.predict_proba(X_test), 3)"
   ]
  },
  {
   "cell_type": "code",
   "execution_count": null,
   "id": "dcb70559",
   "metadata": {},
   "outputs": [],
   "source": [
    "np.round(model.predict_proba(X_test), 3)"
   ]
  },
  {
   "cell_type": "markdown",
   "id": "b39e1689",
   "metadata": {},
   "source": [
    "## Logistic regresion"
   ]
  },
  {
   "cell_type": "code",
   "execution_count": null,
   "id": "8dd5c2b7",
   "metadata": {},
   "outputs": [],
   "source": [
    "model = LogisticRegression()\n",
    "model.fit(X_train, y_train)"
   ]
  },
  {
   "cell_type": "code",
   "execution_count": null,
   "id": "6e0efaff",
   "metadata": {},
   "outputs": [],
   "source": [
    "yhat = model.predict(X_test)\n",
    "\n",
    "yhat"
   ]
  },
  {
   "cell_type": "code",
   "execution_count": null,
   "id": "e0e65667",
   "metadata": {},
   "outputs": [],
   "source": [
    "yhat = model.predict(X_test)\n",
    "\n",
    "yhat"
   ]
  },
  {
   "cell_type": "code",
   "execution_count": null,
   "id": "33783bd8",
   "metadata": {},
   "outputs": [],
   "source": [
    "confusion_matrix(y_test, yhat, labels = [0, 1])"
   ]
  },
  {
   "cell_type": "code",
   "execution_count": null,
   "id": "ad18433a",
   "metadata": {},
   "outputs": [],
   "source": [
    "confusion_matrix(y_test, yhat, labels = [0, 1])"
   ]
  },
  {
   "cell_type": "code",
   "execution_count": null,
   "id": "9c1711bf",
   "metadata": {},
   "outputs": [],
   "source": [
    "confusion_matrix(y_test, yhat, labels = [0, 1])"
   ]
  },
  {
   "cell_type": "code",
   "execution_count": null,
   "id": "25581e4b",
   "metadata": {},
   "outputs": [],
   "source": [
    "print(\"RECTA\")\n",
    "\n",
    "print(f\"\\tCoeficientes: {model.coef_[0]}\")\n",
    "\n",
    "print(f\"\\tIntercepción: {model.intercept_[0]}\")\n",
    "\n",
    "ecuacion = \" \".join(([f\"+{coef}*w{num}\" if coef >= 0 else f\"{coef}*w{num}\"\\\n",
    "                      for num, coef in enumerate(np.round(model.coef_[0], 3))]\\\n",
    "                     + [str(np.round(model.intercept_[0], 3))]))\n",
    "\n",
    "print(f\"\\tEcuación: {ecuacion}\")\n",
    "\n",
    "print(\"*\"*100)\n",
    "\n",
    "print(\"FUNCION SIGMOID\")\n",
    "\n",
    "print(f\"\\t1 / (1 + e**-({ecuacion}))\")"
   ]
  },
  {
   "cell_type": "code",
   "execution_count": null,
   "id": "184d7317",
   "metadata": {},
   "outputs": [],
   "source": [
    "# Gráfico\n",
    "\n",
    "plt.figure(figsize = (8, 6))\n",
    "\n",
    "# Puntos de las primera 2 clases\n",
    "sns.scatterplot(x = X[:, 0], y = X[:, 1], c = y, cmap = \"cool\")\n",
    "\n",
    "# Recta\n",
    "x_linspace = np.linspace(-0.25, 1.25, 100)\n",
    "recta = (model.coef_[0][0]*x_linspace + model.intercept_[0])/(-model.coef_[0][1])\n",
    "\n",
    "plt.plot(x_linspace, recta)\n",
    "\n",
    "plt.xlim(-0.25, 1.25)\n",
    "plt.ylim(-0.25, 1.25)\n",
    "\n",
    "plt.show()"
   ]
  },
  {
   "cell_type": "code",
   "execution_count": null,
   "id": "dcaa0569",
   "metadata": {},
   "outputs": [],
   "source": [
    "def sigmoid(x):\n",
    "    return 1 / (1 + np.exp(-x))\n",
    "\n",
    "def sigmoid_regression(coef_, intercept_, x):\n",
    "    recta = np.dot(coef_, x) + intercept_\n",
    "    \n",
    "    return sigmoid(recta)"
   ]
  },
  {
   "cell_type": "code",
   "execution_count": null,
   "id": "dbbf0bff",
   "metadata": {},
   "outputs": [],
   "source": [
    "plt.figure(figsize = (10, 6))\n",
    "\n",
    "x_linspace = np.linspace(-5, 5, 100)\n",
    "curva_sigmoid = sigmoid_regression(model.coef_[0][0], model.intercept_[0], x_linspace)\n",
    "\n",
    "# Curva Sigmoid Original\n",
    "plt.plot(x_linspace, sigmoid(x_linspace), color = \"black\", alpha = 0.3, label = \"Sigmoid\")\n",
    "\n",
    "# Curva Sigmoid de la regression\n",
    "plt.plot(x_linspace, curva_sigmoid, label = \"Sigmoid Modelo\")\n",
    "\n",
    "# Puntos de X_test & y_test\n",
    "sns.scatterplot(x = X_test[:, 0], y = y_test, color = \"orange\", alpha = 0.5)\n",
    "\n",
    "plt.title(\"Valores Reales\")\n",
    "plt.legend()\n",
    "plt.show()"
   ]
  },
  {
   "cell_type": "code",
   "execution_count": null,
   "id": "afa3d8b4",
   "metadata": {},
   "outputs": [],
   "source": [
    "plt.figure(figsize = (10, 6))\n",
    "\n",
    "x_linspace = np.linspace(-5, 5, 100)\n",
    "curva_sigmoid = sigmoid_regression(model.coef_[0][0], model.intercept_[0], x_linspace)\n",
    "\n",
    "# Curva Sigmoid Original\n",
    "plt.plot(x_linspace, sigmoid(x_linspace), color = \"black\", alpha = 0.3, label = \"Sigmoid\")\n",
    "\n",
    "# Curva Sigmoid de la regression\n",
    "plt.plot(x_linspace, curva_sigmoid, label = \"Sigmoid Modelo\")\n",
    "\n",
    "# Puntos de X_test & y_test\n",
    "sns.scatterplot(x = X_test[:, 0], y = yhat, color = \"orange\", alpha = 0.5)\n",
    "\n",
    "plt.title(\"Predicciones\")\n",
    "plt.legend()\n",
    "plt.show()"
   ]
  },
  {
   "cell_type": "markdown",
   "id": "0616e99d",
   "metadata": {},
   "source": [
    "## Decision tree"
   ]
  },
  {
   "cell_type": "code",
   "execution_count": null,
   "id": "c00f5209",
   "metadata": {},
   "outputs": [],
   "source": [
    "model = DecisionTreeClassifier()\n",
    "model.fit(X_train, y_train)"
   ]
  },
  {
   "cell_type": "code",
   "execution_count": null,
   "id": "c9aac62d",
   "metadata": {},
   "outputs": [],
   "source": [
    "print(\"Jaccard Index:\", jaccard_score(y_test, yhat, average = \"macro\"))\n",
    "print(\"Accuracy:\"     , accuracy_score(y_test, yhat))\n",
    "print(\"Precisión:\"    , precision_score(y_test, yhat, average = \"macro\"))\n",
    "print(\"Sensibilidad:\" , recall_score(y_test, yhat, average = \"macro\"))\n",
    "print(\"F1-score:\"     , f1_score(y_test, yhat, average = \"macro\"))"
   ]
  },
  {
   "cell_type": "code",
   "execution_count": null,
   "id": "e7bca235",
   "metadata": {},
   "outputs": [],
   "source": [
    "confusion_matrix(y_test, yhat, labels = [0, 1])"
   ]
  },
  {
   "cell_type": "code",
   "execution_count": null,
   "id": "0929c986",
   "metadata": {},
   "outputs": [],
   "source": [
    "print(classification_report(y_test, yhat, digits = 3))"
   ]
  },
  {
   "cell_type": "code",
   "execution_count": null,
   "id": "aedd80f5",
   "metadata": {},
   "outputs": [],
   "source": [
    "model.predict_proba(X_test)"
   ]
  },
  {
   "cell_type": "code",
   "execution_count": null,
   "id": "6ef10117",
   "metadata": {},
   "outputs": [],
   "source": [
    "model.feature_importances_"
   ]
  },
  {
   "cell_type": "code",
   "execution_count": null,
   "id": "b5637c65",
   "metadata": {},
   "outputs": [],
   "source": [
    "for col, imp in zip(df.feature_names, model.feature_importances_):\n",
    "    print(f\"Columna: {col} Importancia: {imp}\")"
   ]
  },
  {
   "cell_type": "code",
   "execution_count": null,
   "id": "63b0b079",
   "metadata": {},
   "outputs": [],
   "source": [
    "from sklearn.tree import plot_tree\n",
    "\n",
    "plt.figure(figsize = (100, 200))\n",
    "\n",
    "plot_tree(model) \n",
    "\n",
    "plt.savefig(\"iris_decision_tree.jpg\")\n",
    "\n",
    "plt.show()"
   ]
  },
  {
   "cell_type": "code",
   "execution_count": null,
   "id": "197f9fbd",
   "metadata": {},
   "outputs": [],
   "source": [
    "print(f\"criterion: {model.criterion}\")\n",
    "print(f\"splitter: {model.splitter}\")\n",
    "print(f\"max_depth: {model.max_depth}\")\n",
    "print(f\"min_samples_split: {model.min_samples_split}\")\n",
    "print(f\"min_samples_leaf: {model.min_samples_leaf}\")\n",
    "print(f\"min_weight_fraction_leaf: {model.min_weight_fraction_leaf}\")\n",
    "print(f\"max_features: {model.max_features}\")\n",
    "print(f\"random_state: {model.random_state}\")\n",
    "print(f\"max_leaf_nodes: {model.max_leaf_nodes}\")\n",
    "print(f\"min_impurity_decrease: {model.min_impurity_decrease}\")\n",
    "print(f\"class_weight: {model.class_weight}\")\n",
    "print(f\"ccp_alpha: {model.ccp_alpha}\")"
   ]
  },
  {
   "cell_type": "code",
   "execution_count": null,
   "id": "c5c00018",
   "metadata": {},
   "outputs": [],
   "source": [
    "model.get_params()"
   ]
  },
  {
   "cell_type": "markdown",
   "id": "f146044a",
   "metadata": {},
   "source": [
    "## Random forest"
   ]
  },
  {
   "cell_type": "code",
   "execution_count": null,
   "id": "f8572fca",
   "metadata": {},
   "outputs": [],
   "source": [
    "model = RandomForestClassifier()\n",
    "model.fit(X_train, y_train)"
   ]
  },
  {
   "cell_type": "code",
   "execution_count": null,
   "id": "a688e03e",
   "metadata": {},
   "outputs": [],
   "source": [
    "yhat = model.predict(X_test)\n",
    "\n",
    "yhat"
   ]
  },
  {
   "cell_type": "code",
   "execution_count": null,
   "id": "7f89c4b5",
   "metadata": {},
   "outputs": [],
   "source": [
    "print(\"Jaccard Index:\", jaccard_score(y_test, yhat, average = \"macro\"))\n",
    "print(\"Accuracy:\"     , accuracy_score(y_test, yhat))\n",
    "print(\"Precisión:\"    , precision_score(y_test, yhat, average = \"macro\"))\n",
    "print(\"Sensibilidad:\" , recall_score(y_test, yhat, average = \"macro\"))\n",
    "print(\"F1-score:\"     , f1_score(y_test, yhat, average = \"macro\"))"
   ]
  },
  {
   "cell_type": "code",
   "execution_count": null,
   "id": "afdc3c22",
   "metadata": {},
   "outputs": [],
   "source": [
    "confusion_matrix(y_test, yhat, labels = [0, 1])"
   ]
  },
  {
   "cell_type": "code",
   "execution_count": null,
   "id": "8edc2e42",
   "metadata": {},
   "outputs": [],
   "source": [
    "print(classification_report(y_test, yhat, digits = 3))"
   ]
  },
  {
   "cell_type": "code",
   "execution_count": null,
   "id": "1d1062e2",
   "metadata": {},
   "outputs": [],
   "source": [
    "model.predict_proba(X_test)"
   ]
  },
  {
   "cell_type": "code",
   "execution_count": null,
   "id": "c6e33248",
   "metadata": {},
   "outputs": [],
   "source": [
    "model.get_params()"
   ]
  },
  {
   "cell_type": "markdown",
   "id": "5f55d552",
   "metadata": {},
   "source": [
    "## SVM"
   ]
  },
  {
   "cell_type": "code",
   "execution_count": null,
   "id": "13c8124c",
   "metadata": {},
   "outputs": [],
   "source": [
    "model = SVC(probability = True)\n",
    "model.fit(X_train, y_train)"
   ]
  },
  {
   "cell_type": "code",
   "execution_count": null,
   "id": "e2abd0b0",
   "metadata": {},
   "outputs": [],
   "source": [
    "yhat = model.predict(X_test)\n",
    "\n",
    "yhat"
   ]
  },
  {
   "cell_type": "code",
   "execution_count": null,
   "id": "5d6e4db0",
   "metadata": {},
   "outputs": [],
   "source": [
    "print(\"Jaccard Index:\", jaccard_score(y_test, yhat, average = \"macro\"))\n",
    "print(\"Accuracy:\"     , accuracy_score(y_test, yhat))\n",
    "print(\"Precisión:\"    , precision_score(y_test, yhat, average = \"macro\"))\n",
    "print(\"Sensibilidad:\" , recall_score(y_test, yhat, average = \"macro\"))\n",
    "print(\"F1-score:\"     , f1_score(y_test, yhat, average = \"macro\"))"
   ]
  },
  {
   "cell_type": "code",
   "execution_count": null,
   "id": "208a568c",
   "metadata": {},
   "outputs": [],
   "source": [
    "confusion_matrix(y_test, yhat, labels = [0, 1])"
   ]
  },
  {
   "cell_type": "code",
   "execution_count": null,
   "id": "6d8e8cf6",
   "metadata": {},
   "outputs": [],
   "source": [
    "model.predict_proba(X_test)"
   ]
  },
  {
   "cell_type": "code",
   "execution_count": null,
   "id": "99e2575e",
   "metadata": {},
   "outputs": [],
   "source": [
    "model.support_vectors_"
   ]
  },
  {
   "cell_type": "code",
   "execution_count": null,
   "id": "f9ab6264",
   "metadata": {},
   "outputs": [],
   "source": [
    "plt.figure(figsize = (8, 6))\n",
    "\n",
    "# Puntos de entrenamiento (Train)\n",
    "plt.scatter(X_train[:, 0], X_train[:, 1], c = y_train, cmap = \"cool\")\n",
    "\n",
    "# Puntos de prueba (Test)\n",
    "plt.scatter(X_test[:, 0], X_test[:, 1], c = y_test, cmap = \"cool\")\n",
    "\n",
    "# Vecores de Soporte (SVM)\n",
    "vectores_soporte = model.support_vectors_\n",
    "\n",
    "plt.plot(vectores_soporte[:, 0], vectores_soporte[:, 1], color = \"yellow\", marker = \"o\", linestyle = \"\", alpha = 0.7)\n",
    "\n",
    "plt.show()"
   ]
  },
  {
   "cell_type": "markdown",
   "id": "cb124cfb",
   "metadata": {},
   "source": [
    "## Adaboost"
   ]
  },
  {
   "cell_type": "code",
   "execution_count": null,
   "id": "8936bbb0",
   "metadata": {},
   "outputs": [],
   "source": [
    "model = AdaBoostClassifier(n_estimators = 50)\n",
    "model.fit(X_train, y_train)"
   ]
  },
  {
   "cell_type": "code",
   "execution_count": null,
   "id": "f3e69dae",
   "metadata": {},
   "outputs": [],
   "source": [
    "yhat = model.predict(X_test)\n",
    "\n",
    "yhat"
   ]
  },
  {
   "cell_type": "code",
   "execution_count": null,
   "id": "4afa9735",
   "metadata": {},
   "outputs": [],
   "source": [
    "print(\"Jaccard Index:\", jaccard_score(y_test, yhat, average = \"macro\"))\n",
    "print(\"Accuracy:\"     , accuracy_score(y_test, yhat))\n",
    "print(\"Precisión:\"    , precision_score(y_test, yhat, average = \"macro\"))\n",
    "print(\"Sensibilidad:\" , recall_score(y_test, yhat, average = \"macro\"))\n",
    "print(\"F1-score:\"     , f1_score(y_test, yhat, average = \"macro\"))"
   ]
  },
  {
   "cell_type": "code",
   "execution_count": null,
   "id": "68c00d8c",
   "metadata": {},
   "outputs": [],
   "source": [
    "confusion_matrix(y_test, yhat, labels = [0, 1])"
   ]
  },
  {
   "cell_type": "code",
   "execution_count": null,
   "id": "e5acbce8",
   "metadata": {},
   "outputs": [],
   "source": [
    "np.round(model.predict_proba(X_test), 4)"
   ]
  },
  {
   "cell_type": "code",
   "execution_count": null,
   "id": "35b6a5f4",
   "metadata": {},
   "outputs": [],
   "source": [
    "model.base_estimator_"
   ]
  },
  {
   "cell_type": "code",
   "execution_count": null,
   "id": "bad12edf",
   "metadata": {},
   "outputs": [],
   "source": [
    "model.base_estimator_"
   ]
  },
  {
   "cell_type": "code",
   "execution_count": null,
   "id": "c4bc232e",
   "metadata": {},
   "outputs": [],
   "source": [
    "np.round(model.estimator_errors_, 3)"
   ]
  },
  {
   "cell_type": "code",
   "execution_count": null,
   "id": "1d6436b5",
   "metadata": {},
   "outputs": [],
   "source": [
    "model.feature_importances_"
   ]
  },
  {
   "cell_type": "code",
   "execution_count": null,
   "id": "c2d547d9",
   "metadata": {},
   "outputs": [],
   "source": [
    "model.decision_function(X_test)"
   ]
  },
  {
   "cell_type": "markdown",
   "id": "0482fb37",
   "metadata": {},
   "source": [
    "## Gradien boost"
   ]
  },
  {
   "cell_type": "code",
   "execution_count": null,
   "id": "b5605c96",
   "metadata": {},
   "outputs": [],
   "source": [
    "confusion_matrix(y_test, yhat, labels = [0, 1])"
   ]
  },
  {
   "cell_type": "code",
   "execution_count": null,
   "id": "21044262",
   "metadata": {},
   "outputs": [],
   "source": [
    "model.feature_importances_"
   ]
  },
  {
   "cell_type": "code",
   "execution_count": null,
   "id": "de867c39",
   "metadata": {},
   "outputs": [],
   "source": [
    "np.round(model.predict_proba(X_test), 3)"
   ]
  },
  {
   "cell_type": "code",
   "execution_count": null,
   "id": "58e9b0f1",
   "metadata": {},
   "outputs": [],
   "source": [
    "model.estimators_"
   ]
  },
  {
   "cell_type": "code",
   "execution_count": null,
   "id": "530c8f9c",
   "metadata": {
    "scrolled": true
   },
   "outputs": [],
   "source": [
    "for x in model.staged_predict(X_test):\n",
    "    print(x)"
   ]
  },
  {
   "cell_type": "code",
   "execution_count": null,
   "id": "9394b6ee",
   "metadata": {},
   "outputs": [],
   "source": [
    "for x in model.staged_predict_proba(X_test):\n",
    "    print(x)"
   ]
  },
  {
   "cell_type": "code",
   "execution_count": null,
   "id": "22178616",
   "metadata": {},
   "outputs": [],
   "source": [
    "model = GradientBoostingClassifier(n_estimators = 5000,\n",
    "                                   learning_rate = 0.05,\n",
    "                                   max_depth = 3,\n",
    "                                   subsample = 0.5,\n",
    "                                   validation_fraction = 0.1,\n",
    "                                   n_iter_no_change = 20,\n",
    "                                   max_features = \"log2\",\n",
    "                                   verbose = 1)\n",
    "model.fit(X_train, y_train)"
   ]
  },
  {
   "cell_type": "code",
   "execution_count": null,
   "id": "818e9e39",
   "metadata": {},
   "outputs": [],
   "source": [
    "y_train_pred = model.predict(X_train)\n",
    "y_test_pred = model.predict(X_test)\n",
    "\n",
    "print(f\"AUC Train: {roc_auc_score(y_train, y_train_pred)}\\nAUC Test: {roc_auc_score(y_test, y_test_pred)}\")"
   ]
  },
  {
   "cell_type": "code",
   "execution_count": null,
   "id": "7202a397",
   "metadata": {},
   "outputs": [],
   "source": [
    "yhat = model.predict(X_test)\n",
    "\n",
    "yhat"
   ]
  },
  {
   "cell_type": "code",
   "execution_count": null,
   "id": "a531edbd",
   "metadata": {},
   "outputs": [],
   "source": [
    "print(\"Jaccard Index:\", jaccard_score(y_test, yhat, average = \"macro\"))\n",
    "print(\"Accuracy:\"     , accuracy_score(y_test, yhat))\n",
    "print(\"Precisión:\"    , precision_score(y_test, yhat, average = \"macro\"))\n",
    "print(\"Sensibilidad:\" , recall_score(y_test, yhat, average = \"macro\"))\n",
    "print(\"F1-score:\"     , f1_score(y_test, yhat, average = \"macro\"))"
   ]
  }
 ],
 "metadata": {
  "kernelspec": {
   "display_name": "Python 3 (ipykernel)",
   "language": "python",
   "name": "python3"
  },
  "language_info": {
   "codemirror_mode": {
    "name": "ipython",
    "version": 3
   },
   "file_extension": ".py",
   "mimetype": "text/x-python",
   "name": "python",
   "nbconvert_exporter": "python",
   "pygments_lexer": "ipython3",
   "version": "3.9.13"
  }
 },
 "nbformat": 4,
 "nbformat_minor": 5
}
