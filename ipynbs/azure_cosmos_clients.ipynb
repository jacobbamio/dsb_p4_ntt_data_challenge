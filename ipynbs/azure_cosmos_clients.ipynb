{
 "cells": [
  {
   "cell_type": "code",
   "execution_count": 11,
   "metadata": {},
   "outputs": [
    {
     "name": "stdout",
     "output_type": "stream",
     "text": [
      "/Users/jacob/Documents/git-repositories/coisigna/dsb_p4_ntt_data_challenge\n"
     ]
    }
   ],
   "source": [
    "from pymongo import MongoClient\n",
    "%cd ..\n",
    "from pys import credentials\n",
    "import pandas as pd\n",
    "import json"
   ]
  },
  {
   "cell_type": "code",
   "execution_count": 33,
   "metadata": {},
   "outputs": [],
   "source": [
    "client = MongoClient(credentials.cosmos)"
   ]
  },
  {
   "cell_type": "code",
   "execution_count": 34,
   "metadata": {},
   "outputs": [],
   "source": [
    "db = client.db"
   ]
  },
  {
   "cell_type": "code",
   "execution_count": 35,
   "metadata": {},
   "outputs": [
    {
     "data": {
      "text/plain": [
       "[]"
      ]
     },
     "execution_count": 35,
     "metadata": {},
     "output_type": "execute_result"
    }
   ],
   "source": [
    "db.list_collection_names()"
   ]
  },
  {
   "cell_type": "code",
   "execution_count": 36,
   "metadata": {},
   "outputs": [],
   "source": [
    "clients_collection = db.clients"
   ]
  },
  {
   "cell_type": "code",
   "execution_count": 37,
   "metadata": {},
   "outputs": [],
   "source": [
    "df = pd.read_csv(\"resources/train_cleaned.csv\")"
   ]
  },
  {
   "cell_type": "code",
   "execution_count": 38,
   "metadata": {},
   "outputs": [
    {
     "name": "stderr",
     "output_type": "stream",
     "text": [
      "/var/folders/10/5nbnv2696vlgb605wf3g6wwh0000gn/T/ipykernel_2968/2272162790.py:4: SettingWithCopyWarning: \n",
      "A value is trying to be set on a copy of a slice from a DataFrame\n",
      "\n",
      "See the caveats in the documentation: https://pandas.pydata.org/pandas-docs/stable/user_guide/indexing.html#returning-a-view-versus-a-copy\n",
      "  df_target_0.drop(labels=[\"Unnamed: 0\", \"target\"], axis=1, inplace=True)\n",
      "/var/folders/10/5nbnv2696vlgb605wf3g6wwh0000gn/T/ipykernel_2968/2272162790.py:5: SettingWithCopyWarning: \n",
      "A value is trying to be set on a copy of a slice from a DataFrame\n",
      "\n",
      "See the caveats in the documentation: https://pandas.pydata.org/pandas-docs/stable/user_guide/indexing.html#returning-a-view-versus-a-copy\n",
      "  df_target_1.drop(labels=[\"Unnamed: 0\", \"target\"], axis=1, inplace=True)\n"
     ]
    }
   ],
   "source": [
    "df_target_1 = df[df[\"target\"] == 1.0]\n",
    "df_target_0 = df[df[\"target\"] == 0.0]\n",
    "\n",
    "df_target_0.drop(labels=[\"Unnamed: 0\", \"target\"], axis=1, inplace=True)\n",
    "df_target_1.drop(labels=[\"Unnamed: 0\", \"target\"], axis=1, inplace=True)"
   ]
  },
  {
   "cell_type": "code",
   "execution_count": 43,
   "metadata": {},
   "outputs": [],
   "source": [
    "clients = []\n",
    "\n",
    "for i in range(10):\n",
    "\n",
    "        clients.append({\"cliente\" : i+1, **json.loads(df_target_0.iloc[i].to_json())})\n"
   ]
  },
  {
   "cell_type": "code",
   "execution_count": 44,
   "metadata": {},
   "outputs": [
    {
     "data": {
      "text/plain": [
       "<pymongo.results.InsertManyResult at 0x7f9b30c2c820>"
      ]
     },
     "execution_count": 44,
     "metadata": {},
     "output_type": "execute_result"
    }
   ],
   "source": [
    "clients_collection.insert_many(clients)"
   ]
  },
  {
   "cell_type": "code",
   "execution_count": 45,
   "metadata": {},
   "outputs": [
    {
     "name": "stdout",
     "output_type": "stream",
     "text": [
      "{'_id': ObjectId('6424145fd129011064bdc090'), 'cliente': 1, 'edad': 40.0, 'trabajo': 1.0, 'deuda': 0.0, 'saldo': 580.0, 'vivienda': 1.0, 'prestamo': 0.0, 'duracion': 192.0, 'fecha_contacto': 1621116000.0, 'campaign': 1.0, 'tiempo_transcurrido': 0.0, 'contactos_anteriores': 0.0, 'contactado': 0.0, 'desconocido': 1.0, 'fijo': 0.0, 'movil': 0.0, 'casado': 1.0, 'divorciado': 0.0, 'soltero': 0.0, 'exito': 0.0, 'nuevo_cliente': 1.0, 'otro': 0.0, 'sin_exito': 0.0, 'primaria': 0.0, 'secundaria/superiores': 1.0, 'universitarios': 0.0}\n",
      "{'_id': ObjectId('6424145fd129011064bdc091'), 'cliente': 2, 'edad': 47.0, 'trabajo': 7.0, 'deuda': 0.0, 'saldo': 3644.0, 'vivienda': 0.0, 'prestamo': 0.0, 'duracion': 83.0, 'fecha_contacto': 1623189600.0, 'campaign': 2.0, 'tiempo_transcurrido': 0.0, 'contactos_anteriores': 0.0, 'contactado': 0.0, 'desconocido': 1.0, 'fijo': 0.0, 'movil': 0.0, 'casado': 0.0, 'divorciado': 0.0, 'soltero': 1.0, 'exito': 0.0, 'nuevo_cliente': 1.0, 'otro': 0.0, 'sin_exito': 0.0, 'primaria': 0.0, 'secundaria/superiores': 1.0, 'universitarios': 0.0}\n",
      "{'_id': ObjectId('6424145fd129011064bdc092'), 'cliente': 3, 'edad': 25.0, 'trabajo': 8.0, 'deuda': 0.0, 'saldo': 538.0, 'vivienda': 1.0, 'prestamo': 0.0, 'duracion': 226.0, 'fecha_contacto': 1618869600.0, 'campaign': 1.0, 'tiempo_transcurrido': 0.0, 'contactos_anteriores': 0.0, 'contactado': 0.0, 'desconocido': 0.0, 'fijo': 0.0, 'movil': 1.0, 'casado': 0.0, 'divorciado': 0.0, 'soltero': 1.0, 'exito': 0.0, 'nuevo_cliente': 1.0, 'otro': 0.0, 'sin_exito': 0.0, 'primaria': 0.0, 'secundaria/superiores': 0.0, 'universitarios': 1.0}\n",
      "{'_id': ObjectId('6424145fd129011064bdc093'), 'cliente': 4, 'edad': 42.0, 'trabajo': 4.0, 'deuda': 0.0, 'saldo': 1773.0, 'vivienda': 0.0, 'prestamo': 0.0, 'duracion': 311.0, 'fecha_contacto': 1617919200.0, 'campaign': 1.0, 'tiempo_transcurrido': 336.0, 'contactos_anteriores': 1.0, 'contactado': 1.0, 'desconocido': 0.0, 'fijo': 0.0, 'movil': 1.0, 'casado': 1.0, 'divorciado': 0.0, 'soltero': 0.0, 'exito': 0.0, 'nuevo_cliente': 0.0, 'otro': 0.0, 'sin_exito': 1.0, 'primaria': 0.0, 'secundaria/superiores': 0.0, 'universitarios': 1.0}\n",
      "{'_id': ObjectId('6424145fd129011064bdc094'), 'cliente': 5, 'edad': 56.0, 'trabajo': 4.0, 'deuda': 0.0, 'saldo': 217.0, 'vivienda': 0.0, 'prestamo': 1.0, 'duracion': 121.0, 'fecha_contacto': 1626818400.0, 'campaign': 2.0, 'tiempo_transcurrido': 0.0, 'contactos_anteriores': 0.0, 'contactado': 0.0, 'desconocido': 0.0, 'fijo': 0.0, 'movil': 1.0, 'casado': 1.0, 'divorciado': 0.0, 'soltero': 0.0, 'exito': 0.0, 'nuevo_cliente': 1.0, 'otro': 0.0, 'sin_exito': 0.0, 'primaria': 0.0, 'secundaria/superiores': 0.0, 'universitarios': 1.0}\n",
      "{'_id': ObjectId('6424145fd129011064bdc095'), 'cliente': 6, 'edad': 28.0, 'trabajo': 1.0, 'deuda': 0.0, 'saldo': 1134.0, 'vivienda': 0.0, 'prestamo': 0.0, 'duracion': 130.0, 'fecha_contacto': 1612825200.0, 'campaign': 3.0, 'tiempo_transcurrido': 0.0, 'contactos_anteriores': 0.0, 'contactado': 0.0, 'desconocido': 0.0, 'fijo': 0.0, 'movil': 1.0, 'casado': 1.0, 'divorciado': 0.0, 'soltero': 0.0, 'exito': 0.0, 'nuevo_cliente': 1.0, 'otro': 0.0, 'sin_exito': 0.0, 'primaria': 0.0, 'secundaria/superiores': 1.0, 'universitarios': 0.0}\n",
      "{'_id': ObjectId('6424145fd129011064bdc096'), 'cliente': 7, 'edad': 24.0, 'trabajo': 4.0, 'deuda': 0.0, 'saldo': 1085.0, 'vivienda': 0.0, 'prestamo': 1.0, 'duracion': 95.0, 'fecha_contacto': 1620338400.0, 'campaign': 6.0, 'tiempo_transcurrido': 0.0, 'contactos_anteriores': 0.0, 'contactado': 0.0, 'desconocido': 0.0, 'fijo': 0.0, 'movil': 1.0, 'casado': 0.0, 'divorciado': 0.0, 'soltero': 1.0, 'exito': 0.0, 'nuevo_cliente': 1.0, 'otro': 0.0, 'sin_exito': 0.0, 'primaria': 0.0, 'secundaria/superiores': 0.0, 'universitarios': 1.0}\n",
      "{'_id': ObjectId('6424145fd129011064bdc097'), 'cliente': 8, 'edad': 37.0, 'trabajo': 0.0, 'deuda': 0.0, 'saldo': 127.0, 'vivienda': 0.0, 'prestamo': 0.0, 'duracion': 83.0, 'fecha_contacto': 1616454000.0, 'campaign': 4.0, 'tiempo_transcurrido': 0.0, 'contactos_anteriores': 0.0, 'contactado': 0.0, 'desconocido': 0.0, 'fijo': 0.0, 'movil': 1.0, 'casado': 0.0, 'divorciado': 0.0, 'soltero': 1.0, 'exito': 0.0, 'nuevo_cliente': 1.0, 'otro': 0.0, 'sin_exito': 0.0, 'primaria': 0.0, 'secundaria/superiores': 1.0, 'universitarios': 0.0}\n",
      "{'_id': ObjectId('6424145fd129011064bdc098'), 'cliente': 9, 'edad': 30.0, 'trabajo': 1.0, 'deuda': 0.0, 'saldo': 3.0, 'vivienda': 1.0, 'prestamo': 0.0, 'duracion': 51.0, 'fecha_contacto': 1627164000.0, 'campaign': 1.0, 'tiempo_transcurrido': 0.0, 'contactos_anteriores': 0.0, 'contactado': 0.0, 'desconocido': 0.0, 'fijo': 0.0, 'movil': 1.0, 'casado': 0.0, 'divorciado': 0.0, 'soltero': 1.0, 'exito': 0.0, 'nuevo_cliente': 1.0, 'otro': 0.0, 'sin_exito': 0.0, 'primaria': 0.0, 'secundaria/superiores': 1.0, 'universitarios': 0.0}\n",
      "{'_id': ObjectId('6424145fd129011064bdc099'), 'cliente': 10, 'edad': 38.0, 'trabajo': 9.0, 'deuda': 0.0, 'saldo': 258.0, 'vivienda': 0.0, 'prestamo': 1.0, 'duracion': 587.0, 'fecha_contacto': 1624140000.0, 'campaign': 2.0, 'tiempo_transcurrido': 0.0, 'contactos_anteriores': 0.0, 'contactado': 0.0, 'desconocido': 1.0, 'fijo': 0.0, 'movil': 0.0, 'casado': 0.0, 'divorciado': 0.0, 'soltero': 1.0, 'exito': 0.0, 'nuevo_cliente': 1.0, 'otro': 0.0, 'sin_exito': 0.0, 'primaria': 0.0, 'secundaria/superiores': 1.0, 'universitarios': 0.0}\n"
     ]
    }
   ],
   "source": [
    "for i in clients_collection.find():\n",
    "\n",
    "    print(i)"
   ]
  },
  {
   "cell_type": "code",
   "execution_count": null,
   "metadata": {},
   "outputs": [],
   "source": []
  }
 ],
 "metadata": {
  "kernelspec": {
   "display_name": "base",
   "language": "python",
   "name": "python3"
  },
  "language_info": {
   "codemirror_mode": {
    "name": "ipython",
    "version": 3
   },
   "file_extension": ".py",
   "mimetype": "text/x-python",
   "name": "python",
   "nbconvert_exporter": "python",
   "pygments_lexer": "ipython3",
   "version": "3.9.13"
  },
  "orig_nbformat": 4
 },
 "nbformat": 4,
 "nbformat_minor": 2
}
