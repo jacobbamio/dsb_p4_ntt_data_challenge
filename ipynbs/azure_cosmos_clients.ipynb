{
 "cells": [
  {
   "cell_type": "code",
   "execution_count": 2,
   "metadata": {},
   "outputs": [
    {
     "name": "stdout",
     "output_type": "stream",
     "text": [
      "/Users/jacob/Documents/git-repositories/coisigna/dsb_p4_ntt_data_challenge\n"
     ]
    }
   ],
   "source": [
    "from pymongo import MongoClient\n",
    "%cd ..\n",
    "from pys import credentials\n",
    "import pandas as pd\n",
    "import json"
   ]
  },
  {
   "cell_type": "code",
   "execution_count": 18,
   "metadata": {},
   "outputs": [],
   "source": [
    "client = MongoClient(credentials.cosmos)"
   ]
  },
  {
   "cell_type": "code",
   "execution_count": 19,
   "metadata": {},
   "outputs": [],
   "source": [
    "db = client.db"
   ]
  },
  {
   "cell_type": "code",
   "execution_count": 20,
   "metadata": {},
   "outputs": [
    {
     "data": {
      "text/plain": [
       "[]"
      ]
     },
     "execution_count": 20,
     "metadata": {},
     "output_type": "execute_result"
    }
   ],
   "source": [
    "db.list_collection_names()"
   ]
  },
  {
   "cell_type": "code",
   "execution_count": 21,
   "metadata": {},
   "outputs": [],
   "source": [
    "clients_collection = db.clients"
   ]
  },
  {
   "cell_type": "code",
   "execution_count": 22,
   "metadata": {},
   "outputs": [],
   "source": [
    "df = pd.read_csv(\"resources/train_cleaned.csv\")"
   ]
  },
  {
   "cell_type": "code",
   "execution_count": 23,
   "metadata": {},
   "outputs": [
    {
     "name": "stderr",
     "output_type": "stream",
     "text": [
      "/var/folders/10/5nbnv2696vlgb605wf3g6wwh0000gn/T/ipykernel_5403/2272162790.py:4: SettingWithCopyWarning: \n",
      "A value is trying to be set on a copy of a slice from a DataFrame\n",
      "\n",
      "See the caveats in the documentation: https://pandas.pydata.org/pandas-docs/stable/user_guide/indexing.html#returning-a-view-versus-a-copy\n",
      "  df_target_0.drop(labels=[\"Unnamed: 0\", \"target\"], axis=1, inplace=True)\n",
      "/var/folders/10/5nbnv2696vlgb605wf3g6wwh0000gn/T/ipykernel_5403/2272162790.py:5: SettingWithCopyWarning: \n",
      "A value is trying to be set on a copy of a slice from a DataFrame\n",
      "\n",
      "See the caveats in the documentation: https://pandas.pydata.org/pandas-docs/stable/user_guide/indexing.html#returning-a-view-versus-a-copy\n",
      "  df_target_1.drop(labels=[\"Unnamed: 0\", \"target\"], axis=1, inplace=True)\n"
     ]
    }
   ],
   "source": [
    "df_target_1 = df[df[\"target\"] == 1.0]\n",
    "df_target_0 = df[df[\"target\"] == 0.0]\n",
    "\n",
    "df_target_0.drop(labels=[\"Unnamed: 0\", \"target\"], axis=1, inplace=True)\n",
    "df_target_1.drop(labels=[\"Unnamed: 0\", \"target\"], axis=1, inplace=True)"
   ]
  },
  {
   "cell_type": "code",
   "execution_count": 41,
   "metadata": {},
   "outputs": [],
   "source": [
    "clients = []\n",
    "\n",
    "for i in range(10):\n",
    "\n",
    "        clients.append({\"cliente\" : i+1, **json.loads(df_target_1.iloc[i].to_json())})\n",
    "\n"
   ]
  },
  {
   "cell_type": "code",
   "execution_count": 46,
   "metadata": {},
   "outputs": [
    {
     "data": {
      "text/plain": [
       "<pymongo.results.InsertManyResult at 0x7f9020ab9ac0>"
      ]
     },
     "execution_count": 46,
     "metadata": {},
     "output_type": "execute_result"
    }
   ],
   "source": [
    "clients_collection.insert_many(clients)"
   ]
  },
  {
   "cell_type": "code",
   "execution_count": 31,
   "metadata": {},
   "outputs": [],
   "source": [
    "unk = b'\"This client wouldn\\'t contract the fixed deposit\"'\n",
    "\n",
    "decoded = unk.decode(\"utf-8\")"
   ]
  },
  {
   "cell_type": "code",
   "execution_count": 36,
   "metadata": {},
   "outputs": [
    {
     "data": {
      "text/plain": [
       "\"This client wouldn't contract the fixed deposit\""
      ]
     },
     "execution_count": 36,
     "metadata": {},
     "output_type": "execute_result"
    }
   ],
   "source": [
    "json.loads(decoded)"
   ]
  },
  {
   "cell_type": "code",
   "execution_count": 47,
   "metadata": {},
   "outputs": [
    {
     "name": "stdout",
     "output_type": "stream",
     "text": [
      "{'_id': ObjectId('64242a261ad333d7017d29c0'), 'cliente': 1, 'edad': 40.0, 'trabajo': 1.0, 'deuda': 0.0, 'saldo': 580.0, 'vivienda': 1.0, 'prestamo': 0.0, 'duracion': 192.0, 'fecha_contacto': 1621116000.0, 'campaign': 1.0, 'tiempo_transcurrido': 0.0, 'contactos_anteriores': 0.0, 'contactado': 0.0, 'desconocido': 1.0, 'fijo': 0.0, 'movil': 0.0, 'casado': 1.0, 'divorciado': 0.0, 'soltero': 0.0, 'exito': 0.0, 'nuevo_cliente': 1.0, 'otro': 0.0, 'sin_exito': 0.0, 'primaria': 0.0, 'secundaria/superiores': 1.0, 'universitarios': 0.0}\n",
      "{'_id': ObjectId('64242a261ad333d7017d29c1'), 'cliente': 2, 'edad': 47.0, 'trabajo': 7.0, 'deuda': 0.0, 'saldo': 3644.0, 'vivienda': 0.0, 'prestamo': 0.0, 'duracion': 83.0, 'fecha_contacto': 1623189600.0, 'campaign': 2.0, 'tiempo_transcurrido': 0.0, 'contactos_anteriores': 0.0, 'contactado': 0.0, 'desconocido': 1.0, 'fijo': 0.0, 'movil': 0.0, 'casado': 0.0, 'divorciado': 0.0, 'soltero': 1.0, 'exito': 0.0, 'nuevo_cliente': 1.0, 'otro': 0.0, 'sin_exito': 0.0, 'primaria': 0.0, 'secundaria/superiores': 1.0, 'universitarios': 0.0}\n",
      "{'_id': ObjectId('64242a261ad333d7017d29c2'), 'cliente': 3, 'edad': 25.0, 'trabajo': 8.0, 'deuda': 0.0, 'saldo': 538.0, 'vivienda': 1.0, 'prestamo': 0.0, 'duracion': 226.0, 'fecha_contacto': 1618869600.0, 'campaign': 1.0, 'tiempo_transcurrido': 0.0, 'contactos_anteriores': 0.0, 'contactado': 0.0, 'desconocido': 0.0, 'fijo': 0.0, 'movil': 1.0, 'casado': 0.0, 'divorciado': 0.0, 'soltero': 1.0, 'exito': 0.0, 'nuevo_cliente': 1.0, 'otro': 0.0, 'sin_exito': 0.0, 'primaria': 0.0, 'secundaria/superiores': 0.0, 'universitarios': 1.0}\n",
      "{'_id': ObjectId('64242a261ad333d7017d29c3'), 'cliente': 4, 'edad': 42.0, 'trabajo': 4.0, 'deuda': 0.0, 'saldo': 1773.0, 'vivienda': 0.0, 'prestamo': 0.0, 'duracion': 311.0, 'fecha_contacto': 1617919200.0, 'campaign': 1.0, 'tiempo_transcurrido': 336.0, 'contactos_anteriores': 1.0, 'contactado': 1.0, 'desconocido': 0.0, 'fijo': 0.0, 'movil': 1.0, 'casado': 1.0, 'divorciado': 0.0, 'soltero': 0.0, 'exito': 0.0, 'nuevo_cliente': 0.0, 'otro': 0.0, 'sin_exito': 1.0, 'primaria': 0.0, 'secundaria/superiores': 0.0, 'universitarios': 1.0}\n",
      "{'_id': ObjectId('64242a261ad333d7017d29c4'), 'cliente': 5, 'edad': 35.0, 'trabajo': 4.0, 'deuda': 0.0, 'saldo': 991.0, 'vivienda': 1.0, 'prestamo': 0.0, 'duracion': 1489.0, 'fecha_contacto': 1620252000.0, 'campaign': 3.0, 'tiempo_transcurrido': 0.0, 'contactos_anteriores': 0.0, 'contactado': 0.0, 'desconocido': 0.0, 'fijo': 0.0, 'movil': 1.0, 'casado': 1.0, 'divorciado': 0.0, 'soltero': 0.0, 'exito': 0.0, 'nuevo_cliente': 1.0, 'otro': 0.0, 'sin_exito': 0.0, 'primaria': 0.0, 'secundaria/superiores': 0.0, 'universitarios': 1.0}\n",
      "{'_id': ObjectId('64242a261ad333d7017d29c5'), 'cliente': 6, 'edad': 23.0, 'trabajo': 8.0, 'deuda': 0.0, 'saldo': 431.0, 'vivienda': 0.0, 'prestamo': 0.0, 'duracion': 496.0, 'fecha_contacto': 1628805600.0, 'campaign': 2.0, 'tiempo_transcurrido': 0.0, 'contactos_anteriores': 0.0, 'contactado': 0.0, 'desconocido': 0.0, 'fijo': 0.0, 'movil': 1.0, 'casado': 0.0, 'divorciado': 0.0, 'soltero': 1.0, 'exito': 0.0, 'nuevo_cliente': 1.0, 'otro': 0.0, 'sin_exito': 0.0, 'primaria': 0.0, 'secundaria/superiores': 1.0, 'universitarios': 0.0}\n",
      "{'_id': ObjectId('64242a261ad333d7017d29c6'), 'cliente': 7, 'edad': 37.0, 'trabajo': 0.0, 'deuda': 0.0, 'saldo': 1967.0, 'vivienda': 0.0, 'prestamo': 0.0, 'duracion': 376.0, 'fecha_contacto': 1635285600.0, 'campaign': 1.0, 'tiempo_transcurrido': 0.0, 'contactos_anteriores': 0.0, 'contactado': 0.0, 'desconocido': 0.0, 'fijo': 1.0, 'movil': 0.0, 'casado': 1.0, 'divorciado': 0.0, 'soltero': 0.0, 'exito': 0.0, 'nuevo_cliente': 1.0, 'otro': 0.0, 'sin_exito': 0.0, 'primaria': 0.0, 'secundaria/superiores': 1.0, 'universitarios': 0.0}\n",
      "{'_id': ObjectId('64242a261ad333d7017d29c7'), 'cliente': 8, 'edad': 27.0, 'trabajo': 9.0, 'deuda': 0.0, 'saldo': 337.0, 'vivienda': 0.0, 'prestamo': 0.0, 'duracion': 23.0, 'fecha_contacto': 1625781600.0, 'campaign': 1.0, 'tiempo_transcurrido': 0.0, 'contactos_anteriores': 0.0, 'contactado': 0.0, 'desconocido': 1.0, 'fijo': 0.0, 'movil': 0.0, 'casado': 0.0, 'divorciado': 0.0, 'soltero': 1.0, 'exito': 0.0, 'nuevo_cliente': 1.0, 'otro': 0.0, 'sin_exito': 0.0, 'primaria': 0.0, 'secundaria/superiores': 1.0, 'universitarios': 0.0}\n",
      "{'_id': ObjectId('64242a261ad333d7017d29c8'), 'cliente': 9, 'edad': 33.0, 'trabajo': 4.0, 'deuda': 0.0, 'saldo': 1323.0, 'vivienda': 0.0, 'prestamo': 0.0, 'duracion': 327.0, 'fecha_contacto': 1622498400.0, 'campaign': 1.0, 'tiempo_transcurrido': 0.0, 'contactos_anteriores': 0.0, 'contactado': 0.0, 'desconocido': 0.0, 'fijo': 0.0, 'movil': 1.0, 'casado': 1.0, 'divorciado': 0.0, 'soltero': 0.0, 'exito': 0.0, 'nuevo_cliente': 1.0, 'otro': 0.0, 'sin_exito': 0.0, 'primaria': 0.0, 'secundaria/superiores': 0.0, 'universitarios': 1.0}\n",
      "{'_id': ObjectId('64242a261ad333d7017d29c9'), 'cliente': 10, 'edad': 34.0, 'trabajo': 7.0, 'deuda': 0.0, 'saldo': 267.0, 'vivienda': 0.0, 'prestamo': 0.0, 'duracion': 449.0, 'fecha_contacto': 1625695200.0, 'campaign': 2.0, 'tiempo_transcurrido': 0.0, 'contactos_anteriores': 0.0, 'contactado': 0.0, 'desconocido': 0.0, 'fijo': 0.0, 'movil': 1.0, 'casado': 0.0, 'divorciado': 0.0, 'soltero': 1.0, 'exito': 0.0, 'nuevo_cliente': 1.0, 'otro': 0.0, 'sin_exito': 0.0, 'primaria': 0.0, 'secundaria/superiores': 1.0, 'universitarios': 0.0}\n"
     ]
    }
   ],
   "source": [
    "for i in clients_collection.find():\n",
    "\n",
    "    print(i)"
   ]
  },
  {
   "cell_type": "code",
   "execution_count": null,
   "metadata": {},
   "outputs": [],
   "source": []
  }
 ],
 "metadata": {
  "kernelspec": {
   "display_name": "base",
   "language": "python",
   "name": "python3"
  },
  "language_info": {
   "codemirror_mode": {
    "name": "ipython",
    "version": 3
   },
   "file_extension": ".py",
   "mimetype": "text/x-python",
   "name": "python",
   "nbconvert_exporter": "python",
   "pygments_lexer": "ipython3",
   "version": "3.9.13"
  },
  "orig_nbformat": 4
 },
 "nbformat": 4,
 "nbformat_minor": 2
}
