{
 "cells": [
  {
   "cell_type": "code",
   "execution_count": 7,
   "metadata": {},
   "outputs": [],
   "source": [
    "from pys import credentials "
   ]
  },
  {
   "cell_type": "code",
   "execution_count": 5,
   "metadata": {},
   "outputs": [
    {
     "name": "stdout",
     "output_type": "stream",
     "text": [
      "Performing interactive authentication. Please follow the instructions on the terminal.\n"
     ]
    },
    {
     "name": "stderr",
     "output_type": "stream",
     "text": [
      "The default web browser has been opened at https://login.microsoftonline.com/organizations/oauth2/v2.0/authorize. Please continue the login in the web browser. If no web browser is available or if the web browser fails to open, use device code flow with `az login --use-device-code`.\n"
     ]
    },
    {
     "name": "stdout",
     "output_type": "stream",
     "text": [
      "Interactive authentication successfully completed.\n",
      "Deploying StorageAccount with name handmadestorage822b6e018.\n",
      "Deploying AppInsights with name handmadeinsights4f9e508a.\n",
      "Deployed AppInsights with name handmadeinsights4f9e508a. Took 4.13 seconds.\n",
      "Deploying KeyVault with name handmadekeyvault0f212c84.\n",
      "Deployed KeyVault with name handmadekeyvault0f212c84. Took 18.55 seconds.\n",
      "Deploying Workspace with name handmade_ntt_data_challenge.\n",
      "Deployed StorageAccount with name handmadestorage822b6e018. Took 23.62 seconds.\n",
      "Deployed Workspace with name handmade_ntt_data_challenge. Took 35.61 seconds.\n"
     ]
    }
   ],
   "source": [
    "# Create Workspace\n",
    "\n",
    "from azureml.core import Workspace\n",
    "\n",
    "ws = Workspace.create(name                  = \"handmade_ntt_data_challenge\",\n",
    "                      subscription_id       = credentials.azure_subscription_id,\n",
    "                      resource_group        = credentials.azure_resource_group,\n",
    "                      create_resource_group = False,\n",
    "                      location              = credentials.azure_location)"
   ]
  },
  {
   "cell_type": "code",
   "execution_count": 9,
   "metadata": {},
   "outputs": [],
   "source": [
    "# Connect to Workspace\n",
    "\n",
    "from azureml.core import Workspace\n",
    "\n",
    "ws = Workspace(workspace_name        = \"handmade_ntt_data_challenge\",\n",
    "               subscription_id       = credentials.azure_subscription_id,\n",
    "               resource_group        = credentials.azure_resource_group)"
   ]
  },
  {
   "cell_type": "code",
   "execution_count": 36,
   "metadata": {},
   "outputs": [
    {
     "name": "stdout",
     "output_type": "stream",
     "text": [
      "Registering model handmade_model\n"
     ]
    }
   ],
   "source": [
    "# Register the model\n",
    "\n",
    "from azureml.core.model import Model\n",
    "\n",
    "model = Model.register(workspace  = ws, \n",
    "                       model_path = \"../resources/model.pkl\", \n",
    "                       model_name = \"handmade_model\")"
   ]
  },
  {
   "cell_type": "code",
   "execution_count": 35,
   "metadata": {},
   "outputs": [
    {
     "name": "stdout",
     "output_type": "stream",
     "text": [
      "Registering model handmade_x_scaler\n"
     ]
    }
   ],
   "source": [
    "# Register the x_scaler\n",
    "\n",
    "from azureml.core.model import Model\n",
    "\n",
    "model = Model.register(workspace  = ws, \n",
    "                       model_path = \"../resources/x_scaler.pkl\", \n",
    "                       model_name = \"handmade_x_scaler\")"
   ]
  },
  {
   "cell_type": "code",
   "execution_count": 24,
   "metadata": {},
   "outputs": [],
   "source": [
    "# Define inference config\n",
    "\n",
    "from azureml.core import Environment\n",
    "from azureml.core.model import InferenceConfig\n",
    "\n",
    "env = Environment(name = \"handmade_env\")\n",
    "dummy_inference_config = InferenceConfig(environment      = env,\n",
    "                                         source_directory = \"../pys/\",\n",
    "                                         entry_script     = \"../pys/echo_score.py\")"
   ]
  },
  {
   "cell_type": "code",
   "execution_count": 23,
   "metadata": {},
   "outputs": [],
   "source": [
    "# Local deployment\n",
    "\n",
    "from azureml.core.webservice import LocalWebservice\n",
    "\n",
    "deployment_config = LocalWebservice.deploy_configuration(port=6789)"
   ]
  },
  {
   "cell_type": "code",
   "execution_count": 25,
   "metadata": {},
   "outputs": [
    {
     "name": "stderr",
     "output_type": "stream",
     "text": [
      "/var/folders/10/5nbnv2696vlgb605wf3g6wwh0000gn/T/ipykernel_32754/428816697.py:1: FutureWarning: azureml.core.model:\n",
      "To leverage new model deployment capabilities, AzureML recommends using CLI/SDK v2 to deploy models as online endpoint, \n",
      "please refer to respective documentations \n",
      "https://docs.microsoft.com/azure/machine-learning/how-to-deploy-managed-online-endpoints /\n",
      "https://docs.microsoft.com/azure/machine-learning/how-to-attach-kubernetes-anywhere \n",
      "For more information on migration, see https://aka.ms/acimoemigration \n",
      "To disable CLI/SDK v1 deprecation warning set AZUREML_LOG_DEPRECATION_WARNING_ENABLED to 'False'\n",
      "  service = Model.deploy(workspace         = ws,\n"
     ]
    },
    {
     "name": "stdout",
     "output_type": "stream",
     "text": [
      "Downloading model handmade_model:2 to /var/folders/10/5nbnv2696vlgb605wf3g6wwh0000gn/T/azureml_l3l28onq/handmade_model/2\n",
      "Generating Docker build context.\n",
      "Package creation Succeeded\n",
      "Logging into Docker registry e4e0e96ebb3f40cdb53da54690e88f94.azurecr.io\n",
      "Logging into Docker registry e4e0e96ebb3f40cdb53da54690e88f94.azurecr.io\n",
      "Building Docker image from Dockerfile...\n",
      "Step 1/5 : FROM e4e0e96ebb3f40cdb53da54690e88f94.azurecr.io/azureml/azureml_de295a9a9e47e09a199d4bf845dd6bf2\n",
      " ---> 55c9e0ac853c\n",
      "Step 2/5 : COPY azureml-app /var/azureml-app\n",
      " ---> 793bdb6c7040\n",
      "Step 3/5 : RUN mkdir -p '/var/azureml-app' && echo eyJhY2NvdW50Q29udGV4dCI6eyJzdWJzY3JpcHRpb25JZCI6IjQ2ZmE4NTZiLTgyYzgtNGIzNy04MzM5LTk2ZDBmMzg1OTljNyIsInJlc291cmNlR3JvdXBOYW1lIjoiZ3UxIiwiYWNjb3VudE5hbWUiOiJoYW5kbWFkZV9udHRfZGF0YV9jaGFsbGVuZ2UiLCJ3b3Jrc3BhY2VJZCI6ImU0ZTBlOTZlLWJiM2YtNDBjZC1iNTNkLWE1NDY5MGU4OGY5NCJ9LCJtb2RlbHMiOnt9LCJtb2RlbHNJbmZvIjp7fX0= | base64 --decode > /var/azureml-app/model_config_map.json\n",
      " ---> [Warning] The requested image's platform (linux/amd64) does not match the detected host platform (linux/arm64/v8) and no specific platform was requested\n",
      " ---> Running in 79474e87aedc\n",
      " ---> db33ae5c040c\n",
      "Step 4/5 : RUN mv '/var/azureml-app/tmpkdoni_4d.py' /var/azureml-app/main.py\n",
      " ---> [Warning] The requested image's platform (linux/amd64) does not match the detected host platform (linux/arm64/v8) and no specific platform was requested\n",
      " ---> Running in 2e1a0450813c\n",
      " ---> 2991a4284406\n",
      "Step 5/5 : CMD [\"runsvdir\",\"/var/runit\"]\n",
      " ---> [Warning] The requested image's platform (linux/amd64) does not match the detected host platform (linux/arm64/v8) and no specific platform was requested\n",
      " ---> Running in ecd31036e33d\n",
      " ---> 114f789b6e55\n",
      "Successfully built 114f789b6e55\n",
      "Successfully tagged handmade-predict:latest\n",
      "Container (name:dazzling_kapitsa, id:2f585cb5817519f75bd767e381f13ac0f1994360b958f901a3c49599eb752785) cannot be killed.\n",
      "Container has been successfully cleaned up.\n",
      "Image sha256:b78fb617aa696bc0c49521ecb0d6a1a5476d48266ee768ebace9e2d36e0d55c0 successfully removed.\n",
      "Starting Docker container...\n",
      "Docker container running.\n",
      "Checking container health...\n",
      "Local webservice is running at http://localhost:6789\n"
     ]
    }
   ],
   "source": [
    "service = Model.deploy(workspace         = ws,\n",
    "                       name              = \"handmade-predict\",\n",
    "                       models            = [model],\n",
    "                       inference_config  = dummy_inference_config,\n",
    "                       deployment_config = deployment_config,\n",
    "                       overwrite         = True)\n",
    "\n",
    "service.wait_for_deployment(show_output = True)"
   ]
  },
  {
   "cell_type": "code",
   "execution_count": 42,
   "metadata": {},
   "outputs": [],
   "source": [
    "# Cloud deployment\n",
    "\n",
    "from azureml.core import Environment\n",
    "from azureml.core.model import InferenceConfig\n",
    "\n",
    "env = Environment(name=\"cloudenv\")\n",
    "python_packages = ['joblib', 'numpy', 'scikit_learn==1.2.2', 'json']\n",
    "\n",
    "for package in python_packages:\n",
    "    env.python.conda_dependencies.add_pip_package(package)\n",
    "\n",
    "inference_config = InferenceConfig(environment=env, source_directory='../pys/', entry_script='../pys/score.py')"
   ]
  },
  {
   "cell_type": "code",
   "execution_count": 38,
   "metadata": {},
   "outputs": [
    {
     "data": {
      "text/plain": [
       "Model(workspace=Workspace.create(name='handmade_ntt_data_challenge', subscription_id='46fa856b-82c8-4b37-8339-96d0f38599c7', resource_group='gu1'), name=handmade_model, id=handmade_model:3, version=3, tags={}, properties={})"
      ]
     },
     "execution_count": 38,
     "metadata": {},
     "output_type": "execute_result"
    }
   ],
   "source": []
  },
  {
   "cell_type": "code",
   "execution_count": 75,
   "metadata": {},
   "outputs": [
    {
     "name": "stderr",
     "output_type": "stream",
     "text": [
      "/var/folders/10/5nbnv2696vlgb605wf3g6wwh0000gn/T/ipykernel_32754/3685342045.py:5: FutureWarning: azureml.core.model:\n",
      "To leverage new model deployment capabilities, AzureML recommends using CLI/SDK v2 to deploy models as online endpoint, \n",
      "please refer to respective documentations \n",
      "https://docs.microsoft.com/azure/machine-learning/how-to-deploy-managed-online-endpoints /\n",
      "https://docs.microsoft.com/azure/machine-learning/how-to-attach-kubernetes-anywhere \n",
      "For more information on migration, see https://aka.ms/acimoemigration \n",
      "To disable CLI/SDK v1 deprecation warning set AZUREML_LOG_DEPRECATION_WARNING_ENABLED to 'False'\n",
      "  service = Model.deploy(workspace         = ws,\n"
     ]
    },
    {
     "name": "stdout",
     "output_type": "stream",
     "text": [
      "Downloading model handmade_model:3 to /var/folders/10/5nbnv2696vlgb605wf3g6wwh0000gn/T/azureml_9lmdbyaq/handmade_model/3\n",
      "Generating Docker build context.\n",
      "Package creation Succeeded\n",
      "Logging into Docker registry e4e0e96ebb3f40cdb53da54690e88f94.azurecr.io\n",
      "Logging into Docker registry e4e0e96ebb3f40cdb53da54690e88f94.azurecr.io\n",
      "Building Docker image from Dockerfile...\n",
      "Step 1/5 : FROM e4e0e96ebb3f40cdb53da54690e88f94.azurecr.io/azureml/azureml_43317445302be16e1f2b9647c97899fd\n",
      " ---> 59c5cb19690f\n",
      "Step 2/5 : COPY azureml-app /var/azureml-app\n",
      " ---> 3a2234d8a5c3\n",
      "Step 3/5 : RUN mkdir -p '/var/azureml-app' && echo eyJhY2NvdW50Q29udGV4dCI6eyJzdWJzY3JpcHRpb25JZCI6IjQ2ZmE4NTZiLTgyYzgtNGIzNy04MzM5LTk2ZDBmMzg1OTljNyIsInJlc291cmNlR3JvdXBOYW1lIjoiZ3UxIiwiYWNjb3VudE5hbWUiOiJoYW5kbWFkZV9udHRfZGF0YV9jaGFsbGVuZ2UiLCJ3b3Jrc3BhY2VJZCI6ImU0ZTBlOTZlLWJiM2YtNDBjZC1iNTNkLWE1NDY5MGU4OGY5NCJ9LCJtb2RlbHMiOnt9LCJtb2RlbHNJbmZvIjp7fX0= | base64 --decode > /var/azureml-app/model_config_map.json\n",
      " ---> [Warning] The requested image's platform (linux/amd64) does not match the detected host platform (linux/arm64/v8) and no specific platform was requested\n",
      " ---> Running in a841021b735b\n",
      " ---> 3f3d939a846a\n",
      "Step 4/5 : RUN mv '/var/azureml-app/tmpq7jh1mbq.py' /var/azureml-app/main.py\n",
      " ---> [Warning] The requested image's platform (linux/amd64) does not match the detected host platform (linux/arm64/v8) and no specific platform was requested\n",
      " ---> Running in e537c5fd6dd2\n",
      " ---> b510bb11b073\n",
      "Step 5/5 : CMD [\"runsvdir\",\"/var/runit\"]\n",
      " ---> [Warning] The requested image's platform (linux/amd64) does not match the detected host platform (linux/arm64/v8) and no specific platform was requested\n",
      " ---> Running in 575c7f0766f7\n",
      " ---> 4593f35be962\n",
      "Successfully built 4593f35be962\n",
      "Successfully tagged handmade-predict:latest\n",
      "Container has been successfully cleaned up.\n",
      "Image sha256:67297786699f042bc9686348c52a7ab3985d5fae12f9a0804ae300407cab58f8 successfully removed.\n",
      "Starting Docker container...\n",
      "Docker container running.\n",
      "Checking container health...\n",
      "Local webservice is running at http://localhost:6789\n"
     ]
    }
   ],
   "source": [
    "from azureml.core.model import Model\n",
    "\n",
    "model = Model(ws, \"handmade_model\")\n",
    "\n",
    "service = Model.deploy(workspace         = ws,\n",
    "                       name              = \"handmade-predict\",\n",
    "                       models            = [model],\n",
    "                       inference_config  = inference_config,\n",
    "                       deployment_config = deployment_config,\n",
    "                       overwrite         = True)\n",
    "\n",
    "service.wait_for_deployment(show_output = True)"
   ]
  },
  {
   "cell_type": "code",
   "execution_count": 76,
   "metadata": {},
   "outputs": [
    {
     "name": "stdout",
     "output_type": "stream",
     "text": [
      "{'message': 'An unexpected error occurred in scoring script. Check the logs for more info.'}\n"
     ]
    }
   ],
   "source": [
    "import requests\n",
    "import json\n",
    "import numpy as np\n",
    "import joblib\n",
    "\n",
    "uri = service.scoring_uri\n",
    "requests.get(\"http://localhost:6789\")\n",
    "headers = {\"Content-Type\": \"application/json\"}\n",
    "\n",
    "data = {\n",
    "        \"edad\": 40.0,\n",
    "        \"trabajo\": 40.0,\n",
    "        \"deuda\": 40.0,\n",
    "        \"saldo\": 40.0,\n",
    "        \"vivienda\": 40.0,\n",
    "        \"prestamo\": 40.0,\n",
    "        \"duracion\": 40.0,\n",
    "        \"fecha_contacto\": 40.0,\n",
    "        \"campaign\": 40.0,\n",
    "        \"tiempo_transcurrido\": 40.0,\n",
    "        \"contactos_anteriores\": 40.0,\n",
    "        \"target\": 40.0,\n",
    "        \"contactado\": 40.0,\n",
    "        \"desconocido\": 40.0,\n",
    "        \"fijo\": 40.0,\n",
    "        \"movil\": 40.0,\n",
    "        \"casado\": 40.0,\n",
    "        \"divorciado\": 40.0,\n",
    "        \"soltero\": 40.0,\n",
    "        \"exito\": 40.0,\n",
    "        \"nuevo_cliente\": 40.0,\n",
    "        \"otro\": 40.0,\n",
    "        \"sin_exito\": 0,\n",
    "        \"primaria\": 1,\n",
    "        \"secundaria/superiores\": 0,\n",
    "        \"universitarios\": 40.0\n",
    "      }\n",
    "\n",
    "input = []\n",
    "scaler = joblib.load(\"../resources/x_scaler.pkl\")\n",
    "\n",
    "for i in data:\n",
    "\n",
    "    input.append(data[i])\n",
    "\n",
    "input = np.array([input])\n",
    "\n",
    "scaled_input = scaler.transform(input)\n",
    "\n",
    "for enum, i in enumerate(data):\n",
    "    \n",
    "    data[i] = scaled_input.tolist()[0][enum]\n",
    "\n",
    "\n",
    "response = requests.post(uri, data=json.dumps(data), headers=headers)\n",
    "print(response.json())"
   ]
  },
  {
   "cell_type": "code",
   "execution_count": 54,
   "metadata": {},
   "outputs": [
    {
     "data": {
      "text/plain": [
       "[0.0009038526720144616,\n",
       " 0.28571428571428575,\n",
       " 3.6363636363636367,\n",
       " 40.0,\n",
       " 0.0731665244312095,\n",
       " 40.0,\n",
       " 40.0,\n",
       " 0.008133387555917039,\n",
       " -51.90238961105952,\n",
       " 0.6290322580645161,\n",
       " 0.045924225028702644,\n",
       " 0.14545454545454545,\n",
       " 40.0,\n",
       " 40.0,\n",
       " 40.0,\n",
       " 40.0,\n",
       " 40.0,\n",
       " 40.0,\n",
       " 40.0,\n",
       " 40.0,\n",
       " 40.0,\n",
       " 40.0,\n",
       " 0.0,\n",
       " 1.0,\n",
       " 0.0,\n",
       " 40.0]"
      ]
     },
     "execution_count": 54,
     "metadata": {},
     "output_type": "execute_result"
    }
   ],
   "source": [
    "scaled_input.tolist()[0]"
   ]
  },
  {
   "cell_type": "code",
   "execution_count": 65,
   "metadata": {},
   "outputs": [
    {
     "data": {
      "text/plain": [
       "{'edad': 0.0009038526720144616,\n",
       " 'trabajo': 0.28571428571428575,\n",
       " 'deuda': 3.6363636363636367,\n",
       " 'saldo': 40.0,\n",
       " 'vivienda': 0.0731665244312095,\n",
       " 'prestamo': 40.0,\n",
       " 'duracion': 40.0,\n",
       " 'fecha_contacto': 0.008133387555917039,\n",
       " 'campaign': -51.90238961105952,\n",
       " 'tiempo_transcurrido': 0.6290322580645161,\n",
       " 'contactos_anteriores': 0.045924225028702644,\n",
       " 'target': 0.14545454545454545,\n",
       " 'contactado': 40.0,\n",
       " 'desconocido': 40.0,\n",
       " 'fijo': 40.0,\n",
       " 'movil': 40.0,\n",
       " 'casado': 40.0,\n",
       " 'divorciado': 40.0,\n",
       " 'soltero': 40.0,\n",
       " 'exito': 40.0,\n",
       " 'nuevo_cliente': 40.0,\n",
       " 'otro': 40.0,\n",
       " 'sin_exito': 0.0,\n",
       " 'primaria': 1.0,\n",
       " 'secundaria/superiores': 0.0,\n",
       " 'universitarios': 40.0}"
      ]
     },
     "execution_count": 65,
     "metadata": {},
     "output_type": "execute_result"
    }
   ],
   "source": [
    "data"
   ]
  },
  {
   "cell_type": "code",
   "execution_count": 66,
   "metadata": {},
   "outputs": [
    {
     "data": {
      "text/plain": [
       "array([[ 9.03852672e-04,  2.85714286e-01,  3.63636364e+00,\n",
       "         4.00000000e+01,  7.31665244e-02,  4.00000000e+01,\n",
       "         4.00000000e+01,  8.13338756e-03, -5.19023896e+01,\n",
       "         6.29032258e-01,  4.59242250e-02,  1.45454545e-01,\n",
       "         4.00000000e+01,  4.00000000e+01,  4.00000000e+01,\n",
       "         4.00000000e+01,  4.00000000e+01,  4.00000000e+01,\n",
       "         4.00000000e+01,  4.00000000e+01,  4.00000000e+01,\n",
       "         4.00000000e+01,  0.00000000e+00,  1.00000000e+00,\n",
       "         0.00000000e+00,  4.00000000e+01]])"
      ]
     },
     "execution_count": 66,
     "metadata": {},
     "output_type": "execute_result"
    }
   ],
   "source": [
    "l = []\n",
    "\n",
    "for i in data:\n",
    "\n",
    "    l.append(data[i])\n",
    "\n",
    "input = np.array([l])\n",
    "\n",
    "input"
   ]
  },
  {
   "cell_type": "code",
   "execution_count": 70,
   "metadata": {},
   "outputs": [],
   "source": [
    "localmodel = joblib.load(\"../resources/model.pkl\")"
   ]
  },
  {
   "cell_type": "code",
   "execution_count": 72,
   "metadata": {},
   "outputs": [],
   "source": [
    "result = localmodel.predict(input)"
   ]
  },
  {
   "cell_type": "code",
   "execution_count": 74,
   "metadata": {},
   "outputs": [
    {
     "data": {
      "text/plain": [
       "0"
      ]
     },
     "execution_count": 74,
     "metadata": {},
     "output_type": "execute_result"
    }
   ],
   "source": [
    "int(result[0])"
   ]
  },
  {
   "cell_type": "code",
   "execution_count": 78,
   "metadata": {},
   "outputs": [
    {
     "data": {
      "text/plain": [
       "'{\"edad\": 0.0009038526720144616, \"trabajo\": 0.28571428571428575, \"deuda\": 3.6363636363636367, \"saldo\": 40.0, \"vivienda\": 0.0731665244312095, \"prestamo\": 40.0, \"duracion\": 40.0, \"fecha_contacto\": 0.008133387555917039, \"campaign\": -51.90238961105952, \"tiempo_transcurrido\": 0.6290322580645161, \"contactos_anteriores\": 0.045924225028702644, \"target\": 0.14545454545454545, \"contactado\": 40.0, \"desconocido\": 40.0, \"fijo\": 40.0, \"movil\": 40.0, \"casado\": 40.0, \"divorciado\": 40.0, \"soltero\": 40.0, \"exito\": 40.0, \"nuevo_cliente\": 40.0, \"otro\": 40.0, \"sin_exito\": 0.0, \"primaria\": 1.0, \"secundaria/superiores\": 0.0, \"universitarios\": 40.0}'"
      ]
     },
     "execution_count": 78,
     "metadata": {},
     "output_type": "execute_result"
    }
   ],
   "source": [
    "json.dumps(data)"
   ]
  },
  {
   "cell_type": "code",
   "execution_count": null,
   "metadata": {},
   "outputs": [],
   "source": []
  }
 ],
 "metadata": {
  "kernelspec": {
   "display_name": "base",
   "language": "python",
   "name": "python3"
  },
  "language_info": {
   "codemirror_mode": {
    "name": "ipython",
    "version": 3
   },
   "file_extension": ".py",
   "mimetype": "text/x-python",
   "name": "python",
   "nbconvert_exporter": "python",
   "pygments_lexer": "ipython3",
   "version": "3.9.13"
  },
  "orig_nbformat": 4
 },
 "nbformat": 4,
 "nbformat_minor": 2
}
