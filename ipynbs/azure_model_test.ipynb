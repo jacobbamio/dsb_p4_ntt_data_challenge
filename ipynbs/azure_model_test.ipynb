{
 "cells": [
  {
   "cell_type": "code",
   "execution_count": 2,
   "metadata": {},
   "outputs": [],
   "source": [
    "import urllib.request\n",
    "import json\n",
    "import os\n",
    "import joblib\n",
    "import numpy as np\n",
    "from pys import credentials\n"
   ]
  },
  {
   "cell_type": "code",
   "execution_count": 4,
   "metadata": {},
   "outputs": [
    {
     "name": "stdout",
     "output_type": "stream",
     "text": [
      "b'\"This client wouldn\\'t contract the fixed deposit\"'\n"
     ]
    }
   ],
   "source": [
    "data = {\"edad\": 40.0,\n",
    "        \"trabajo\": 40.0,\n",
    "        \"deuda\": 40.0,\n",
    "        \"saldo\": 40.0,\n",
    "        \"vivienda\": 40.0,\n",
    "        \"prestamo\": 40.0,\n",
    "        \"duracion\": 40.0,\n",
    "        \"fecha_contacto\": 40.0,\n",
    "        \"campaign\": 40.0,\n",
    "        \"tiempo_transcurrido\": 40.0,\n",
    "        \"contactos_anteriores\": 40.0,\n",
    "        \"target\": 40.0,\n",
    "        \"contactado\": 40.0,\n",
    "        \"desconocido\": 40.0,\n",
    "        \"fijo\": 40.0,\n",
    "        \"movil\": 40.0,\n",
    "        \"casado\": 40.0,\n",
    "        \"divorciado\": 40.0,\n",
    "        \"soltero\": 40.0,\n",
    "        \"exito\": 40.0,\n",
    "        \"nuevo_cliente\": 40.0,\n",
    "        \"otro\": 40.0,\n",
    "        \"sin_exito\": 0,\n",
    "        \"primaria\": 1,\n",
    "        \"secundaria/superiores\": 0,\n",
    "        \"universitarios\": 40.0}\n",
    "\n",
    "input = []\n",
    "scaler = joblib.load(\"../resources/x_scaler.pkl\")\n",
    "\n",
    "for i in data:\n",
    "\n",
    "    input.append(data[i])\n",
    "\n",
    "input = np.array([input])\n",
    "\n",
    "scaled_input = scaler.transform(input)\n",
    "\n",
    "for enum, i in enumerate(data):\n",
    "    \n",
    "    data[i] = scaled_input.tolist()[0][enum]\n",
    "\n",
    "    \n",
    "body = str.encode(json.dumps(data))\n",
    "\n",
    "url = credentials.azure_handmade_predict_rest_endpoint\n",
    "# Replace this with the primary/secondary key or AMLToken for the endpoint\n",
    "api_key = credentials.azure_handmade_predict_api_key\n",
    "\n",
    "if not api_key:\n",
    "    raise Exception(\"A key should be provided to invoke the endpoint\")\n",
    "\n",
    "\n",
    "headers = {'Content-Type':'application/json', 'Authorization':('Bearer '+ api_key)}\n",
    "\n",
    "req = urllib.request.Request(url, body, headers)\n",
    "\n",
    "try:\n",
    "    response = urllib.request.urlopen(req)\n",
    "\n",
    "    result = response.read()\n",
    "    print(result)\n",
    "\n",
    "except urllib.error.HTTPError as error:\n",
    "    print(\"The request failed with status code: \" + str(error.code))\n",
    "\n",
    "    # Print the headers - they include the requert ID and the timestamp, which are useful for debugging the failure\n",
    "    print(error.info())\n",
    "    print(error.read().decode(\"utf8\", 'ignore'))"
   ]
  },
  {
   "cell_type": "code",
   "execution_count": null,
   "metadata": {},
   "outputs": [],
   "source": []
  }
 ],
 "metadata": {
  "kernelspec": {
   "display_name": "base",
   "language": "python",
   "name": "python3"
  },
  "language_info": {
   "codemirror_mode": {
    "name": "ipython",
    "version": 3
   },
   "file_extension": ".py",
   "mimetype": "text/x-python",
   "name": "python",
   "nbconvert_exporter": "python",
   "pygments_lexer": "ipython3",
   "version": "3.9.13"
  },
  "orig_nbformat": 4
 },
 "nbformat": 4,
 "nbformat_minor": 2
}
