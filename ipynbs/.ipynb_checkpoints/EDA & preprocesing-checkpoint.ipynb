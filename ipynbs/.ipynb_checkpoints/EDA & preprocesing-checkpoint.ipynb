{
 "cells": [
  {
   "cell_type": "code",
   "execution_count": 150,
   "id": "cf452751",
   "metadata": {},
   "outputs": [],
   "source": [
    "import pandas as pd\n",
    "import numpy as np\n",
    "import seaborn as sns"
   ]
  },
  {
   "cell_type": "code",
   "execution_count": 151,
   "id": "e1f57f5e",
   "metadata": {},
   "outputs": [],
   "source": [
    "df = pd.read_excel(\"../resources/train.xlsx\")"
   ]
  },
  {
   "cell_type": "code",
   "execution_count": 152,
   "id": "7436d9a9",
   "metadata": {},
   "outputs": [
    {
     "data": {
      "text/html": [
       "<div>\n",
       "<style scoped>\n",
       "    .dataframe tbody tr th:only-of-type {\n",
       "        vertical-align: middle;\n",
       "    }\n",
       "\n",
       "    .dataframe tbody tr th {\n",
       "        vertical-align: top;\n",
       "    }\n",
       "\n",
       "    .dataframe thead th {\n",
       "        text-align: right;\n",
       "    }\n",
       "</style>\n",
       "<table border=\"1\" class=\"dataframe\">\n",
       "  <thead>\n",
       "    <tr style=\"text-align: right;\">\n",
       "      <th></th>\n",
       "      <th>ID</th>\n",
       "      <th>edad</th>\n",
       "      <th>trabajo</th>\n",
       "      <th>estado_civil</th>\n",
       "      <th>educacion</th>\n",
       "      <th>deuda</th>\n",
       "      <th>saldo</th>\n",
       "      <th>vivienda</th>\n",
       "      <th>prestamo</th>\n",
       "      <th>tipo_contacto</th>\n",
       "      <th>duracion</th>\n",
       "      <th>fecha_contacto</th>\n",
       "      <th>campaign</th>\n",
       "      <th>tiempo_transcurrido</th>\n",
       "      <th>contactos_anteriores</th>\n",
       "      <th>resultado_campanas_anteriores</th>\n",
       "      <th>target</th>\n",
       "    </tr>\n",
       "  </thead>\n",
       "  <tbody>\n",
       "    <tr>\n",
       "      <th>0</th>\n",
       "      <td>1</td>\n",
       "      <td>40</td>\n",
       "      <td>blue-collar</td>\n",
       "      <td>casado</td>\n",
       "      <td>secundaria/superiores</td>\n",
       "      <td>no</td>\n",
       "      <td>580</td>\n",
       "      <td>si</td>\n",
       "      <td>no</td>\n",
       "      <td>NaN</td>\n",
       "      <td>192</td>\n",
       "      <td>2021-05-16 00:00:00</td>\n",
       "      <td>1</td>\n",
       "      <td>-1</td>\n",
       "      <td>0</td>\n",
       "      <td>NaN</td>\n",
       "      <td>no</td>\n",
       "    </tr>\n",
       "    <tr>\n",
       "      <th>1</th>\n",
       "      <td>2</td>\n",
       "      <td>47</td>\n",
       "      <td>services</td>\n",
       "      <td>soltero</td>\n",
       "      <td>secundaria/superiores</td>\n",
       "      <td>no</td>\n",
       "      <td>3644</td>\n",
       "      <td>no</td>\n",
       "      <td>no</td>\n",
       "      <td>NaN</td>\n",
       "      <td>83</td>\n",
       "      <td>2021-06-09 00:00:00</td>\n",
       "      <td>2</td>\n",
       "      <td>-1</td>\n",
       "      <td>0</td>\n",
       "      <td>NaN</td>\n",
       "      <td>no</td>\n",
       "    </tr>\n",
       "    <tr>\n",
       "      <th>2</th>\n",
       "      <td>3</td>\n",
       "      <td>25</td>\n",
       "      <td>student</td>\n",
       "      <td>soltero</td>\n",
       "      <td>universitarios</td>\n",
       "      <td>no</td>\n",
       "      <td>538</td>\n",
       "      <td>si</td>\n",
       "      <td>no</td>\n",
       "      <td>movil</td>\n",
       "      <td>226</td>\n",
       "      <td>20-apr-2021</td>\n",
       "      <td>1</td>\n",
       "      <td>-1</td>\n",
       "      <td>0</td>\n",
       "      <td>NaN</td>\n",
       "      <td>no</td>\n",
       "    </tr>\n",
       "    <tr>\n",
       "      <th>3</th>\n",
       "      <td>4</td>\n",
       "      <td>42</td>\n",
       "      <td>management</td>\n",
       "      <td>casado</td>\n",
       "      <td>universitarios</td>\n",
       "      <td>no</td>\n",
       "      <td>1773</td>\n",
       "      <td>no</td>\n",
       "      <td>no</td>\n",
       "      <td>movil</td>\n",
       "      <td>311</td>\n",
       "      <td>9-apr-2021</td>\n",
       "      <td>1</td>\n",
       "      <td>336</td>\n",
       "      <td>1</td>\n",
       "      <td>sin_exito</td>\n",
       "      <td>no</td>\n",
       "    </tr>\n",
       "    <tr>\n",
       "      <th>4</th>\n",
       "      <td>5</td>\n",
       "      <td>56</td>\n",
       "      <td>management</td>\n",
       "      <td>casado</td>\n",
       "      <td>universitarios</td>\n",
       "      <td>no</td>\n",
       "      <td>217</td>\n",
       "      <td>no</td>\n",
       "      <td>si</td>\n",
       "      <td>movil</td>\n",
       "      <td>121</td>\n",
       "      <td>2021-07-21 00:00:00</td>\n",
       "      <td>2</td>\n",
       "      <td>-1</td>\n",
       "      <td>0</td>\n",
       "      <td>NaN</td>\n",
       "      <td>no</td>\n",
       "    </tr>\n",
       "    <tr>\n",
       "      <th>...</th>\n",
       "      <td>...</td>\n",
       "      <td>...</td>\n",
       "      <td>...</td>\n",
       "      <td>...</td>\n",
       "      <td>...</td>\n",
       "      <td>...</td>\n",
       "      <td>...</td>\n",
       "      <td>...</td>\n",
       "      <td>...</td>\n",
       "      <td>...</td>\n",
       "      <td>...</td>\n",
       "      <td>...</td>\n",
       "      <td>...</td>\n",
       "      <td>...</td>\n",
       "      <td>...</td>\n",
       "      <td>...</td>\n",
       "      <td>...</td>\n",
       "    </tr>\n",
       "    <tr>\n",
       "      <th>44251</th>\n",
       "      <td>44252</td>\n",
       "      <td>38</td>\n",
       "      <td>management</td>\n",
       "      <td>casado</td>\n",
       "      <td>secundaria/superiores</td>\n",
       "      <td>no</td>\n",
       "      <td>-323</td>\n",
       "      <td>si</td>\n",
       "      <td>no</td>\n",
       "      <td>NaN</td>\n",
       "      <td>250</td>\n",
       "      <td>2021-06-09 00:00:00</td>\n",
       "      <td>1</td>\n",
       "      <td>-1</td>\n",
       "      <td>0</td>\n",
       "      <td>NaN</td>\n",
       "      <td>no</td>\n",
       "    </tr>\n",
       "    <tr>\n",
       "      <th>44252</th>\n",
       "      <td>44253</td>\n",
       "      <td>49</td>\n",
       "      <td>technician</td>\n",
       "      <td>casado</td>\n",
       "      <td>secundaria/superiores</td>\n",
       "      <td>no</td>\n",
       "      <td>1982</td>\n",
       "      <td>si</td>\n",
       "      <td>si</td>\n",
       "      <td>movil</td>\n",
       "      <td>73</td>\n",
       "      <td>22-aug-2021</td>\n",
       "      <td>15</td>\n",
       "      <td>-1</td>\n",
       "      <td>0</td>\n",
       "      <td>NaN</td>\n",
       "      <td>no</td>\n",
       "    </tr>\n",
       "    <tr>\n",
       "      <th>44253</th>\n",
       "      <td>44254</td>\n",
       "      <td>51</td>\n",
       "      <td>blue-collar</td>\n",
       "      <td>casado</td>\n",
       "      <td>secundaria/superiores</td>\n",
       "      <td>no</td>\n",
       "      <td>794</td>\n",
       "      <td>si</td>\n",
       "      <td>no</td>\n",
       "      <td>fijo</td>\n",
       "      <td>747</td>\n",
       "      <td>2021-07-24 00:00:00</td>\n",
       "      <td>1</td>\n",
       "      <td>-1</td>\n",
       "      <td>0</td>\n",
       "      <td>NaN</td>\n",
       "      <td>no</td>\n",
       "    </tr>\n",
       "    <tr>\n",
       "      <th>44254</th>\n",
       "      <td>44255</td>\n",
       "      <td>29</td>\n",
       "      <td>blue-collar</td>\n",
       "      <td>soltero</td>\n",
       "      <td>universitarios</td>\n",
       "      <td>no</td>\n",
       "      <td>98</td>\n",
       "      <td>no</td>\n",
       "      <td>no</td>\n",
       "      <td>movil</td>\n",
       "      <td>170</td>\n",
       "      <td>10-aug-2021</td>\n",
       "      <td>2</td>\n",
       "      <td>-1</td>\n",
       "      <td>0</td>\n",
       "      <td>NaN</td>\n",
       "      <td>no</td>\n",
       "    </tr>\n",
       "    <tr>\n",
       "      <th>44255</th>\n",
       "      <td>44256</td>\n",
       "      <td>32</td>\n",
       "      <td>technician</td>\n",
       "      <td>soltero</td>\n",
       "      <td>secundaria/superiores</td>\n",
       "      <td>no</td>\n",
       "      <td>321</td>\n",
       "      <td>si</td>\n",
       "      <td>no</td>\n",
       "      <td>movil</td>\n",
       "      <td>156</td>\n",
       "      <td>11-aug-2021</td>\n",
       "      <td>2</td>\n",
       "      <td>-1</td>\n",
       "      <td>0</td>\n",
       "      <td>NaN</td>\n",
       "      <td>no</td>\n",
       "    </tr>\n",
       "  </tbody>\n",
       "</table>\n",
       "<p>44256 rows × 17 columns</p>\n",
       "</div>"
      ],
      "text/plain": [
       "          ID  edad      trabajo estado_civil              educacion deuda  \\\n",
       "0          1    40  blue-collar       casado  secundaria/superiores    no   \n",
       "1          2    47     services      soltero  secundaria/superiores    no   \n",
       "2          3    25      student      soltero         universitarios    no   \n",
       "3          4    42   management       casado         universitarios    no   \n",
       "4          5    56   management       casado         universitarios    no   \n",
       "...      ...   ...          ...          ...                    ...   ...   \n",
       "44251  44252    38   management       casado  secundaria/superiores    no   \n",
       "44252  44253    49   technician       casado  secundaria/superiores    no   \n",
       "44253  44254    51  blue-collar       casado  secundaria/superiores    no   \n",
       "44254  44255    29  blue-collar      soltero         universitarios    no   \n",
       "44255  44256    32   technician      soltero  secundaria/superiores    no   \n",
       "\n",
       "       saldo vivienda prestamo tipo_contacto  duracion       fecha_contacto  \\\n",
       "0        580       si       no           NaN       192  2021-05-16 00:00:00   \n",
       "1       3644       no       no           NaN        83  2021-06-09 00:00:00   \n",
       "2        538       si       no         movil       226          20-apr-2021   \n",
       "3       1773       no       no         movil       311           9-apr-2021   \n",
       "4        217       no       si         movil       121  2021-07-21 00:00:00   \n",
       "...      ...      ...      ...           ...       ...                  ...   \n",
       "44251   -323       si       no           NaN       250  2021-06-09 00:00:00   \n",
       "44252   1982       si       si         movil        73          22-aug-2021   \n",
       "44253    794       si       no          fijo       747  2021-07-24 00:00:00   \n",
       "44254     98       no       no         movil       170          10-aug-2021   \n",
       "44255    321       si       no         movil       156          11-aug-2021   \n",
       "\n",
       "       campaign  tiempo_transcurrido  contactos_anteriores  \\\n",
       "0             1                   -1                     0   \n",
       "1             2                   -1                     0   \n",
       "2             1                   -1                     0   \n",
       "3             1                  336                     1   \n",
       "4             2                   -1                     0   \n",
       "...         ...                  ...                   ...   \n",
       "44251         1                   -1                     0   \n",
       "44252        15                   -1                     0   \n",
       "44253         1                   -1                     0   \n",
       "44254         2                   -1                     0   \n",
       "44255         2                   -1                     0   \n",
       "\n",
       "      resultado_campanas_anteriores target  \n",
       "0                               NaN     no  \n",
       "1                               NaN     no  \n",
       "2                               NaN     no  \n",
       "3                         sin_exito     no  \n",
       "4                               NaN     no  \n",
       "...                             ...    ...  \n",
       "44251                           NaN     no  \n",
       "44252                           NaN     no  \n",
       "44253                           NaN     no  \n",
       "44254                           NaN     no  \n",
       "44255                           NaN     no  \n",
       "\n",
       "[44256 rows x 17 columns]"
      ]
     },
     "execution_count": 152,
     "metadata": {},
     "output_type": "execute_result"
    }
   ],
   "source": [
    "df"
   ]
  },
  {
   "cell_type": "code",
   "execution_count": 153,
   "id": "dd5b272e",
   "metadata": {},
   "outputs": [
    {
     "data": {
      "text/html": [
       "<div>\n",
       "<style scoped>\n",
       "    .dataframe tbody tr th:only-of-type {\n",
       "        vertical-align: middle;\n",
       "    }\n",
       "\n",
       "    .dataframe tbody tr th {\n",
       "        vertical-align: top;\n",
       "    }\n",
       "\n",
       "    .dataframe thead th {\n",
       "        text-align: right;\n",
       "    }\n",
       "</style>\n",
       "<table border=\"1\" class=\"dataframe\">\n",
       "  <thead>\n",
       "    <tr style=\"text-align: right;\">\n",
       "      <th></th>\n",
       "      <th>count</th>\n",
       "      <th>mean</th>\n",
       "      <th>std</th>\n",
       "      <th>min</th>\n",
       "      <th>25%</th>\n",
       "      <th>50%</th>\n",
       "      <th>75%</th>\n",
       "      <th>max</th>\n",
       "    </tr>\n",
       "  </thead>\n",
       "  <tbody>\n",
       "    <tr>\n",
       "      <th>ID</th>\n",
       "      <td>44256.0</td>\n",
       "      <td>22128.500000</td>\n",
       "      <td>12775.751093</td>\n",
       "      <td>1.0</td>\n",
       "      <td>11064.75</td>\n",
       "      <td>22128.5</td>\n",
       "      <td>33192.25</td>\n",
       "      <td>44256.0</td>\n",
       "    </tr>\n",
       "    <tr>\n",
       "      <th>edad</th>\n",
       "      <td>44256.0</td>\n",
       "      <td>40.934856</td>\n",
       "      <td>10.626296</td>\n",
       "      <td>18.0</td>\n",
       "      <td>33.00</td>\n",
       "      <td>39.0</td>\n",
       "      <td>48.00</td>\n",
       "      <td>95.0</td>\n",
       "    </tr>\n",
       "    <tr>\n",
       "      <th>saldo</th>\n",
       "      <td>44256.0</td>\n",
       "      <td>1361.455509</td>\n",
       "      <td>3053.362628</td>\n",
       "      <td>-8019.0</td>\n",
       "      <td>72.00</td>\n",
       "      <td>447.0</td>\n",
       "      <td>1424.25</td>\n",
       "      <td>102127.0</td>\n",
       "    </tr>\n",
       "    <tr>\n",
       "      <th>duracion</th>\n",
       "      <td>44256.0</td>\n",
       "      <td>258.320906</td>\n",
       "      <td>257.668451</td>\n",
       "      <td>0.0</td>\n",
       "      <td>103.00</td>\n",
       "      <td>180.0</td>\n",
       "      <td>319.00</td>\n",
       "      <td>4918.0</td>\n",
       "    </tr>\n",
       "    <tr>\n",
       "      <th>campaign</th>\n",
       "      <td>44256.0</td>\n",
       "      <td>2.761004</td>\n",
       "      <td>3.093201</td>\n",
       "      <td>1.0</td>\n",
       "      <td>1.00</td>\n",
       "      <td>2.0</td>\n",
       "      <td>3.00</td>\n",
       "      <td>63.0</td>\n",
       "    </tr>\n",
       "    <tr>\n",
       "      <th>tiempo_transcurrido</th>\n",
       "      <td>44256.0</td>\n",
       "      <td>40.259739</td>\n",
       "      <td>100.127699</td>\n",
       "      <td>-1.0</td>\n",
       "      <td>-1.00</td>\n",
       "      <td>-1.0</td>\n",
       "      <td>-1.00</td>\n",
       "      <td>871.0</td>\n",
       "    </tr>\n",
       "    <tr>\n",
       "      <th>contactos_anteriores</th>\n",
       "      <td>44256.0</td>\n",
       "      <td>0.581593</td>\n",
       "      <td>2.314184</td>\n",
       "      <td>0.0</td>\n",
       "      <td>0.00</td>\n",
       "      <td>0.0</td>\n",
       "      <td>0.00</td>\n",
       "      <td>275.0</td>\n",
       "    </tr>\n",
       "  </tbody>\n",
       "</table>\n",
       "</div>"
      ],
      "text/plain": [
       "                        count          mean           std     min       25%  \\\n",
       "ID                    44256.0  22128.500000  12775.751093     1.0  11064.75   \n",
       "edad                  44256.0     40.934856     10.626296    18.0     33.00   \n",
       "saldo                 44256.0   1361.455509   3053.362628 -8019.0     72.00   \n",
       "duracion              44256.0    258.320906    257.668451     0.0    103.00   \n",
       "campaign              44256.0      2.761004      3.093201     1.0      1.00   \n",
       "tiempo_transcurrido   44256.0     40.259739    100.127699    -1.0     -1.00   \n",
       "contactos_anteriores  44256.0      0.581593      2.314184     0.0      0.00   \n",
       "\n",
       "                          50%       75%       max  \n",
       "ID                    22128.5  33192.25   44256.0  \n",
       "edad                     39.0     48.00      95.0  \n",
       "saldo                   447.0   1424.25  102127.0  \n",
       "duracion                180.0    319.00    4918.0  \n",
       "campaign                  2.0      3.00      63.0  \n",
       "tiempo_transcurrido      -1.0     -1.00     871.0  \n",
       "contactos_anteriores      0.0      0.00     275.0  "
      ]
     },
     "execution_count": 153,
     "metadata": {},
     "output_type": "execute_result"
    }
   ],
   "source": [
    "df.describe().T\n"
   ]
  },
  {
   "cell_type": "code",
   "execution_count": 154,
   "id": "b30c5923",
   "metadata": {},
   "outputs": [
    {
     "name": "stdout",
     "output_type": "stream",
     "text": [
      "<class 'pandas.core.frame.DataFrame'>\n",
      "RangeIndex: 44256 entries, 0 to 44255\n",
      "Data columns (total 17 columns):\n",
      " #   Column                         Non-Null Count  Dtype \n",
      "---  ------                         --------------  ----- \n",
      " 0   ID                             44256 non-null  int64 \n",
      " 1   edad                           44256 non-null  int64 \n",
      " 2   trabajo                        44256 non-null  object\n",
      " 3   estado_civil                   44256 non-null  object\n",
      " 4   educacion                      42446 non-null  object\n",
      " 5   deuda                          44256 non-null  object\n",
      " 6   saldo                          44256 non-null  int64 \n",
      " 7   vivienda                       44256 non-null  object\n",
      " 8   prestamo                       44256 non-null  object\n",
      " 9   tipo_contacto                  31526 non-null  object\n",
      " 10  duracion                       44256 non-null  int64 \n",
      " 11  fecha_contacto                 44256 non-null  object\n",
      " 12  campaign                       44256 non-null  int64 \n",
      " 13  tiempo_transcurrido            44256 non-null  int64 \n",
      " 14  contactos_anteriores           44256 non-null  int64 \n",
      " 15  resultado_campanas_anteriores  8093 non-null   object\n",
      " 16  target                         44256 non-null  object\n",
      "dtypes: int64(7), object(10)\n",
      "memory usage: 5.7+ MB\n"
     ]
    }
   ],
   "source": [
    "df.info()"
   ]
  },
  {
   "cell_type": "code",
   "execution_count": 155,
   "id": "892afe21",
   "metadata": {},
   "outputs": [
    {
     "data": {
      "text/plain": [
       "blue-collar      9519\n",
       "management       9263\n",
       "technician       7436\n",
       "admin.           5076\n",
       "services         4056\n",
       "retired          2217\n",
       "self-employed    1548\n",
       "entrepreneur     1450\n",
       "unemployed       1274\n",
       "housemaid        1215\n",
       "student           922\n",
       "unknown           280\n",
       "Name: trabajo, dtype: int64"
      ]
     },
     "execution_count": 155,
     "metadata": {},
     "output_type": "execute_result"
    }
   ],
   "source": [
    "df[\"trabajo\"].value_counts()"
   ]
  },
  {
   "cell_type": "code",
   "execution_count": 156,
   "id": "3e743088",
   "metadata": {},
   "outputs": [
    {
     "data": {
      "text/plain": [
       "ID                                0.000000\n",
       "edad                              0.000000\n",
       "trabajo                           0.000000\n",
       "estado_civil                      0.000000\n",
       "educacion                         4.089841\n",
       "deuda                             0.000000\n",
       "saldo                             0.000000\n",
       "vivienda                          0.000000\n",
       "prestamo                          0.000000\n",
       "tipo_contacto                    28.764461\n",
       "duracion                          0.000000\n",
       "fecha_contacto                    0.000000\n",
       "campaign                          0.000000\n",
       "tiempo_transcurrido               0.000000\n",
       "contactos_anteriores              0.000000\n",
       "resultado_campanas_anteriores    81.713214\n",
       "target                            0.000000\n",
       "dtype: float64"
      ]
     },
     "execution_count": 156,
     "metadata": {},
     "output_type": "execute_result"
    }
   ],
   "source": [
    "df.isnull().sum()/len(df)*100"
   ]
  },
  {
   "cell_type": "code",
   "execution_count": 157,
   "id": "b0a137b8",
   "metadata": {},
   "outputs": [],
   "source": [
    "df[\"resultado_campanas_anteriores\"].fillna(\"nuevo_cliente\", inplace=True)"
   ]
  },
  {
   "cell_type": "code",
   "execution_count": 158,
   "id": "fbba480b",
   "metadata": {},
   "outputs": [],
   "source": [
    "df_test = df[[\"edad\", \"trabajo\", \"tipo_contacto\", \"duracion\", \"tiempo_transcurrido\"]]"
   ]
  },
  {
   "cell_type": "code",
   "execution_count": 159,
   "id": "6634e39a",
   "metadata": {
    "scrolled": true
   },
   "outputs": [
    {
     "data": {
      "text/html": [
       "<div>\n",
       "<style scoped>\n",
       "    .dataframe tbody tr th:only-of-type {\n",
       "        vertical-align: middle;\n",
       "    }\n",
       "\n",
       "    .dataframe tbody tr th {\n",
       "        vertical-align: top;\n",
       "    }\n",
       "\n",
       "    .dataframe thead th {\n",
       "        text-align: right;\n",
       "    }\n",
       "</style>\n",
       "<table border=\"1\" class=\"dataframe\">\n",
       "  <thead>\n",
       "    <tr style=\"text-align: right;\">\n",
       "      <th></th>\n",
       "      <th>edad</th>\n",
       "      <th>trabajo</th>\n",
       "      <th>tipo_contacto</th>\n",
       "      <th>duracion</th>\n",
       "      <th>tiempo_transcurrido</th>\n",
       "    </tr>\n",
       "  </thead>\n",
       "  <tbody>\n",
       "    <tr>\n",
       "      <th>0</th>\n",
       "      <td>40</td>\n",
       "      <td>blue-collar</td>\n",
       "      <td>NaN</td>\n",
       "      <td>192</td>\n",
       "      <td>-1</td>\n",
       "    </tr>\n",
       "    <tr>\n",
       "      <th>1</th>\n",
       "      <td>47</td>\n",
       "      <td>services</td>\n",
       "      <td>NaN</td>\n",
       "      <td>83</td>\n",
       "      <td>-1</td>\n",
       "    </tr>\n",
       "    <tr>\n",
       "      <th>9</th>\n",
       "      <td>38</td>\n",
       "      <td>technician</td>\n",
       "      <td>NaN</td>\n",
       "      <td>587</td>\n",
       "      <td>-1</td>\n",
       "    </tr>\n",
       "    <tr>\n",
       "      <th>12</th>\n",
       "      <td>30</td>\n",
       "      <td>blue-collar</td>\n",
       "      <td>NaN</td>\n",
       "      <td>395</td>\n",
       "      <td>-1</td>\n",
       "    </tr>\n",
       "    <tr>\n",
       "      <th>18</th>\n",
       "      <td>46</td>\n",
       "      <td>blue-collar</td>\n",
       "      <td>NaN</td>\n",
       "      <td>172</td>\n",
       "      <td>-1</td>\n",
       "    </tr>\n",
       "    <tr>\n",
       "      <th>23</th>\n",
       "      <td>44</td>\n",
       "      <td>blue-collar</td>\n",
       "      <td>NaN</td>\n",
       "      <td>111</td>\n",
       "      <td>-1</td>\n",
       "    </tr>\n",
       "    <tr>\n",
       "      <th>25</th>\n",
       "      <td>33</td>\n",
       "      <td>services</td>\n",
       "      <td>NaN</td>\n",
       "      <td>109</td>\n",
       "      <td>-1</td>\n",
       "    </tr>\n",
       "    <tr>\n",
       "      <th>28</th>\n",
       "      <td>60</td>\n",
       "      <td>technician</td>\n",
       "      <td>NaN</td>\n",
       "      <td>64</td>\n",
       "      <td>-1</td>\n",
       "    </tr>\n",
       "    <tr>\n",
       "      <th>29</th>\n",
       "      <td>51</td>\n",
       "      <td>blue-collar</td>\n",
       "      <td>NaN</td>\n",
       "      <td>76</td>\n",
       "      <td>-1</td>\n",
       "    </tr>\n",
       "    <tr>\n",
       "      <th>36</th>\n",
       "      <td>46</td>\n",
       "      <td>blue-collar</td>\n",
       "      <td>NaN</td>\n",
       "      <td>145</td>\n",
       "      <td>-1</td>\n",
       "    </tr>\n",
       "    <tr>\n",
       "      <th>38</th>\n",
       "      <td>36</td>\n",
       "      <td>entrepreneur</td>\n",
       "      <td>NaN</td>\n",
       "      <td>139</td>\n",
       "      <td>-1</td>\n",
       "    </tr>\n",
       "    <tr>\n",
       "      <th>45</th>\n",
       "      <td>51</td>\n",
       "      <td>admin.</td>\n",
       "      <td>NaN</td>\n",
       "      <td>136</td>\n",
       "      <td>-1</td>\n",
       "    </tr>\n",
       "    <tr>\n",
       "      <th>46</th>\n",
       "      <td>27</td>\n",
       "      <td>technician</td>\n",
       "      <td>NaN</td>\n",
       "      <td>23</td>\n",
       "      <td>-1</td>\n",
       "    </tr>\n",
       "    <tr>\n",
       "      <th>47</th>\n",
       "      <td>49</td>\n",
       "      <td>technician</td>\n",
       "      <td>NaN</td>\n",
       "      <td>152</td>\n",
       "      <td>-1</td>\n",
       "    </tr>\n",
       "    <tr>\n",
       "      <th>49</th>\n",
       "      <td>36</td>\n",
       "      <td>services</td>\n",
       "      <td>NaN</td>\n",
       "      <td>505</td>\n",
       "      <td>-1</td>\n",
       "    </tr>\n",
       "    <tr>\n",
       "      <th>54</th>\n",
       "      <td>28</td>\n",
       "      <td>blue-collar</td>\n",
       "      <td>NaN</td>\n",
       "      <td>176</td>\n",
       "      <td>-1</td>\n",
       "    </tr>\n",
       "    <tr>\n",
       "      <th>57</th>\n",
       "      <td>39</td>\n",
       "      <td>housemaid</td>\n",
       "      <td>NaN</td>\n",
       "      <td>113</td>\n",
       "      <td>-1</td>\n",
       "    </tr>\n",
       "    <tr>\n",
       "      <th>59</th>\n",
       "      <td>60</td>\n",
       "      <td>unknown</td>\n",
       "      <td>NaN</td>\n",
       "      <td>459</td>\n",
       "      <td>-1</td>\n",
       "    </tr>\n",
       "    <tr>\n",
       "      <th>61</th>\n",
       "      <td>33</td>\n",
       "      <td>blue-collar</td>\n",
       "      <td>NaN</td>\n",
       "      <td>131</td>\n",
       "      <td>-1</td>\n",
       "    </tr>\n",
       "    <tr>\n",
       "      <th>63</th>\n",
       "      <td>31</td>\n",
       "      <td>blue-collar</td>\n",
       "      <td>NaN</td>\n",
       "      <td>182</td>\n",
       "      <td>-1</td>\n",
       "    </tr>\n",
       "    <tr>\n",
       "      <th>64</th>\n",
       "      <td>38</td>\n",
       "      <td>management</td>\n",
       "      <td>NaN</td>\n",
       "      <td>515</td>\n",
       "      <td>-1</td>\n",
       "    </tr>\n",
       "    <tr>\n",
       "      <th>66</th>\n",
       "      <td>24</td>\n",
       "      <td>student</td>\n",
       "      <td>NaN</td>\n",
       "      <td>204</td>\n",
       "      <td>-1</td>\n",
       "    </tr>\n",
       "    <tr>\n",
       "      <th>71</th>\n",
       "      <td>44</td>\n",
       "      <td>admin.</td>\n",
       "      <td>NaN</td>\n",
       "      <td>106</td>\n",
       "      <td>-1</td>\n",
       "    </tr>\n",
       "    <tr>\n",
       "      <th>74</th>\n",
       "      <td>60</td>\n",
       "      <td>blue-collar</td>\n",
       "      <td>NaN</td>\n",
       "      <td>285</td>\n",
       "      <td>-1</td>\n",
       "    </tr>\n",
       "    <tr>\n",
       "      <th>76</th>\n",
       "      <td>50</td>\n",
       "      <td>unemployed</td>\n",
       "      <td>NaN</td>\n",
       "      <td>247</td>\n",
       "      <td>-1</td>\n",
       "    </tr>\n",
       "    <tr>\n",
       "      <th>80</th>\n",
       "      <td>33</td>\n",
       "      <td>unknown</td>\n",
       "      <td>NaN</td>\n",
       "      <td>198</td>\n",
       "      <td>-1</td>\n",
       "    </tr>\n",
       "    <tr>\n",
       "      <th>81</th>\n",
       "      <td>37</td>\n",
       "      <td>technician</td>\n",
       "      <td>NaN</td>\n",
       "      <td>530</td>\n",
       "      <td>-1</td>\n",
       "    </tr>\n",
       "    <tr>\n",
       "      <th>82</th>\n",
       "      <td>53</td>\n",
       "      <td>housemaid</td>\n",
       "      <td>NaN</td>\n",
       "      <td>701</td>\n",
       "      <td>-1</td>\n",
       "    </tr>\n",
       "    <tr>\n",
       "      <th>88</th>\n",
       "      <td>35</td>\n",
       "      <td>self-employed</td>\n",
       "      <td>NaN</td>\n",
       "      <td>1865</td>\n",
       "      <td>-1</td>\n",
       "    </tr>\n",
       "    <tr>\n",
       "      <th>89</th>\n",
       "      <td>43</td>\n",
       "      <td>services</td>\n",
       "      <td>NaN</td>\n",
       "      <td>78</td>\n",
       "      <td>-1</td>\n",
       "    </tr>\n",
       "    <tr>\n",
       "      <th>93</th>\n",
       "      <td>27</td>\n",
       "      <td>admin.</td>\n",
       "      <td>NaN</td>\n",
       "      <td>67</td>\n",
       "      <td>-1</td>\n",
       "    </tr>\n",
       "    <tr>\n",
       "      <th>96</th>\n",
       "      <td>49</td>\n",
       "      <td>admin.</td>\n",
       "      <td>NaN</td>\n",
       "      <td>99</td>\n",
       "      <td>-1</td>\n",
       "    </tr>\n",
       "    <tr>\n",
       "      <th>99</th>\n",
       "      <td>33</td>\n",
       "      <td>admin.</td>\n",
       "      <td>NaN</td>\n",
       "      <td>132</td>\n",
       "      <td>-1</td>\n",
       "    </tr>\n",
       "    <tr>\n",
       "      <th>101</th>\n",
       "      <td>27</td>\n",
       "      <td>admin.</td>\n",
       "      <td>NaN</td>\n",
       "      <td>418</td>\n",
       "      <td>-1</td>\n",
       "    </tr>\n",
       "    <tr>\n",
       "      <th>102</th>\n",
       "      <td>40</td>\n",
       "      <td>retired</td>\n",
       "      <td>NaN</td>\n",
       "      <td>123</td>\n",
       "      <td>-1</td>\n",
       "    </tr>\n",
       "    <tr>\n",
       "      <th>104</th>\n",
       "      <td>47</td>\n",
       "      <td>blue-collar</td>\n",
       "      <td>NaN</td>\n",
       "      <td>261</td>\n",
       "      <td>-1</td>\n",
       "    </tr>\n",
       "    <tr>\n",
       "      <th>105</th>\n",
       "      <td>40</td>\n",
       "      <td>blue-collar</td>\n",
       "      <td>NaN</td>\n",
       "      <td>87</td>\n",
       "      <td>-1</td>\n",
       "    </tr>\n",
       "    <tr>\n",
       "      <th>108</th>\n",
       "      <td>47</td>\n",
       "      <td>admin.</td>\n",
       "      <td>NaN</td>\n",
       "      <td>164</td>\n",
       "      <td>-1</td>\n",
       "    </tr>\n",
       "    <tr>\n",
       "      <th>115</th>\n",
       "      <td>45</td>\n",
       "      <td>admin.</td>\n",
       "      <td>NaN</td>\n",
       "      <td>539</td>\n",
       "      <td>-1</td>\n",
       "    </tr>\n",
       "    <tr>\n",
       "      <th>124</th>\n",
       "      <td>57</td>\n",
       "      <td>admin.</td>\n",
       "      <td>NaN</td>\n",
       "      <td>47</td>\n",
       "      <td>-1</td>\n",
       "    </tr>\n",
       "    <tr>\n",
       "      <th>125</th>\n",
       "      <td>51</td>\n",
       "      <td>blue-collar</td>\n",
       "      <td>NaN</td>\n",
       "      <td>130</td>\n",
       "      <td>-1</td>\n",
       "    </tr>\n",
       "    <tr>\n",
       "      <th>134</th>\n",
       "      <td>41</td>\n",
       "      <td>admin.</td>\n",
       "      <td>NaN</td>\n",
       "      <td>245</td>\n",
       "      <td>-1</td>\n",
       "    </tr>\n",
       "    <tr>\n",
       "      <th>135</th>\n",
       "      <td>30</td>\n",
       "      <td>technician</td>\n",
       "      <td>NaN</td>\n",
       "      <td>967</td>\n",
       "      <td>-1</td>\n",
       "    </tr>\n",
       "    <tr>\n",
       "      <th>142</th>\n",
       "      <td>34</td>\n",
       "      <td>blue-collar</td>\n",
       "      <td>NaN</td>\n",
       "      <td>1064</td>\n",
       "      <td>-1</td>\n",
       "    </tr>\n",
       "    <tr>\n",
       "      <th>143</th>\n",
       "      <td>40</td>\n",
       "      <td>housemaid</td>\n",
       "      <td>NaN</td>\n",
       "      <td>230</td>\n",
       "      <td>-1</td>\n",
       "    </tr>\n",
       "    <tr>\n",
       "      <th>148</th>\n",
       "      <td>53</td>\n",
       "      <td>management</td>\n",
       "      <td>NaN</td>\n",
       "      <td>73</td>\n",
       "      <td>-1</td>\n",
       "    </tr>\n",
       "    <tr>\n",
       "      <th>149</th>\n",
       "      <td>32</td>\n",
       "      <td>blue-collar</td>\n",
       "      <td>NaN</td>\n",
       "      <td>700</td>\n",
       "      <td>-1</td>\n",
       "    </tr>\n",
       "    <tr>\n",
       "      <th>153</th>\n",
       "      <td>38</td>\n",
       "      <td>management</td>\n",
       "      <td>NaN</td>\n",
       "      <td>8</td>\n",
       "      <td>-1</td>\n",
       "    </tr>\n",
       "    <tr>\n",
       "      <th>159</th>\n",
       "      <td>37</td>\n",
       "      <td>entrepreneur</td>\n",
       "      <td>NaN</td>\n",
       "      <td>220</td>\n",
       "      <td>-1</td>\n",
       "    </tr>\n",
       "    <tr>\n",
       "      <th>161</th>\n",
       "      <td>32</td>\n",
       "      <td>admin.</td>\n",
       "      <td>NaN</td>\n",
       "      <td>255</td>\n",
       "      <td>-1</td>\n",
       "    </tr>\n",
       "    <tr>\n",
       "      <th>165</th>\n",
       "      <td>53</td>\n",
       "      <td>admin.</td>\n",
       "      <td>NaN</td>\n",
       "      <td>169</td>\n",
       "      <td>-1</td>\n",
       "    </tr>\n",
       "    <tr>\n",
       "      <th>168</th>\n",
       "      <td>50</td>\n",
       "      <td>blue-collar</td>\n",
       "      <td>NaN</td>\n",
       "      <td>165</td>\n",
       "      <td>-1</td>\n",
       "    </tr>\n",
       "    <tr>\n",
       "      <th>175</th>\n",
       "      <td>38</td>\n",
       "      <td>services</td>\n",
       "      <td>NaN</td>\n",
       "      <td>411</td>\n",
       "      <td>-1</td>\n",
       "    </tr>\n",
       "    <tr>\n",
       "      <th>177</th>\n",
       "      <td>42</td>\n",
       "      <td>management</td>\n",
       "      <td>NaN</td>\n",
       "      <td>136</td>\n",
       "      <td>-1</td>\n",
       "    </tr>\n",
       "    <tr>\n",
       "      <th>179</th>\n",
       "      <td>26</td>\n",
       "      <td>blue-collar</td>\n",
       "      <td>NaN</td>\n",
       "      <td>146</td>\n",
       "      <td>-1</td>\n",
       "    </tr>\n",
       "    <tr>\n",
       "      <th>181</th>\n",
       "      <td>31</td>\n",
       "      <td>management</td>\n",
       "      <td>NaN</td>\n",
       "      <td>76</td>\n",
       "      <td>-1</td>\n",
       "    </tr>\n",
       "    <tr>\n",
       "      <th>185</th>\n",
       "      <td>37</td>\n",
       "      <td>management</td>\n",
       "      <td>NaN</td>\n",
       "      <td>50</td>\n",
       "      <td>-1</td>\n",
       "    </tr>\n",
       "    <tr>\n",
       "      <th>192</th>\n",
       "      <td>60</td>\n",
       "      <td>housemaid</td>\n",
       "      <td>NaN</td>\n",
       "      <td>174</td>\n",
       "      <td>-1</td>\n",
       "    </tr>\n",
       "    <tr>\n",
       "      <th>193</th>\n",
       "      <td>31</td>\n",
       "      <td>technician</td>\n",
       "      <td>NaN</td>\n",
       "      <td>374</td>\n",
       "      <td>-1</td>\n",
       "    </tr>\n",
       "    <tr>\n",
       "      <th>206</th>\n",
       "      <td>41</td>\n",
       "      <td>admin.</td>\n",
       "      <td>NaN</td>\n",
       "      <td>124</td>\n",
       "      <td>-1</td>\n",
       "    </tr>\n",
       "  </tbody>\n",
       "</table>\n",
       "</div>"
      ],
      "text/plain": [
       "     edad        trabajo tipo_contacto  duracion  tiempo_transcurrido\n",
       "0      40    blue-collar           NaN       192                   -1\n",
       "1      47       services           NaN        83                   -1\n",
       "9      38     technician           NaN       587                   -1\n",
       "12     30    blue-collar           NaN       395                   -1\n",
       "18     46    blue-collar           NaN       172                   -1\n",
       "23     44    blue-collar           NaN       111                   -1\n",
       "25     33       services           NaN       109                   -1\n",
       "28     60     technician           NaN        64                   -1\n",
       "29     51    blue-collar           NaN        76                   -1\n",
       "36     46    blue-collar           NaN       145                   -1\n",
       "38     36   entrepreneur           NaN       139                   -1\n",
       "45     51         admin.           NaN       136                   -1\n",
       "46     27     technician           NaN        23                   -1\n",
       "47     49     technician           NaN       152                   -1\n",
       "49     36       services           NaN       505                   -1\n",
       "54     28    blue-collar           NaN       176                   -1\n",
       "57     39      housemaid           NaN       113                   -1\n",
       "59     60        unknown           NaN       459                   -1\n",
       "61     33    blue-collar           NaN       131                   -1\n",
       "63     31    blue-collar           NaN       182                   -1\n",
       "64     38     management           NaN       515                   -1\n",
       "66     24        student           NaN       204                   -1\n",
       "71     44         admin.           NaN       106                   -1\n",
       "74     60    blue-collar           NaN       285                   -1\n",
       "76     50     unemployed           NaN       247                   -1\n",
       "80     33        unknown           NaN       198                   -1\n",
       "81     37     technician           NaN       530                   -1\n",
       "82     53      housemaid           NaN       701                   -1\n",
       "88     35  self-employed           NaN      1865                   -1\n",
       "89     43       services           NaN        78                   -1\n",
       "93     27         admin.           NaN        67                   -1\n",
       "96     49         admin.           NaN        99                   -1\n",
       "99     33         admin.           NaN       132                   -1\n",
       "101    27         admin.           NaN       418                   -1\n",
       "102    40        retired           NaN       123                   -1\n",
       "104    47    blue-collar           NaN       261                   -1\n",
       "105    40    blue-collar           NaN        87                   -1\n",
       "108    47         admin.           NaN       164                   -1\n",
       "115    45         admin.           NaN       539                   -1\n",
       "124    57         admin.           NaN        47                   -1\n",
       "125    51    blue-collar           NaN       130                   -1\n",
       "134    41         admin.           NaN       245                   -1\n",
       "135    30     technician           NaN       967                   -1\n",
       "142    34    blue-collar           NaN      1064                   -1\n",
       "143    40      housemaid           NaN       230                   -1\n",
       "148    53     management           NaN        73                   -1\n",
       "149    32    blue-collar           NaN       700                   -1\n",
       "153    38     management           NaN         8                   -1\n",
       "159    37   entrepreneur           NaN       220                   -1\n",
       "161    32         admin.           NaN       255                   -1\n",
       "165    53         admin.           NaN       169                   -1\n",
       "168    50    blue-collar           NaN       165                   -1\n",
       "175    38       services           NaN       411                   -1\n",
       "177    42     management           NaN       136                   -1\n",
       "179    26    blue-collar           NaN       146                   -1\n",
       "181    31     management           NaN        76                   -1\n",
       "185    37     management           NaN        50                   -1\n",
       "192    60      housemaid           NaN       174                   -1\n",
       "193    31     technician           NaN       374                   -1\n",
       "206    41         admin.           NaN       124                   -1"
      ]
     },
     "execution_count": 159,
     "metadata": {},
     "output_type": "execute_result"
    }
   ],
   "source": [
    "df_test[~df_test[\"tipo_contacto\"].notna()][:60]"
   ]
  },
  {
   "cell_type": "code",
   "execution_count": 160,
   "id": "044b4e1f",
   "metadata": {},
   "outputs": [
    {
     "data": {
      "text/plain": [
       "secundaria/superiores    22713\n",
       "universitarios           13025\n",
       "priamaria                 6708\n",
       "Name: educacion, dtype: int64"
      ]
     },
     "execution_count": 160,
     "metadata": {},
     "output_type": "execute_result"
    }
   ],
   "source": [
    "df[\"educacion\"].value_counts()"
   ]
  },
  {
   "cell_type": "code",
   "execution_count": 161,
   "id": "1541c3b8",
   "metadata": {},
   "outputs": [
    {
     "data": {
      "text/plain": [
       "Counter({'secundaria/superiores': 22713,\n",
       "         'universitarios': 13025,\n",
       "         'priamaria': 6708,\n",
       "         nan: 1810})"
      ]
     },
     "execution_count": 161,
     "metadata": {},
     "output_type": "execute_result"
    }
   ],
   "source": [
    "Counter(df[\"educacion\"])"
   ]
  },
  {
   "cell_type": "code",
   "execution_count": 162,
   "id": "f0e98f59",
   "metadata": {},
   "outputs": [],
   "source": [
    "df[\"target\"].replace(\"no\", 0, inplace=True)\n",
    "df[\"target\"].replace(\"si\", 1, inplace=True)"
   ]
  },
  {
   "cell_type": "code",
   "execution_count": 163,
   "id": "55ed9cc2",
   "metadata": {},
   "outputs": [
    {
     "data": {
      "text/plain": [
       "0    39069\n",
       "1     5187\n",
       "Name: target, dtype: int64"
      ]
     },
     "execution_count": 163,
     "metadata": {},
     "output_type": "execute_result"
    }
   ],
   "source": [
    "df[\"target\"].value_counts()"
   ]
  },
  {
   "cell_type": "code",
   "execution_count": 164,
   "id": "b9da79f2",
   "metadata": {},
   "outputs": [
    {
     "data": {
      "text/plain": [
       "11.720444685466378"
      ]
     },
     "execution_count": 164,
     "metadata": {},
     "output_type": "execute_result"
    }
   ],
   "source": [
    "5187*100/(39069+5187)"
   ]
  },
  {
   "cell_type": "code",
   "execution_count": 165,
   "id": "fa62c462",
   "metadata": {},
   "outputs": [],
   "source": [
    "df[\"tipo_contacto\"].fillna(\"desconocido\", inplace=True)"
   ]
  },
  {
   "cell_type": "code",
   "execution_count": 166,
   "id": "d68fcda1",
   "metadata": {},
   "outputs": [],
   "source": [
    "df_1 = df[df[\"target\"]==1]"
   ]
  },
  {
   "cell_type": "code",
   "execution_count": 167,
   "id": "2746f9ad",
   "metadata": {},
   "outputs": [],
   "source": [
    "df_0 = df[df[\"target\"]==0]"
   ]
  },
  {
   "cell_type": "code",
   "execution_count": 168,
   "id": "9435721e",
   "metadata": {},
   "outputs": [
    {
     "data": {
      "text/plain": [
       "movil          4285\n",
       "desconocido     522\n",
       "fijo            380\n",
       "Name: tipo_contacto, dtype: int64"
      ]
     },
     "execution_count": 168,
     "metadata": {},
     "output_type": "execute_result"
    }
   ],
   "source": [
    "df_1[\"tipo_contacto\"].value_counts()"
   ]
  },
  {
   "cell_type": "code",
   "execution_count": 169,
   "id": "46476923",
   "metadata": {},
   "outputs": [
    {
     "data": {
      "text/plain": [
       "10.063620589936379"
      ]
     },
     "execution_count": 169,
     "metadata": {},
     "output_type": "execute_result"
    }
   ],
   "source": [
    "522*100/(380+4285+522)"
   ]
  },
  {
   "cell_type": "code",
   "execution_count": 170,
   "id": "8c2d345f",
   "metadata": {},
   "outputs": [
    {
     "data": {
      "text/plain": [
       "movil          24400\n",
       "desconocido    12208\n",
       "fijo            2461\n",
       "Name: tipo_contacto, dtype: int64"
      ]
     },
     "execution_count": 170,
     "metadata": {},
     "output_type": "execute_result"
    }
   ],
   "source": [
    "df_0[\"tipo_contacto\"].value_counts()"
   ]
  },
  {
   "cell_type": "code",
   "execution_count": 171,
   "id": "7977d954",
   "metadata": {},
   "outputs": [
    {
     "data": {
      "text/plain": [
       "31.2472804525327"
      ]
     },
     "execution_count": 171,
     "metadata": {},
     "output_type": "execute_result"
    }
   ],
   "source": [
    "12208*100/(2461+24400+12208)"
   ]
  },
  {
   "cell_type": "code",
   "execution_count": 172,
   "id": "4c15c74c",
   "metadata": {},
   "outputs": [
    {
     "data": {
      "text/plain": [
       "4.100549882168107"
      ]
     },
     "execution_count": 172,
     "metadata": {},
     "output_type": "execute_result"
    }
   ],
   "source": [
    "522*100/(522+12208)"
   ]
  },
  {
   "cell_type": "code",
   "execution_count": null,
   "id": "9051ea75",
   "metadata": {},
   "outputs": [],
   "source": []
  },
  {
   "cell_type": "code",
   "execution_count": 173,
   "id": "2aa129f6",
   "metadata": {
    "scrolled": true
   },
   "outputs": [
    {
     "data": {
      "text/plain": [
       "<AxesSubplot:xlabel='trabajo', ylabel='Count'>"
      ]
     },
     "execution_count": 173,
     "metadata": {},
     "output_type": "execute_result"
    },
    {
     "data": {
      "image/png": "[encoded data removed]",
      "text/plain": [
       "<Figure size 640x480 with 1 Axes>"
      ]
     },
     "metadata": {},
     "output_type": "display_data"
    }
   ],
   "source": [
    "sns.histplot(x = df[\"trabajo\"])"
   ]
  },
  {
   "cell_type": "code",
   "execution_count": 174,
   "id": "b8004e1b",
   "metadata": {},
   "outputs": [
    {
     "data": {
      "text/plain": [
       "(3699, 17)"
      ]
     },
     "execution_count": 174,
     "metadata": {},
     "output_type": "execute_result"
    }
   ],
   "source": [
    "df[(df[\"trabajo\"]==\"services\")  & (df[\"target\"]==0)].shape"
   ]
  },
  {
   "cell_type": "code",
   "execution_count": 175,
   "id": "0a1cc9ee",
   "metadata": {},
   "outputs": [
    {
     "data": {
      "text/plain": [
       "(357, 17)"
      ]
     },
     "execution_count": 175,
     "metadata": {},
     "output_type": "execute_result"
    }
   ],
   "source": [
    "df[(df[\"trabajo\"]==\"services\")  & (df[\"target\"]==1)].shape"
   ]
  },
  {
   "cell_type": "code",
   "execution_count": 176,
   "id": "fe152729",
   "metadata": {},
   "outputs": [
    {
     "data": {
      "text/plain": [
       "15.384615384615385"
      ]
     },
     "execution_count": 176,
     "metadata": {},
     "output_type": "execute_result"
    }
   ],
   "source": [
    "196*100/(196+1078)"
   ]
  },
  {
   "cell_type": "code",
   "execution_count": 177,
   "id": "cfcb144e",
   "metadata": {},
   "outputs": [
    {
     "data": {
      "text/plain": [
       "13.73205225089064"
      ]
     },
     "execution_count": 177,
     "metadata": {},
     "output_type": "execute_result"
    }
   ],
   "source": [
    "1272*100/(1272+7991)"
   ]
  },
  {
   "cell_type": "code",
   "execution_count": 178,
   "id": "de402c18",
   "metadata": {},
   "outputs": [
    {
     "data": {
      "text/plain": [
       "8.801775147928995"
      ]
     },
     "execution_count": 178,
     "metadata": {},
     "output_type": "execute_result"
    }
   ],
   "source": [
    "357*100/(357+3699)"
   ]
  },
  {
   "cell_type": "code",
   "execution_count": 179,
   "id": "637e8db5",
   "metadata": {},
   "outputs": [
    {
     "data": {
      "text/plain": [
       "array([1, 7, 8, ..., 1, 1, 9])"
      ]
     },
     "execution_count": 179,
     "metadata": {},
     "output_type": "execute_result"
    }
   ],
   "source": [
    "# Vamos a dejarlo así, y vamos a convertir esta columna a numerica con LabelEncoder\n",
    "\n",
    "from sklearn.preprocessing import LabelEncoder\n",
    "\n",
    "# Inicializamos un objeto LabelEncoder()\n",
    "trabajo_labelEncoding = LabelEncoder()\n",
    "\n",
    "# Lo \"entrenamos\" con los datos de la columna\n",
    "trabajo_labelEncoding.fit(df[\"trabajo\"].values)\n",
    "\n",
    "# Transformamos la columna\n",
    "trabajo = trabajo_labelEncoding.transform(df[\"trabajo\"].values)\n",
    "\n",
    "trabajo"
   ]
  },
  {
   "cell_type": "code",
   "execution_count": 180,
   "id": "62756ad6",
   "metadata": {},
   "outputs": [],
   "source": [
    "df[\"trabajo\"] = trabajo"
   ]
  },
  {
   "cell_type": "code",
   "execution_count": 181,
   "id": "438dc525",
   "metadata": {},
   "outputs": [
    {
     "data": {
      "text/html": [
       "<div>\n",
       "<style scoped>\n",
       "    .dataframe tbody tr th:only-of-type {\n",
       "        vertical-align: middle;\n",
       "    }\n",
       "\n",
       "    .dataframe tbody tr th {\n",
       "        vertical-align: top;\n",
       "    }\n",
       "\n",
       "    .dataframe thead th {\n",
       "        text-align: right;\n",
       "    }\n",
       "</style>\n",
       "<table border=\"1\" class=\"dataframe\">\n",
       "  <thead>\n",
       "    <tr style=\"text-align: right;\">\n",
       "      <th></th>\n",
       "      <th>ID</th>\n",
       "      <th>edad</th>\n",
       "      <th>trabajo</th>\n",
       "      <th>estado_civil</th>\n",
       "      <th>educacion</th>\n",
       "      <th>deuda</th>\n",
       "      <th>saldo</th>\n",
       "      <th>vivienda</th>\n",
       "      <th>prestamo</th>\n",
       "      <th>tipo_contacto</th>\n",
       "      <th>duracion</th>\n",
       "      <th>fecha_contacto</th>\n",
       "      <th>campaign</th>\n",
       "      <th>tiempo_transcurrido</th>\n",
       "      <th>contactos_anteriores</th>\n",
       "      <th>resultado_campanas_anteriores</th>\n",
       "      <th>target</th>\n",
       "    </tr>\n",
       "  </thead>\n",
       "  <tbody>\n",
       "    <tr>\n",
       "      <th>0</th>\n",
       "      <td>1</td>\n",
       "      <td>40</td>\n",
       "      <td>1</td>\n",
       "      <td>casado</td>\n",
       "      <td>secundaria/superiores</td>\n",
       "      <td>no</td>\n",
       "      <td>580</td>\n",
       "      <td>si</td>\n",
       "      <td>no</td>\n",
       "      <td>desconocido</td>\n",
       "      <td>192</td>\n",
       "      <td>2021-05-16 00:00:00</td>\n",
       "      <td>1</td>\n",
       "      <td>-1</td>\n",
       "      <td>0</td>\n",
       "      <td>nuevo_cliente</td>\n",
       "      <td>0</td>\n",
       "    </tr>\n",
       "    <tr>\n",
       "      <th>1</th>\n",
       "      <td>2</td>\n",
       "      <td>47</td>\n",
       "      <td>7</td>\n",
       "      <td>soltero</td>\n",
       "      <td>secundaria/superiores</td>\n",
       "      <td>no</td>\n",
       "      <td>3644</td>\n",
       "      <td>no</td>\n",
       "      <td>no</td>\n",
       "      <td>desconocido</td>\n",
       "      <td>83</td>\n",
       "      <td>2021-06-09 00:00:00</td>\n",
       "      <td>2</td>\n",
       "      <td>-1</td>\n",
       "      <td>0</td>\n",
       "      <td>nuevo_cliente</td>\n",
       "      <td>0</td>\n",
       "    </tr>\n",
       "    <tr>\n",
       "      <th>2</th>\n",
       "      <td>3</td>\n",
       "      <td>25</td>\n",
       "      <td>8</td>\n",
       "      <td>soltero</td>\n",
       "      <td>universitarios</td>\n",
       "      <td>no</td>\n",
       "      <td>538</td>\n",
       "      <td>si</td>\n",
       "      <td>no</td>\n",
       "      <td>movil</td>\n",
       "      <td>226</td>\n",
       "      <td>20-apr-2021</td>\n",
       "      <td>1</td>\n",
       "      <td>-1</td>\n",
       "      <td>0</td>\n",
       "      <td>nuevo_cliente</td>\n",
       "      <td>0</td>\n",
       "    </tr>\n",
       "    <tr>\n",
       "      <th>3</th>\n",
       "      <td>4</td>\n",
       "      <td>42</td>\n",
       "      <td>4</td>\n",
       "      <td>casado</td>\n",
       "      <td>universitarios</td>\n",
       "      <td>no</td>\n",
       "      <td>1773</td>\n",
       "      <td>no</td>\n",
       "      <td>no</td>\n",
       "      <td>movil</td>\n",
       "      <td>311</td>\n",
       "      <td>9-apr-2021</td>\n",
       "      <td>1</td>\n",
       "      <td>336</td>\n",
       "      <td>1</td>\n",
       "      <td>sin_exito</td>\n",
       "      <td>0</td>\n",
       "    </tr>\n",
       "    <tr>\n",
       "      <th>4</th>\n",
       "      <td>5</td>\n",
       "      <td>56</td>\n",
       "      <td>4</td>\n",
       "      <td>casado</td>\n",
       "      <td>universitarios</td>\n",
       "      <td>no</td>\n",
       "      <td>217</td>\n",
       "      <td>no</td>\n",
       "      <td>si</td>\n",
       "      <td>movil</td>\n",
       "      <td>121</td>\n",
       "      <td>2021-07-21 00:00:00</td>\n",
       "      <td>2</td>\n",
       "      <td>-1</td>\n",
       "      <td>0</td>\n",
       "      <td>nuevo_cliente</td>\n",
       "      <td>0</td>\n",
       "    </tr>\n",
       "    <tr>\n",
       "      <th>...</th>\n",
       "      <td>...</td>\n",
       "      <td>...</td>\n",
       "      <td>...</td>\n",
       "      <td>...</td>\n",
       "      <td>...</td>\n",
       "      <td>...</td>\n",
       "      <td>...</td>\n",
       "      <td>...</td>\n",
       "      <td>...</td>\n",
       "      <td>...</td>\n",
       "      <td>...</td>\n",
       "      <td>...</td>\n",
       "      <td>...</td>\n",
       "      <td>...</td>\n",
       "      <td>...</td>\n",
       "      <td>...</td>\n",
       "      <td>...</td>\n",
       "    </tr>\n",
       "    <tr>\n",
       "      <th>44251</th>\n",
       "      <td>44252</td>\n",
       "      <td>38</td>\n",
       "      <td>4</td>\n",
       "      <td>casado</td>\n",
       "      <td>secundaria/superiores</td>\n",
       "      <td>no</td>\n",
       "      <td>-323</td>\n",
       "      <td>si</td>\n",
       "      <td>no</td>\n",
       "      <td>desconocido</td>\n",
       "      <td>250</td>\n",
       "      <td>2021-06-09 00:00:00</td>\n",
       "      <td>1</td>\n",
       "      <td>-1</td>\n",
       "      <td>0</td>\n",
       "      <td>nuevo_cliente</td>\n",
       "      <td>0</td>\n",
       "    </tr>\n",
       "    <tr>\n",
       "      <th>44252</th>\n",
       "      <td>44253</td>\n",
       "      <td>49</td>\n",
       "      <td>9</td>\n",
       "      <td>casado</td>\n",
       "      <td>secundaria/superiores</td>\n",
       "      <td>no</td>\n",
       "      <td>1982</td>\n",
       "      <td>si</td>\n",
       "      <td>si</td>\n",
       "      <td>movil</td>\n",
       "      <td>73</td>\n",
       "      <td>22-aug-2021</td>\n",
       "      <td>15</td>\n",
       "      <td>-1</td>\n",
       "      <td>0</td>\n",
       "      <td>nuevo_cliente</td>\n",
       "      <td>0</td>\n",
       "    </tr>\n",
       "    <tr>\n",
       "      <th>44253</th>\n",
       "      <td>44254</td>\n",
       "      <td>51</td>\n",
       "      <td>1</td>\n",
       "      <td>casado</td>\n",
       "      <td>secundaria/superiores</td>\n",
       "      <td>no</td>\n",
       "      <td>794</td>\n",
       "      <td>si</td>\n",
       "      <td>no</td>\n",
       "      <td>fijo</td>\n",
       "      <td>747</td>\n",
       "      <td>2021-07-24 00:00:00</td>\n",
       "      <td>1</td>\n",
       "      <td>-1</td>\n",
       "      <td>0</td>\n",
       "      <td>nuevo_cliente</td>\n",
       "      <td>0</td>\n",
       "    </tr>\n",
       "    <tr>\n",
       "      <th>44254</th>\n",
       "      <td>44255</td>\n",
       "      <td>29</td>\n",
       "      <td>1</td>\n",
       "      <td>soltero</td>\n",
       "      <td>universitarios</td>\n",
       "      <td>no</td>\n",
       "      <td>98</td>\n",
       "      <td>no</td>\n",
       "      <td>no</td>\n",
       "      <td>movil</td>\n",
       "      <td>170</td>\n",
       "      <td>10-aug-2021</td>\n",
       "      <td>2</td>\n",
       "      <td>-1</td>\n",
       "      <td>0</td>\n",
       "      <td>nuevo_cliente</td>\n",
       "      <td>0</td>\n",
       "    </tr>\n",
       "    <tr>\n",
       "      <th>44255</th>\n",
       "      <td>44256</td>\n",
       "      <td>32</td>\n",
       "      <td>9</td>\n",
       "      <td>soltero</td>\n",
       "      <td>secundaria/superiores</td>\n",
       "      <td>no</td>\n",
       "      <td>321</td>\n",
       "      <td>si</td>\n",
       "      <td>no</td>\n",
       "      <td>movil</td>\n",
       "      <td>156</td>\n",
       "      <td>11-aug-2021</td>\n",
       "      <td>2</td>\n",
       "      <td>-1</td>\n",
       "      <td>0</td>\n",
       "      <td>nuevo_cliente</td>\n",
       "      <td>0</td>\n",
       "    </tr>\n",
       "  </tbody>\n",
       "</table>\n",
       "<p>44256 rows × 17 columns</p>\n",
       "</div>"
      ],
      "text/plain": [
       "          ID  edad  trabajo estado_civil              educacion deuda  saldo  \\\n",
       "0          1    40        1       casado  secundaria/superiores    no    580   \n",
       "1          2    47        7      soltero  secundaria/superiores    no   3644   \n",
       "2          3    25        8      soltero         universitarios    no    538   \n",
       "3          4    42        4       casado         universitarios    no   1773   \n",
       "4          5    56        4       casado         universitarios    no    217   \n",
       "...      ...   ...      ...          ...                    ...   ...    ...   \n",
       "44251  44252    38        4       casado  secundaria/superiores    no   -323   \n",
       "44252  44253    49        9       casado  secundaria/superiores    no   1982   \n",
       "44253  44254    51        1       casado  secundaria/superiores    no    794   \n",
       "44254  44255    29        1      soltero         universitarios    no     98   \n",
       "44255  44256    32        9      soltero  secundaria/superiores    no    321   \n",
       "\n",
       "      vivienda prestamo tipo_contacto  duracion       fecha_contacto  \\\n",
       "0           si       no   desconocido       192  2021-05-16 00:00:00   \n",
       "1           no       no   desconocido        83  2021-06-09 00:00:00   \n",
       "2           si       no         movil       226          20-apr-2021   \n",
       "3           no       no         movil       311           9-apr-2021   \n",
       "4           no       si         movil       121  2021-07-21 00:00:00   \n",
       "...        ...      ...           ...       ...                  ...   \n",
       "44251       si       no   desconocido       250  2021-06-09 00:00:00   \n",
       "44252       si       si         movil        73          22-aug-2021   \n",
       "44253       si       no          fijo       747  2021-07-24 00:00:00   \n",
       "44254       no       no         movil       170          10-aug-2021   \n",
       "44255       si       no         movil       156          11-aug-2021   \n",
       "\n",
       "       campaign  tiempo_transcurrido  contactos_anteriores  \\\n",
       "0             1                   -1                     0   \n",
       "1             2                   -1                     0   \n",
       "2             1                   -1                     0   \n",
       "3             1                  336                     1   \n",
       "4             2                   -1                     0   \n",
       "...         ...                  ...                   ...   \n",
       "44251         1                   -1                     0   \n",
       "44252        15                   -1                     0   \n",
       "44253         1                   -1                     0   \n",
       "44254         2                   -1                     0   \n",
       "44255         2                   -1                     0   \n",
       "\n",
       "      resultado_campanas_anteriores  target  \n",
       "0                     nuevo_cliente       0  \n",
       "1                     nuevo_cliente       0  \n",
       "2                     nuevo_cliente       0  \n",
       "3                         sin_exito       0  \n",
       "4                     nuevo_cliente       0  \n",
       "...                             ...     ...  \n",
       "44251                 nuevo_cliente       0  \n",
       "44252                 nuevo_cliente       0  \n",
       "44253                 nuevo_cliente       0  \n",
       "44254                 nuevo_cliente       0  \n",
       "44255                 nuevo_cliente       0  \n",
       "\n",
       "[44256 rows x 17 columns]"
      ]
     },
     "execution_count": 181,
     "metadata": {},
     "output_type": "execute_result"
    }
   ],
   "source": [
    "df"
   ]
  },
  {
   "cell_type": "code",
   "execution_count": 182,
   "id": "dbaa562e",
   "metadata": {},
   "outputs": [],
   "source": [
    "df_estado_civil = pd.get_dummies(df[\"estado_civil\"])"
   ]
  },
  {
   "cell_type": "code",
   "execution_count": 183,
   "id": "4d121f81",
   "metadata": {},
   "outputs": [],
   "source": [
    "df_contacto = pd.get_dummies(df[\"tipo_contacto\"])"
   ]
  },
  {
   "cell_type": "code",
   "execution_count": 184,
   "id": "00f07fe4",
   "metadata": {},
   "outputs": [],
   "source": [
    "df_campanas_anteriores = pd.get_dummies(df[\"resultado_campanas_anteriores\"])"
   ]
  },
  {
   "cell_type": "code",
   "execution_count": 185,
   "id": "d1e52a6c",
   "metadata": {},
   "outputs": [],
   "source": [
    "df[\"deuda\"].replace(\"no\", 0, inplace=True)\n",
    "df[\"deuda\"].replace(\"si\", 1, inplace=True)"
   ]
  },
  {
   "cell_type": "code",
   "execution_count": 186,
   "id": "f785de85",
   "metadata": {},
   "outputs": [],
   "source": [
    "df[\"vivienda\"].replace(\"no\", 0, inplace=True)\n",
    "df[\"vivienda\"].replace(\"si\", 1, inplace=True)"
   ]
  },
  {
   "cell_type": "code",
   "execution_count": 187,
   "id": "cc987bcd",
   "metadata": {},
   "outputs": [],
   "source": [
    "df[\"prestamo\"].replace(\"no\", 0, inplace=True)\n",
    "df[\"prestamo\"].replace(\"si\", 1, inplace=True)"
   ]
  },
  {
   "cell_type": "code",
   "execution_count": 188,
   "id": "c31412d6",
   "metadata": {},
   "outputs": [],
   "source": [
    "df.drop(\"fecha_contacto\",axis=1, inplace=True)"
   ]
  },
  {
   "cell_type": "code",
   "execution_count": 189,
   "id": "d3b16407",
   "metadata": {},
   "outputs": [],
   "source": [
    "df = pd.concat([df, df_contacto], axis=1)\n",
    "df = pd.concat([df, df_contacto], axis=1)\n",
    "df = pd.concat([df, df_campanas_anteriores], axis=1)"
   ]
  },
  {
   "cell_type": "code",
   "execution_count": 190,
   "id": "9eba0b0b",
   "metadata": {},
   "outputs": [],
   "source": [
    "df.drop(columns=[\"estado_civil\", \"tipo_contacto\", \"resultado_campanas_anteriores\"], inplace=True)"
   ]
  },
  {
   "cell_type": "code",
   "execution_count": 191,
   "id": "e0a5a517",
   "metadata": {},
   "outputs": [
    {
     "data": {
      "text/plain": [
       "(44256, 23)"
      ]
     },
     "execution_count": 191,
     "metadata": {},
     "output_type": "execute_result"
    }
   ],
   "source": [
    "df.shape"
   ]
  },
  {
   "cell_type": "code",
   "execution_count": 195,
   "id": "a12c6115",
   "metadata": {},
   "outputs": [
    {
     "data": {
      "text/plain": [
       "secundaria/superiores    22713\n",
       "universitarios           13025\n",
       "priamaria                 6708\n",
       "Name: educacion, dtype: int64"
      ]
     },
     "execution_count": 195,
     "metadata": {},
     "output_type": "execute_result"
    }
   ],
   "source": [
    "df[\"educacion\"].value_counts()"
   ]
  },
  {
   "cell_type": "code",
   "execution_count": 199,
   "id": "15119bd2",
   "metadata": {},
   "outputs": [
    {
     "name": "stderr",
     "output_type": "stream",
     "text": [
      "C:\\Users\\ignci\\AppData\\Local\\Temp\\ipykernel_15708\\625713082.py:1: SettingWithCopyWarning: \n",
      "A value is trying to be set on a copy of a slice from a DataFrame\n",
      "\n",
      "See the caveats in the documentation: https://pandas.pydata.org/pandas-docs/stable/user_guide/indexing.html#returning-a-view-versus-a-copy\n",
      "  df[\"educacion\"] = df[\"educacion\"].replace(\"secundaria/superiores\", 0, inplace=True)\n",
      "C:\\Users\\ignci\\AppData\\Local\\Temp\\ipykernel_15708\\625713082.py:2: SettingWithCopyWarning: \n",
      "A value is trying to be set on a copy of a slice from a DataFrame\n",
      "\n",
      "See the caveats in the documentation: https://pandas.pydata.org/pandas-docs/stable/user_guide/indexing.html#returning-a-view-versus-a-copy\n",
      "  df[\"educacion\"] = df[\"educacion\"].replace(\"universitarios\", 1, inplace=True)\n",
      "C:\\Users\\ignci\\AppData\\Local\\Temp\\ipykernel_15708\\625713082.py:3: SettingWithCopyWarning: \n",
      "A value is trying to be set on a copy of a slice from a DataFrame\n",
      "\n",
      "See the caveats in the documentation: https://pandas.pydata.org/pandas-docs/stable/user_guide/indexing.html#returning-a-view-versus-a-copy\n",
      "  df[\"educacion\"] = df[\"educacion\"].replace(\"priamaria\", 2, inplace=True)\n"
     ]
    }
   ],
   "source": [
    "df[\"educacion\"] = df[\"educacion\"].replace(\"secundaria/superiores\", 0, inplace=True)\n",
    "df[\"educacion\"] = df[\"educacion\"].replace(\"universitarios\", 1, inplace=True)\n",
    "df[\"educacion\"] = df[\"educacion\"].replace(\"priamaria\", 2, inplace=True)"
   ]
  },
  {
   "cell_type": "code",
   "execution_count": 200,
   "id": "cc455e4d",
   "metadata": {},
   "outputs": [
    {
     "data": {
      "text/plain": [
       "array([[1.0000e+00, 4.0000e+01, 1.0000e+00, ..., 1.0000e+00, 0.0000e+00,\n",
       "        0.0000e+00],\n",
       "       [2.0000e+00, 4.7000e+01, 7.0000e+00, ..., 1.0000e+00, 0.0000e+00,\n",
       "        0.0000e+00],\n",
       "       [3.0000e+00, 2.5000e+01, 8.0000e+00, ..., 1.0000e+00, 0.0000e+00,\n",
       "        0.0000e+00],\n",
       "       ...,\n",
       "       [4.4254e+04, 5.1000e+01, 1.0000e+00, ..., 1.0000e+00, 0.0000e+00,\n",
       "        0.0000e+00],\n",
       "       [4.4255e+04, 2.9000e+01, 1.0000e+00, ..., 1.0000e+00, 0.0000e+00,\n",
       "        0.0000e+00],\n",
       "       [4.4256e+04, 3.2000e+01, 9.0000e+00, ..., 1.0000e+00, 0.0000e+00,\n",
       "        0.0000e+00]])"
      ]
     },
     "execution_count": 200,
     "metadata": {},
     "output_type": "execute_result"
    }
   ],
   "source": [
    "from sklearn.impute import KNNImputer\n",
    "\n",
    "imputer = KNNImputer(n_neighbors = 3)\n",
    "\n",
    "df_num_imp = imputer.fit_transform(df)\n",
    "\n",
    "df_num_imp"
   ]
  },
  {
   "cell_type": "code",
   "execution_count": 201,
   "id": "6c23aaba",
   "metadata": {},
   "outputs": [
    {
     "name": "stderr",
     "output_type": "stream",
     "text": [
      "C:\\Users\\ignci\\AppData\\Local\\Temp\\ipykernel_15708\\2059748871.py:1: SettingWithCopyWarning: \n",
      "A value is trying to be set on a copy of a slice from a DataFrame\n",
      "\n",
      "See the caveats in the documentation: https://pandas.pydata.org/pandas-docs/stable/user_guide/indexing.html#returning-a-view-versus-a-copy\n",
      "  df[\"educacion\"] = df[\"educacion\"].replace(0, \"secundaria/superiores\", inplace=True)\n",
      "C:\\Users\\ignci\\AppData\\Local\\Temp\\ipykernel_15708\\2059748871.py:2: SettingWithCopyWarning: \n",
      "A value is trying to be set on a copy of a slice from a DataFrame\n",
      "\n",
      "See the caveats in the documentation: https://pandas.pydata.org/pandas-docs/stable/user_guide/indexing.html#returning-a-view-versus-a-copy\n",
      "  df[\"educacion\"] = df[\"educacion\"].replace(1, \"universitarios\", inplace=True)\n",
      "C:\\Users\\ignci\\AppData\\Local\\Temp\\ipykernel_15708\\2059748871.py:3: SettingWithCopyWarning: \n",
      "A value is trying to be set on a copy of a slice from a DataFrame\n",
      "\n",
      "See the caveats in the documentation: https://pandas.pydata.org/pandas-docs/stable/user_guide/indexing.html#returning-a-view-versus-a-copy\n",
      "  df[\"educacion\"] = df[\"educacion\"].replace(2, \"priamaria\", inplace=True)\n"
     ]
    }
   ],
   "source": [
    "df[\"educacion\"] = df[\"educacion\"].replace(0, \"secundaria/superiores\", inplace=True)\n",
    "df[\"educacion\"] = df[\"educacion\"].replace(1, \"universitarios\", inplace=True)\n",
    "df[\"educacion\"] = df[\"educacion\"].replace(2, \"priamaria\", inplace=True)"
   ]
  },
  {
   "cell_type": "code",
   "execution_count": 202,
   "id": "eca3024f",
   "metadata": {},
   "outputs": [],
   "source": [
    "\n",
    "df_imp = pd.DataFrame(df, columns = df.columns)\n"
   ]
  },
  {
   "cell_type": "code",
   "execution_count": 204,
   "id": "3ceae4e5",
   "metadata": {},
   "outputs": [
    {
     "ename": "KeyError",
     "evalue": "\"['educacion'] not found in axis\"",
     "output_type": "error",
     "traceback": [
      "\u001b[1;31m---------------------------------------------------------------------------\u001b[0m",
      "\u001b[1;31mKeyError\u001b[0m                                  Traceback (most recent call last)",
      "\u001b[1;32m~\\AppData\\Local\\Temp\\ipykernel_15708\\2264061917.py\u001b[0m in \u001b[0;36m<module>\u001b[1;34m\u001b[0m\n\u001b[0;32m      1\u001b[0m \u001b[0mdf_educacion\u001b[0m \u001b[1;33m=\u001b[0m \u001b[0mpd\u001b[0m\u001b[1;33m.\u001b[0m\u001b[0mget_dummies\u001b[0m\u001b[1;33m(\u001b[0m\u001b[0mdf_imp\u001b[0m\u001b[1;33m[\u001b[0m\u001b[1;34m\"educacion\"\u001b[0m\u001b[1;33m]\u001b[0m\u001b[1;33m)\u001b[0m\u001b[1;33m\u001b[0m\u001b[1;33m\u001b[0m\u001b[0m\n\u001b[0;32m      2\u001b[0m \u001b[0mdf\u001b[0m \u001b[1;33m=\u001b[0m \u001b[0mpd\u001b[0m\u001b[1;33m.\u001b[0m\u001b[0mconcat\u001b[0m\u001b[1;33m(\u001b[0m\u001b[1;33m[\u001b[0m\u001b[0mdf\u001b[0m\u001b[1;33m,\u001b[0m \u001b[0mdf_educacion\u001b[0m\u001b[1;33m]\u001b[0m\u001b[1;33m,\u001b[0m \u001b[0maxis\u001b[0m\u001b[1;33m=\u001b[0m\u001b[1;36m1\u001b[0m\u001b[1;33m)\u001b[0m\u001b[1;33m\u001b[0m\u001b[1;33m\u001b[0m\u001b[0m\n\u001b[1;32m----> 3\u001b[1;33m \u001b[0mdf\u001b[0m\u001b[1;33m.\u001b[0m\u001b[0mdrop\u001b[0m\u001b[1;33m(\u001b[0m\u001b[1;34m\"educacion\"\u001b[0m\u001b[1;33m,\u001b[0m \u001b[0minplace\u001b[0m\u001b[1;33m=\u001b[0m\u001b[1;32mTrue\u001b[0m\u001b[1;33m)\u001b[0m\u001b[1;33m\u001b[0m\u001b[1;33m\u001b[0m\u001b[0m\n\u001b[0m",
      "\u001b[1;32m~\\anaconda3\\lib\\site-packages\\pandas\\util\\_decorators.py\u001b[0m in \u001b[0;36mwrapper\u001b[1;34m(*args, **kwargs)\u001b[0m\n\u001b[0;32m    309\u001b[0m                     \u001b[0mstacklevel\u001b[0m\u001b[1;33m=\u001b[0m\u001b[0mstacklevel\u001b[0m\u001b[1;33m,\u001b[0m\u001b[1;33m\u001b[0m\u001b[1;33m\u001b[0m\u001b[0m\n\u001b[0;32m    310\u001b[0m                 )\n\u001b[1;32m--> 311\u001b[1;33m             \u001b[1;32mreturn\u001b[0m \u001b[0mfunc\u001b[0m\u001b[1;33m(\u001b[0m\u001b[1;33m*\u001b[0m\u001b[0margs\u001b[0m\u001b[1;33m,\u001b[0m \u001b[1;33m**\u001b[0m\u001b[0mkwargs\u001b[0m\u001b[1;33m)\u001b[0m\u001b[1;33m\u001b[0m\u001b[1;33m\u001b[0m\u001b[0m\n\u001b[0m\u001b[0;32m    312\u001b[0m \u001b[1;33m\u001b[0m\u001b[0m\n\u001b[0;32m    313\u001b[0m         \u001b[1;32mreturn\u001b[0m \u001b[0mwrapper\u001b[0m\u001b[1;33m\u001b[0m\u001b[1;33m\u001b[0m\u001b[0m\n",
      "\u001b[1;32m~\\anaconda3\\lib\\site-packages\\pandas\\core\\frame.py\u001b[0m in \u001b[0;36mdrop\u001b[1;34m(self, labels, axis, index, columns, level, inplace, errors)\u001b[0m\n\u001b[0;32m   4955\u001b[0m                 \u001b[0mweight\u001b[0m  \u001b[1;36m1.0\u001b[0m     \u001b[1;36m0.8\u001b[0m\u001b[1;33m\u001b[0m\u001b[1;33m\u001b[0m\u001b[0m\n\u001b[0;32m   4956\u001b[0m         \"\"\"\n\u001b[1;32m-> 4957\u001b[1;33m         return super().drop(\n\u001b[0m\u001b[0;32m   4958\u001b[0m             \u001b[0mlabels\u001b[0m\u001b[1;33m=\u001b[0m\u001b[0mlabels\u001b[0m\u001b[1;33m,\u001b[0m\u001b[1;33m\u001b[0m\u001b[1;33m\u001b[0m\u001b[0m\n\u001b[0;32m   4959\u001b[0m             \u001b[0maxis\u001b[0m\u001b[1;33m=\u001b[0m\u001b[0maxis\u001b[0m\u001b[1;33m,\u001b[0m\u001b[1;33m\u001b[0m\u001b[1;33m\u001b[0m\u001b[0m\n",
      "\u001b[1;32m~\\anaconda3\\lib\\site-packages\\pandas\\core\\generic.py\u001b[0m in \u001b[0;36mdrop\u001b[1;34m(self, labels, axis, index, columns, level, inplace, errors)\u001b[0m\n\u001b[0;32m   4265\u001b[0m         \u001b[1;32mfor\u001b[0m \u001b[0maxis\u001b[0m\u001b[1;33m,\u001b[0m \u001b[0mlabels\u001b[0m \u001b[1;32min\u001b[0m \u001b[0maxes\u001b[0m\u001b[1;33m.\u001b[0m\u001b[0mitems\u001b[0m\u001b[1;33m(\u001b[0m\u001b[1;33m)\u001b[0m\u001b[1;33m:\u001b[0m\u001b[1;33m\u001b[0m\u001b[1;33m\u001b[0m\u001b[0m\n\u001b[0;32m   4266\u001b[0m             \u001b[1;32mif\u001b[0m \u001b[0mlabels\u001b[0m \u001b[1;32mis\u001b[0m \u001b[1;32mnot\u001b[0m \u001b[1;32mNone\u001b[0m\u001b[1;33m:\u001b[0m\u001b[1;33m\u001b[0m\u001b[1;33m\u001b[0m\u001b[0m\n\u001b[1;32m-> 4267\u001b[1;33m                 \u001b[0mobj\u001b[0m \u001b[1;33m=\u001b[0m \u001b[0mobj\u001b[0m\u001b[1;33m.\u001b[0m\u001b[0m_drop_axis\u001b[0m\u001b[1;33m(\u001b[0m\u001b[0mlabels\u001b[0m\u001b[1;33m,\u001b[0m \u001b[0maxis\u001b[0m\u001b[1;33m,\u001b[0m \u001b[0mlevel\u001b[0m\u001b[1;33m=\u001b[0m\u001b[0mlevel\u001b[0m\u001b[1;33m,\u001b[0m \u001b[0merrors\u001b[0m\u001b[1;33m=\u001b[0m\u001b[0merrors\u001b[0m\u001b[1;33m)\u001b[0m\u001b[1;33m\u001b[0m\u001b[1;33m\u001b[0m\u001b[0m\n\u001b[0m\u001b[0;32m   4268\u001b[0m \u001b[1;33m\u001b[0m\u001b[0m\n\u001b[0;32m   4269\u001b[0m         \u001b[1;32mif\u001b[0m \u001b[0minplace\u001b[0m\u001b[1;33m:\u001b[0m\u001b[1;33m\u001b[0m\u001b[1;33m\u001b[0m\u001b[0m\n",
      "\u001b[1;32m~\\anaconda3\\lib\\site-packages\\pandas\\core\\generic.py\u001b[0m in \u001b[0;36m_drop_axis\u001b[1;34m(self, labels, axis, level, errors, consolidate, only_slice)\u001b[0m\n\u001b[0;32m   4309\u001b[0m                 \u001b[0mnew_axis\u001b[0m \u001b[1;33m=\u001b[0m \u001b[0maxis\u001b[0m\u001b[1;33m.\u001b[0m\u001b[0mdrop\u001b[0m\u001b[1;33m(\u001b[0m\u001b[0mlabels\u001b[0m\u001b[1;33m,\u001b[0m \u001b[0mlevel\u001b[0m\u001b[1;33m=\u001b[0m\u001b[0mlevel\u001b[0m\u001b[1;33m,\u001b[0m \u001b[0merrors\u001b[0m\u001b[1;33m=\u001b[0m\u001b[0merrors\u001b[0m\u001b[1;33m)\u001b[0m\u001b[1;33m\u001b[0m\u001b[1;33m\u001b[0m\u001b[0m\n\u001b[0;32m   4310\u001b[0m             \u001b[1;32melse\u001b[0m\u001b[1;33m:\u001b[0m\u001b[1;33m\u001b[0m\u001b[1;33m\u001b[0m\u001b[0m\n\u001b[1;32m-> 4311\u001b[1;33m                 \u001b[0mnew_axis\u001b[0m \u001b[1;33m=\u001b[0m \u001b[0maxis\u001b[0m\u001b[1;33m.\u001b[0m\u001b[0mdrop\u001b[0m\u001b[1;33m(\u001b[0m\u001b[0mlabels\u001b[0m\u001b[1;33m,\u001b[0m \u001b[0merrors\u001b[0m\u001b[1;33m=\u001b[0m\u001b[0merrors\u001b[0m\u001b[1;33m)\u001b[0m\u001b[1;33m\u001b[0m\u001b[1;33m\u001b[0m\u001b[0m\n\u001b[0m\u001b[0;32m   4312\u001b[0m             \u001b[0mindexer\u001b[0m \u001b[1;33m=\u001b[0m \u001b[0maxis\u001b[0m\u001b[1;33m.\u001b[0m\u001b[0mget_indexer\u001b[0m\u001b[1;33m(\u001b[0m\u001b[0mnew_axis\u001b[0m\u001b[1;33m)\u001b[0m\u001b[1;33m\u001b[0m\u001b[1;33m\u001b[0m\u001b[0m\n\u001b[0;32m   4313\u001b[0m \u001b[1;33m\u001b[0m\u001b[0m\n",
      "\u001b[1;32m~\\anaconda3\\lib\\site-packages\\pandas\\core\\indexes\\base.py\u001b[0m in \u001b[0;36mdrop\u001b[1;34m(self, labels, errors)\u001b[0m\n\u001b[0;32m   6659\u001b[0m         \u001b[1;32mif\u001b[0m \u001b[0mmask\u001b[0m\u001b[1;33m.\u001b[0m\u001b[0many\u001b[0m\u001b[1;33m(\u001b[0m\u001b[1;33m)\u001b[0m\u001b[1;33m:\u001b[0m\u001b[1;33m\u001b[0m\u001b[1;33m\u001b[0m\u001b[0m\n\u001b[0;32m   6660\u001b[0m             \u001b[1;32mif\u001b[0m \u001b[0merrors\u001b[0m \u001b[1;33m!=\u001b[0m \u001b[1;34m\"ignore\"\u001b[0m\u001b[1;33m:\u001b[0m\u001b[1;33m\u001b[0m\u001b[1;33m\u001b[0m\u001b[0m\n\u001b[1;32m-> 6661\u001b[1;33m                 \u001b[1;32mraise\u001b[0m \u001b[0mKeyError\u001b[0m\u001b[1;33m(\u001b[0m\u001b[1;34mf\"{list(labels[mask])} not found in axis\"\u001b[0m\u001b[1;33m)\u001b[0m\u001b[1;33m\u001b[0m\u001b[1;33m\u001b[0m\u001b[0m\n\u001b[0m\u001b[0;32m   6662\u001b[0m             \u001b[0mindexer\u001b[0m \u001b[1;33m=\u001b[0m \u001b[0mindexer\u001b[0m\u001b[1;33m[\u001b[0m\u001b[1;33m~\u001b[0m\u001b[0mmask\u001b[0m\u001b[1;33m]\u001b[0m\u001b[1;33m\u001b[0m\u001b[1;33m\u001b[0m\u001b[0m\n\u001b[0;32m   6663\u001b[0m         \u001b[1;32mreturn\u001b[0m \u001b[0mself\u001b[0m\u001b[1;33m.\u001b[0m\u001b[0mdelete\u001b[0m\u001b[1;33m(\u001b[0m\u001b[0mindexer\u001b[0m\u001b[1;33m)\u001b[0m\u001b[1;33m\u001b[0m\u001b[1;33m\u001b[0m\u001b[0m\n",
      "\u001b[1;31mKeyError\u001b[0m: \"['educacion'] not found in axis\""
     ]
    }
   ],
   "source": [
    "df_educacion = pd.get_dummies(df_imp[\"educacion\"])\n",
    "df = pd.concat([df, df_educacion], axis=1)\n",
    "df.drop(\"educacion\", inplace=True)"
   ]
  },
  {
   "cell_type": "code",
   "execution_count": 149,
   "id": "83c96869",
   "metadata": {},
   "outputs": [
    {
     "ename": "KeyError",
     "evalue": "'educacion'",
     "output_type": "error",
     "traceback": [
      "\u001b[1;31m---------------------------------------------------------------------------\u001b[0m",
      "\u001b[1;31mKeyError\u001b[0m                                  Traceback (most recent call last)",
      "\u001b[1;32m~\\anaconda3\\lib\\site-packages\\pandas\\core\\indexes\\base.py\u001b[0m in \u001b[0;36mget_loc\u001b[1;34m(self, key, method, tolerance)\u001b[0m\n\u001b[0;32m   3628\u001b[0m             \u001b[1;32mtry\u001b[0m\u001b[1;33m:\u001b[0m\u001b[1;33m\u001b[0m\u001b[1;33m\u001b[0m\u001b[0m\n\u001b[1;32m-> 3629\u001b[1;33m                 \u001b[1;32mreturn\u001b[0m \u001b[0mself\u001b[0m\u001b[1;33m.\u001b[0m\u001b[0m_engine\u001b[0m\u001b[1;33m.\u001b[0m\u001b[0mget_loc\u001b[0m\u001b[1;33m(\u001b[0m\u001b[0mcasted_key\u001b[0m\u001b[1;33m)\u001b[0m\u001b[1;33m\u001b[0m\u001b[1;33m\u001b[0m\u001b[0m\n\u001b[0m\u001b[0;32m   3630\u001b[0m             \u001b[1;32mexcept\u001b[0m \u001b[0mKeyError\u001b[0m \u001b[1;32mas\u001b[0m \u001b[0merr\u001b[0m\u001b[1;33m:\u001b[0m\u001b[1;33m\u001b[0m\u001b[1;33m\u001b[0m\u001b[0m\n",
      "\u001b[1;32m~\\anaconda3\\lib\\site-packages\\pandas\\_libs\\index.pyx\u001b[0m in \u001b[0;36mpandas._libs.index.IndexEngine.get_loc\u001b[1;34m()\u001b[0m\n",
      "\u001b[1;32m~\\anaconda3\\lib\\site-packages\\pandas\\_libs\\index.pyx\u001b[0m in \u001b[0;36mpandas._libs.index.IndexEngine.get_loc\u001b[1;34m()\u001b[0m\n",
      "\u001b[1;32m~\\anaconda3\\lib\\site-packages\\pandas\\_libs\\index.pyx\u001b[0m in \u001b[0;36mpandas._libs.index.IndexEngine._get_loc_duplicates\u001b[1;34m()\u001b[0m\n",
      "\u001b[1;32m~\\anaconda3\\lib\\site-packages\\pandas\\_libs\\index.pyx\u001b[0m in \u001b[0;36mpandas._libs.index.IndexEngine._maybe_get_bool_indexer\u001b[1;34m()\u001b[0m\n",
      "\u001b[1;32m~\\anaconda3\\lib\\site-packages\\pandas\\_libs\\index.pyx\u001b[0m in \u001b[0;36mpandas._libs.index._unpack_bool_indexer\u001b[1;34m()\u001b[0m\n",
      "\u001b[1;31mKeyError\u001b[0m: 'educacion'",
      "\nThe above exception was the direct cause of the following exception:\n",
      "\u001b[1;31mKeyError\u001b[0m                                  Traceback (most recent call last)",
      "\u001b[1;32m~\\AppData\\Local\\Temp\\ipykernel_15708\\803312090.py\u001b[0m in \u001b[0;36m<module>\u001b[1;34m\u001b[0m\n\u001b[1;32m----> 1\u001b[1;33m \u001b[0mCounter\u001b[0m\u001b[1;33m(\u001b[0m\u001b[0mdf\u001b[0m\u001b[1;33m[\u001b[0m\u001b[1;34m\"educacion\"\u001b[0m\u001b[1;33m]\u001b[0m\u001b[1;33m)\u001b[0m\u001b[1;33m\u001b[0m\u001b[1;33m\u001b[0m\u001b[0m\n\u001b[0m",
      "\u001b[1;32m~\\anaconda3\\lib\\site-packages\\pandas\\core\\frame.py\u001b[0m in \u001b[0;36m__getitem__\u001b[1;34m(self, key)\u001b[0m\n\u001b[0;32m   3503\u001b[0m             \u001b[1;32mif\u001b[0m \u001b[0mself\u001b[0m\u001b[1;33m.\u001b[0m\u001b[0mcolumns\u001b[0m\u001b[1;33m.\u001b[0m\u001b[0mnlevels\u001b[0m \u001b[1;33m>\u001b[0m \u001b[1;36m1\u001b[0m\u001b[1;33m:\u001b[0m\u001b[1;33m\u001b[0m\u001b[1;33m\u001b[0m\u001b[0m\n\u001b[0;32m   3504\u001b[0m                 \u001b[1;32mreturn\u001b[0m \u001b[0mself\u001b[0m\u001b[1;33m.\u001b[0m\u001b[0m_getitem_multilevel\u001b[0m\u001b[1;33m(\u001b[0m\u001b[0mkey\u001b[0m\u001b[1;33m)\u001b[0m\u001b[1;33m\u001b[0m\u001b[1;33m\u001b[0m\u001b[0m\n\u001b[1;32m-> 3505\u001b[1;33m             \u001b[0mindexer\u001b[0m \u001b[1;33m=\u001b[0m \u001b[0mself\u001b[0m\u001b[1;33m.\u001b[0m\u001b[0mcolumns\u001b[0m\u001b[1;33m.\u001b[0m\u001b[0mget_loc\u001b[0m\u001b[1;33m(\u001b[0m\u001b[0mkey\u001b[0m\u001b[1;33m)\u001b[0m\u001b[1;33m\u001b[0m\u001b[1;33m\u001b[0m\u001b[0m\n\u001b[0m\u001b[0;32m   3506\u001b[0m             \u001b[1;32mif\u001b[0m \u001b[0mis_integer\u001b[0m\u001b[1;33m(\u001b[0m\u001b[0mindexer\u001b[0m\u001b[1;33m)\u001b[0m\u001b[1;33m:\u001b[0m\u001b[1;33m\u001b[0m\u001b[1;33m\u001b[0m\u001b[0m\n\u001b[0;32m   3507\u001b[0m                 \u001b[0mindexer\u001b[0m \u001b[1;33m=\u001b[0m \u001b[1;33m[\u001b[0m\u001b[0mindexer\u001b[0m\u001b[1;33m]\u001b[0m\u001b[1;33m\u001b[0m\u001b[1;33m\u001b[0m\u001b[0m\n",
      "\u001b[1;32m~\\anaconda3\\lib\\site-packages\\pandas\\core\\indexes\\base.py\u001b[0m in \u001b[0;36mget_loc\u001b[1;34m(self, key, method, tolerance)\u001b[0m\n\u001b[0;32m   3629\u001b[0m                 \u001b[1;32mreturn\u001b[0m \u001b[0mself\u001b[0m\u001b[1;33m.\u001b[0m\u001b[0m_engine\u001b[0m\u001b[1;33m.\u001b[0m\u001b[0mget_loc\u001b[0m\u001b[1;33m(\u001b[0m\u001b[0mcasted_key\u001b[0m\u001b[1;33m)\u001b[0m\u001b[1;33m\u001b[0m\u001b[1;33m\u001b[0m\u001b[0m\n\u001b[0;32m   3630\u001b[0m             \u001b[1;32mexcept\u001b[0m \u001b[0mKeyError\u001b[0m \u001b[1;32mas\u001b[0m \u001b[0merr\u001b[0m\u001b[1;33m:\u001b[0m\u001b[1;33m\u001b[0m\u001b[1;33m\u001b[0m\u001b[0m\n\u001b[1;32m-> 3631\u001b[1;33m                 \u001b[1;32mraise\u001b[0m \u001b[0mKeyError\u001b[0m\u001b[1;33m(\u001b[0m\u001b[0mkey\u001b[0m\u001b[1;33m)\u001b[0m \u001b[1;32mfrom\u001b[0m \u001b[0merr\u001b[0m\u001b[1;33m\u001b[0m\u001b[1;33m\u001b[0m\u001b[0m\n\u001b[0m\u001b[0;32m   3632\u001b[0m             \u001b[1;32mexcept\u001b[0m \u001b[0mTypeError\u001b[0m\u001b[1;33m:\u001b[0m\u001b[1;33m\u001b[0m\u001b[1;33m\u001b[0m\u001b[0m\n\u001b[0;32m   3633\u001b[0m                 \u001b[1;31m# If we have a listlike key, _check_indexing_error will raise\u001b[0m\u001b[1;33m\u001b[0m\u001b[1;33m\u001b[0m\u001b[0m\n",
      "\u001b[1;31mKeyError\u001b[0m: 'educacion'"
     ]
    }
   ],
   "source": [
    "Counter(df[\"educacion\"])"
   ]
  },
  {
   "cell_type": "code",
   "execution_count": null,
   "id": "ddf1ee15",
   "metadata": {},
   "outputs": [],
   "source": []
  },
  {
   "cell_type": "code",
   "execution_count": 5,
   "id": "2d46631f",
   "metadata": {},
   "outputs": [],
   "source": [
    "df.drop(\"ID\", axis=1, inplace=True)"
   ]
  },
  {
   "cell_type": "code",
   "execution_count": 11,
   "id": "c6cc8eb3",
   "metadata": {},
   "outputs": [
    {
     "data": {
      "text/plain": [
       "<AxesSubplot:xlabel='estado_civil', ylabel='Count'>"
      ]
     },
     "execution_count": 11,
     "metadata": {},
     "output_type": "execute_result"
    },
    {
     "data": {
      "image/png": "[encoded data removed]",
      "text/plain": [
       "<Figure size 640x480 with 1 Axes>"
      ]
     },
     "metadata": {},
     "output_type": "display_data"
    }
   ],
   "source": [
    "sns.histplot(x = df[\"estado_civil\"])"
   ]
  },
  {
   "cell_type": "code",
   "execution_count": 14,
   "id": "da552369",
   "metadata": {},
   "outputs": [
    {
     "data": {
      "text/plain": [
       "<AxesSubplot:xlabel='edad', ylabel='Density'>"
      ]
     },
     "execution_count": 14,
     "metadata": {},
     "output_type": "execute_result"
    },
    {
     "data": {
      "image/png": "[encoded data removed]",
      "text/plain": [
       "<Figure size 640x480 with 1 Axes>"
      ]
     },
     "metadata": {},
     "output_type": "display_data"
    }
   ],
   "source": [
    "sns.kdeplot(x = df[\"edad\"])"
   ]
  },
  {
   "cell_type": "code",
   "execution_count": 16,
   "id": "42278a66",
   "metadata": {},
   "outputs": [
    {
     "data": {
      "text/plain": [
       "<AxesSubplot:xlabel='educacion', ylabel='Count'>"
      ]
     },
     "execution_count": 16,
     "metadata": {},
     "output_type": "execute_result"
    },
    {
     "data": {
      "image/png": "[encoded data removed]",
      "text/plain": [
       "<Figure size 640x480 with 1 Axes>"
      ]
     },
     "metadata": {},
     "output_type": "display_data"
    }
   ],
   "source": [
    "sns.histplot(x = df[\"educacion\"])"
   ]
  },
  {
   "cell_type": "code",
   "execution_count": 17,
   "id": "f2b13c3f",
   "metadata": {},
   "outputs": [
    {
     "data": {
      "text/plain": [
       "<AxesSubplot:xlabel='deuda', ylabel='Count'>"
      ]
     },
     "execution_count": 17,
     "metadata": {},
     "output_type": "execute_result"
    },
    {
     "data": {
      "image/png": "[encoded data removed]",
      "text/plain": [
       "<Figure size 640x480 with 1 Axes>"
      ]
     },
     "metadata": {},
     "output_type": "display_data"
    }
   ],
   "source": [
    "sns.histplot(x = df[\"deuda\"])"
   ]
  },
  {
   "cell_type": "code",
   "execution_count": 18,
   "id": "47518f99",
   "metadata": {},
   "outputs": [
    {
     "data": {
      "text/plain": [
       "<AxesSubplot:xlabel='saldo', ylabel='Density'>"
      ]
     },
     "execution_count": 18,
     "metadata": {},
     "output_type": "execute_result"
    },
    {
     "data": {
      "image/png": "[encoded data removed]",
      "text/plain": [
       "<Figure size 640x480 with 1 Axes>"
      ]
     },
     "metadata": {},
     "output_type": "display_data"
    }
   ],
   "source": [
    "sns.kdeplot(x = df[\"saldo\"])"
   ]
  },
  {
   "cell_type": "code",
   "execution_count": 19,
   "id": "01a84c93",
   "metadata": {},
   "outputs": [
    {
     "data": {
      "text/plain": [
       "<AxesSubplot:xlabel='vivienda', ylabel='Count'>"
      ]
     },
     "execution_count": 19,
     "metadata": {},
     "output_type": "execute_result"
    },
    {
     "data": {
      "image/png": "[encoded data removed]",
      "text/plain": [
       "<Figure size 640x480 with 1 Axes>"
      ]
     },
     "metadata": {},
     "output_type": "display_data"
    }
   ],
   "source": [
    "sns.histplot(x = df[\"vivienda\"])"
   ]
  },
  {
   "cell_type": "code",
   "execution_count": 20,
   "id": "83703e64",
   "metadata": {},
   "outputs": [
    {
     "data": {
      "text/plain": [
       "<AxesSubplot:xlabel='prestamo', ylabel='Count'>"
      ]
     },
     "execution_count": 20,
     "metadata": {},
     "output_type": "execute_result"
    },
    {
     "data": {
      "image/png": "[encoded data removed]",
      "text/plain": [
       "<Figure size 640x480 with 1 Axes>"
      ]
     },
     "metadata": {},
     "output_type": "display_data"
    }
   ],
   "source": [
    "sns.histplot(x = df[\"prestamo\"])"
   ]
  },
  {
   "cell_type": "code",
   "execution_count": 22,
   "id": "62f22395",
   "metadata": {},
   "outputs": [
    {
     "data": {
      "text/plain": [
       "<AxesSubplot:xlabel='campaign', ylabel='Density'>"
      ]
     },
     "execution_count": 22,
     "metadata": {},
     "output_type": "execute_result"
    },
    {
     "data": {
      "image/png": "[encoded data removed]",
      "text/plain": [
       "<Figure size 640x480 with 1 Axes>"
      ]
     },
     "metadata": {},
     "output_type": "display_data"
    }
   ],
   "source": [
    "sns.kdeplot(x = df[\"campaign\"])"
   ]
  },
  {
   "cell_type": "code",
   "execution_count": 23,
   "id": "3bf9d540",
   "metadata": {},
   "outputs": [
    {
     "data": {
      "text/plain": [
       "<AxesSubplot:xlabel='tiempo_transcurrido', ylabel='Density'>"
      ]
     },
     "execution_count": 23,
     "metadata": {},
     "output_type": "execute_result"
    },
    {
     "data": {
      "image/png": "[encoded data removed]",
      "text/plain": [
       "<Figure size 640x480 with 1 Axes>"
      ]
     },
     "metadata": {},
     "output_type": "display_data"
    }
   ],
   "source": [
    "sns.kdeplot(x = df[\"tiempo_transcurrido\"])"
   ]
  },
  {
   "cell_type": "code",
   "execution_count": 28,
   "id": "6c56695c",
   "metadata": {},
   "outputs": [
    {
     "data": {
      "text/plain": [
       "<AxesSubplot:>"
      ]
     },
     "execution_count": 28,
     "metadata": {},
     "output_type": "execute_result"
    },
    {
     "data": {
      "image/png": "[encoded data removed]",
      "text/plain": [
       "<Figure size 640x480 with 1 Axes>"
      ]
     },
     "metadata": {},
     "output_type": "display_data"
    }
   ],
   "source": [
    "sns.scatterplot(x = df[\"tiempo_transcurrido\"].value_counts().index, y = df[\"tiempo_transcurrido\"].value_counts().values)"
   ]
  },
  {
   "cell_type": "code",
   "execution_count": 31,
   "id": "581a9a05",
   "metadata": {},
   "outputs": [
    {
     "data": {
      "text/plain": [
       "<AxesSubplot:xlabel='contactos_anteriores', ylabel='Density'>"
      ]
     },
     "execution_count": 31,
     "metadata": {},
     "output_type": "execute_result"
    },
    {
     "data": {
      "image/png": "[encoded data removed]",
      "text/plain": [
       "<Figure size 640x480 with 1 Axes>"
      ]
     },
     "metadata": {},
     "output_type": "display_data"
    }
   ],
   "source": [
    "sns.kdeplot(df[\"contactos_anteriores\"])"
   ]
  },
  {
   "cell_type": "code",
   "execution_count": 42,
   "id": "eb74b3e0",
   "metadata": {},
   "outputs": [
    {
     "data": {
      "text/plain": [
       "sin_exito    4805\n",
       "otro         1808\n",
       "exito        1480\n",
       "Name: resultado_campanas_anteriores, dtype: int64"
      ]
     },
     "execution_count": 42,
     "metadata": {},
     "output_type": "execute_result"
    }
   ],
   "source": [
    "df[\"resultado_campanas_anteriores\"].value_counts()"
   ]
  },
  {
   "cell_type": "code",
   "execution_count": 47,
   "id": "b854a7e0",
   "metadata": {},
   "outputs": [
    {
     "data": {
      "text/plain": [
       "Counter({nan: 36163, 'sin_exito': 4805, 'exito': 1480, 'otro': 1808})"
      ]
     },
     "execution_count": 47,
     "metadata": {},
     "output_type": "execute_result"
    }
   ],
   "source": [
    "from collections import Counter\n",
    "\n",
    "Counter(df[\"resultado_campanas_anteriores\"])"
   ]
  },
  {
   "cell_type": "code",
   "execution_count": 49,
   "id": "e86256c6",
   "metadata": {
    "scrolled": true
   },
   "outputs": [
    {
     "data": {
      "text/html": [
       "<div>\n",
       "<style scoped>\n",
       "    .dataframe tbody tr th:only-of-type {\n",
       "        vertical-align: middle;\n",
       "    }\n",
       "\n",
       "    .dataframe tbody tr th {\n",
       "        vertical-align: top;\n",
       "    }\n",
       "\n",
       "    .dataframe thead th {\n",
       "        text-align: right;\n",
       "    }\n",
       "</style>\n",
       "<table border=\"1\" class=\"dataframe\">\n",
       "  <thead>\n",
       "    <tr style=\"text-align: right;\">\n",
       "      <th></th>\n",
       "      <th>tiempo_transcurrido</th>\n",
       "      <th>resultado_campanas_anteriores</th>\n",
       "    </tr>\n",
       "  </thead>\n",
       "  <tbody>\n",
       "    <tr>\n",
       "      <th>0</th>\n",
       "      <td>-1</td>\n",
       "      <td>NaN</td>\n",
       "    </tr>\n",
       "    <tr>\n",
       "      <th>1</th>\n",
       "      <td>-1</td>\n",
       "      <td>NaN</td>\n",
       "    </tr>\n",
       "    <tr>\n",
       "      <th>2</th>\n",
       "      <td>-1</td>\n",
       "      <td>NaN</td>\n",
       "    </tr>\n",
       "    <tr>\n",
       "      <th>3</th>\n",
       "      <td>336</td>\n",
       "      <td>sin_exito</td>\n",
       "    </tr>\n",
       "    <tr>\n",
       "      <th>4</th>\n",
       "      <td>-1</td>\n",
       "      <td>NaN</td>\n",
       "    </tr>\n",
       "    <tr>\n",
       "      <th>5</th>\n",
       "      <td>-1</td>\n",
       "      <td>NaN</td>\n",
       "    </tr>\n",
       "    <tr>\n",
       "      <th>6</th>\n",
       "      <td>-1</td>\n",
       "      <td>NaN</td>\n",
       "    </tr>\n",
       "    <tr>\n",
       "      <th>7</th>\n",
       "      <td>-1</td>\n",
       "      <td>NaN</td>\n",
       "    </tr>\n",
       "    <tr>\n",
       "      <th>8</th>\n",
       "      <td>-1</td>\n",
       "      <td>NaN</td>\n",
       "    </tr>\n",
       "    <tr>\n",
       "      <th>9</th>\n",
       "      <td>-1</td>\n",
       "      <td>NaN</td>\n",
       "    </tr>\n",
       "    <tr>\n",
       "      <th>10</th>\n",
       "      <td>-1</td>\n",
       "      <td>NaN</td>\n",
       "    </tr>\n",
       "    <tr>\n",
       "      <th>11</th>\n",
       "      <td>370</td>\n",
       "      <td>sin_exito</td>\n",
       "    </tr>\n",
       "    <tr>\n",
       "      <th>12</th>\n",
       "      <td>-1</td>\n",
       "      <td>NaN</td>\n",
       "    </tr>\n",
       "    <tr>\n",
       "      <th>13</th>\n",
       "      <td>106</td>\n",
       "      <td>sin_exito</td>\n",
       "    </tr>\n",
       "    <tr>\n",
       "      <th>14</th>\n",
       "      <td>213</td>\n",
       "      <td>sin_exito</td>\n",
       "    </tr>\n",
       "    <tr>\n",
       "      <th>15</th>\n",
       "      <td>105</td>\n",
       "      <td>exito</td>\n",
       "    </tr>\n",
       "    <tr>\n",
       "      <th>16</th>\n",
       "      <td>352</td>\n",
       "      <td>sin_exito</td>\n",
       "    </tr>\n",
       "    <tr>\n",
       "      <th>17</th>\n",
       "      <td>-1</td>\n",
       "      <td>NaN</td>\n",
       "    </tr>\n",
       "    <tr>\n",
       "      <th>18</th>\n",
       "      <td>-1</td>\n",
       "      <td>NaN</td>\n",
       "    </tr>\n",
       "    <tr>\n",
       "      <th>19</th>\n",
       "      <td>91</td>\n",
       "      <td>sin_exito</td>\n",
       "    </tr>\n",
       "    <tr>\n",
       "      <th>20</th>\n",
       "      <td>-1</td>\n",
       "      <td>NaN</td>\n",
       "    </tr>\n",
       "    <tr>\n",
       "      <th>21</th>\n",
       "      <td>-1</td>\n",
       "      <td>NaN</td>\n",
       "    </tr>\n",
       "    <tr>\n",
       "      <th>22</th>\n",
       "      <td>337</td>\n",
       "      <td>sin_exito</td>\n",
       "    </tr>\n",
       "    <tr>\n",
       "      <th>23</th>\n",
       "      <td>-1</td>\n",
       "      <td>NaN</td>\n",
       "    </tr>\n",
       "    <tr>\n",
       "      <th>24</th>\n",
       "      <td>-1</td>\n",
       "      <td>NaN</td>\n",
       "    </tr>\n",
       "    <tr>\n",
       "      <th>25</th>\n",
       "      <td>-1</td>\n",
       "      <td>NaN</td>\n",
       "    </tr>\n",
       "    <tr>\n",
       "      <th>26</th>\n",
       "      <td>-1</td>\n",
       "      <td>NaN</td>\n",
       "    </tr>\n",
       "    <tr>\n",
       "      <th>27</th>\n",
       "      <td>-1</td>\n",
       "      <td>NaN</td>\n",
       "    </tr>\n",
       "    <tr>\n",
       "      <th>28</th>\n",
       "      <td>-1</td>\n",
       "      <td>NaN</td>\n",
       "    </tr>\n",
       "    <tr>\n",
       "      <th>29</th>\n",
       "      <td>-1</td>\n",
       "      <td>NaN</td>\n",
       "    </tr>\n",
       "    <tr>\n",
       "      <th>30</th>\n",
       "      <td>110</td>\n",
       "      <td>sin_exito</td>\n",
       "    </tr>\n",
       "    <tr>\n",
       "      <th>31</th>\n",
       "      <td>-1</td>\n",
       "      <td>NaN</td>\n",
       "    </tr>\n",
       "    <tr>\n",
       "      <th>32</th>\n",
       "      <td>-1</td>\n",
       "      <td>NaN</td>\n",
       "    </tr>\n",
       "    <tr>\n",
       "      <th>33</th>\n",
       "      <td>-1</td>\n",
       "      <td>NaN</td>\n",
       "    </tr>\n",
       "    <tr>\n",
       "      <th>34</th>\n",
       "      <td>26</td>\n",
       "      <td>exito</td>\n",
       "    </tr>\n",
       "    <tr>\n",
       "      <th>35</th>\n",
       "      <td>-1</td>\n",
       "      <td>NaN</td>\n",
       "    </tr>\n",
       "    <tr>\n",
       "      <th>36</th>\n",
       "      <td>-1</td>\n",
       "      <td>NaN</td>\n",
       "    </tr>\n",
       "    <tr>\n",
       "      <th>37</th>\n",
       "      <td>-1</td>\n",
       "      <td>NaN</td>\n",
       "    </tr>\n",
       "    <tr>\n",
       "      <th>38</th>\n",
       "      <td>-1</td>\n",
       "      <td>NaN</td>\n",
       "    </tr>\n",
       "    <tr>\n",
       "      <th>39</th>\n",
       "      <td>-1</td>\n",
       "      <td>NaN</td>\n",
       "    </tr>\n",
       "    <tr>\n",
       "      <th>40</th>\n",
       "      <td>-1</td>\n",
       "      <td>NaN</td>\n",
       "    </tr>\n",
       "    <tr>\n",
       "      <th>41</th>\n",
       "      <td>-1</td>\n",
       "      <td>NaN</td>\n",
       "    </tr>\n",
       "    <tr>\n",
       "      <th>42</th>\n",
       "      <td>-1</td>\n",
       "      <td>NaN</td>\n",
       "    </tr>\n",
       "    <tr>\n",
       "      <th>43</th>\n",
       "      <td>-1</td>\n",
       "      <td>NaN</td>\n",
       "    </tr>\n",
       "    <tr>\n",
       "      <th>44</th>\n",
       "      <td>364</td>\n",
       "      <td>sin_exito</td>\n",
       "    </tr>\n",
       "    <tr>\n",
       "      <th>45</th>\n",
       "      <td>-1</td>\n",
       "      <td>NaN</td>\n",
       "    </tr>\n",
       "    <tr>\n",
       "      <th>46</th>\n",
       "      <td>-1</td>\n",
       "      <td>NaN</td>\n",
       "    </tr>\n",
       "    <tr>\n",
       "      <th>47</th>\n",
       "      <td>-1</td>\n",
       "      <td>NaN</td>\n",
       "    </tr>\n",
       "    <tr>\n",
       "      <th>48</th>\n",
       "      <td>178</td>\n",
       "      <td>exito</td>\n",
       "    </tr>\n",
       "    <tr>\n",
       "      <th>49</th>\n",
       "      <td>-1</td>\n",
       "      <td>NaN</td>\n",
       "    </tr>\n",
       "    <tr>\n",
       "      <th>50</th>\n",
       "      <td>269</td>\n",
       "      <td>sin_exito</td>\n",
       "    </tr>\n",
       "    <tr>\n",
       "      <th>51</th>\n",
       "      <td>-1</td>\n",
       "      <td>NaN</td>\n",
       "    </tr>\n",
       "    <tr>\n",
       "      <th>52</th>\n",
       "      <td>-1</td>\n",
       "      <td>NaN</td>\n",
       "    </tr>\n",
       "    <tr>\n",
       "      <th>53</th>\n",
       "      <td>-1</td>\n",
       "      <td>NaN</td>\n",
       "    </tr>\n",
       "    <tr>\n",
       "      <th>54</th>\n",
       "      <td>-1</td>\n",
       "      <td>NaN</td>\n",
       "    </tr>\n",
       "    <tr>\n",
       "      <th>55</th>\n",
       "      <td>-1</td>\n",
       "      <td>NaN</td>\n",
       "    </tr>\n",
       "    <tr>\n",
       "      <th>56</th>\n",
       "      <td>-1</td>\n",
       "      <td>NaN</td>\n",
       "    </tr>\n",
       "    <tr>\n",
       "      <th>57</th>\n",
       "      <td>-1</td>\n",
       "      <td>NaN</td>\n",
       "    </tr>\n",
       "    <tr>\n",
       "      <th>58</th>\n",
       "      <td>-1</td>\n",
       "      <td>NaN</td>\n",
       "    </tr>\n",
       "    <tr>\n",
       "      <th>59</th>\n",
       "      <td>-1</td>\n",
       "      <td>NaN</td>\n",
       "    </tr>\n",
       "  </tbody>\n",
       "</table>\n",
       "</div>"
      ],
      "text/plain": [
       "    tiempo_transcurrido resultado_campanas_anteriores\n",
       "0                    -1                           NaN\n",
       "1                    -1                           NaN\n",
       "2                    -1                           NaN\n",
       "3                   336                     sin_exito\n",
       "4                    -1                           NaN\n",
       "5                    -1                           NaN\n",
       "6                    -1                           NaN\n",
       "7                    -1                           NaN\n",
       "8                    -1                           NaN\n",
       "9                    -1                           NaN\n",
       "10                   -1                           NaN\n",
       "11                  370                     sin_exito\n",
       "12                   -1                           NaN\n",
       "13                  106                     sin_exito\n",
       "14                  213                     sin_exito\n",
       "15                  105                         exito\n",
       "16                  352                     sin_exito\n",
       "17                   -1                           NaN\n",
       "18                   -1                           NaN\n",
       "19                   91                     sin_exito\n",
       "20                   -1                           NaN\n",
       "21                   -1                           NaN\n",
       "22                  337                     sin_exito\n",
       "23                   -1                           NaN\n",
       "24                   -1                           NaN\n",
       "25                   -1                           NaN\n",
       "26                   -1                           NaN\n",
       "27                   -1                           NaN\n",
       "28                   -1                           NaN\n",
       "29                   -1                           NaN\n",
       "30                  110                     sin_exito\n",
       "31                   -1                           NaN\n",
       "32                   -1                           NaN\n",
       "33                   -1                           NaN\n",
       "34                   26                         exito\n",
       "35                   -1                           NaN\n",
       "36                   -1                           NaN\n",
       "37                   -1                           NaN\n",
       "38                   -1                           NaN\n",
       "39                   -1                           NaN\n",
       "40                   -1                           NaN\n",
       "41                   -1                           NaN\n",
       "42                   -1                           NaN\n",
       "43                   -1                           NaN\n",
       "44                  364                     sin_exito\n",
       "45                   -1                           NaN\n",
       "46                   -1                           NaN\n",
       "47                   -1                           NaN\n",
       "48                  178                         exito\n",
       "49                   -1                           NaN\n",
       "50                  269                     sin_exito\n",
       "51                   -1                           NaN\n",
       "52                   -1                           NaN\n",
       "53                   -1                           NaN\n",
       "54                   -1                           NaN\n",
       "55                   -1                           NaN\n",
       "56                   -1                           NaN\n",
       "57                   -1                           NaN\n",
       "58                   -1                           NaN\n",
       "59                   -1                           NaN"
      ]
     },
     "execution_count": 49,
     "metadata": {},
     "output_type": "execute_result"
    }
   ],
   "source": [
    "df[[\"tiempo_transcurrido\", \"resultado_campanas_anteriores\"]][:60]"
   ]
  },
  {
   "cell_type": "code",
   "execution_count": 52,
   "id": "97fe7f6e",
   "metadata": {},
   "outputs": [
    {
     "data": {
      "text/plain": [
       "0          NaN\n",
       "1          NaN\n",
       "2        movil\n",
       "3        movil\n",
       "4        movil\n",
       "         ...  \n",
       "44251      NaN\n",
       "44252    movil\n",
       "44253     fijo\n",
       "44254    movil\n",
       "44255    movil\n",
       "Name: tipo_contacto, Length: 44256, dtype: object"
      ]
     },
     "execution_count": 52,
     "metadata": {},
     "output_type": "execute_result"
    }
   ],
   "source": [
    "df[\"tipo_contacto\"]"
   ]
  },
  {
   "cell_type": "code",
   "execution_count": null,
   "id": "dc9552f5",
   "metadata": {},
   "outputs": [],
   "source": []
  }
 ],
 "metadata": {
  "kernelspec": {
   "display_name": "Python 3 (ipykernel)",
   "language": "python",
   "name": "python3"
  },
  "language_info": {
   "codemirror_mode": {
    "name": "ipython",
    "version": 3
   },
   "file_extension": ".py",
   "mimetype": "text/x-python",
   "name": "python",
   "nbconvert_exporter": "python",
   "pygments_lexer": "ipython3",
   "version": "3.9.13"
  }
 },
 "nbformat": 4,
 "nbformat_minor": 5
}
